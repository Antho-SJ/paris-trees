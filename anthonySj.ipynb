{
 "cells": [
  {
   "cell_type": "code",
   "execution_count": 1,
   "id": "79c77947",
   "metadata": {},
   "outputs": [],
   "source": [
    "import pandas as pd \n",
    "import matplotlib.pyplot as plt\n",
    "import folium\n",
    "import numpy as np"
   ]
  },
  {
   "cell_type": "code",
   "execution_count": 2,
   "id": "866aad64",
   "metadata": {},
   "outputs": [
    {
     "data": {
      "text/html": [
       "<div>\n",
       "<style scoped>\n",
       "    .dataframe tbody tr th:only-of-type {\n",
       "        vertical-align: middle;\n",
       "    }\n",
       "\n",
       "    .dataframe tbody tr th {\n",
       "        vertical-align: top;\n",
       "    }\n",
       "\n",
       "    .dataframe thead th {\n",
       "        text-align: right;\n",
       "    }\n",
       "</style>\n",
       "<table border=\"1\" class=\"dataframe\">\n",
       "  <thead>\n",
       "    <tr style=\"text-align: right;\">\n",
       "      <th></th>\n",
       "      <th>id</th>\n",
       "      <th>type_emplacement</th>\n",
       "      <th>domanialite</th>\n",
       "      <th>arrondissement</th>\n",
       "      <th>complement_addresse</th>\n",
       "      <th>numero</th>\n",
       "      <th>lieu</th>\n",
       "      <th>id_emplacement</th>\n",
       "      <th>libelle_francais</th>\n",
       "      <th>genre</th>\n",
       "      <th>espece</th>\n",
       "      <th>variete</th>\n",
       "      <th>circonference_cm</th>\n",
       "      <th>hauteur_m</th>\n",
       "      <th>stade_developpement</th>\n",
       "      <th>remarquable</th>\n",
       "      <th>geo_point_2d_a</th>\n",
       "      <th>geo_point_2d_b</th>\n",
       "    </tr>\n",
       "  </thead>\n",
       "  <tbody>\n",
       "    <tr>\n",
       "      <th>0</th>\n",
       "      <td>99874</td>\n",
       "      <td>Arbre</td>\n",
       "      <td>Jardin</td>\n",
       "      <td>PARIS 7E ARRDT</td>\n",
       "      <td>NaN</td>\n",
       "      <td>NaN</td>\n",
       "      <td>MAIRIE DU 7E 116 RUE DE GRENELLE PARIS 7E</td>\n",
       "      <td>19</td>\n",
       "      <td>Marronnier</td>\n",
       "      <td>Aesculus</td>\n",
       "      <td>hippocastanum</td>\n",
       "      <td>NaN</td>\n",
       "      <td>20</td>\n",
       "      <td>5</td>\n",
       "      <td>NaN</td>\n",
       "      <td>0.0</td>\n",
       "      <td>48.857620</td>\n",
       "      <td>2.320962</td>\n",
       "    </tr>\n",
       "    <tr>\n",
       "      <th>1</th>\n",
       "      <td>99875</td>\n",
       "      <td>Arbre</td>\n",
       "      <td>Jardin</td>\n",
       "      <td>PARIS 7E ARRDT</td>\n",
       "      <td>NaN</td>\n",
       "      <td>NaN</td>\n",
       "      <td>MAIRIE DU 7E 116 RUE DE GRENELLE PARIS 7E</td>\n",
       "      <td>20</td>\n",
       "      <td>If</td>\n",
       "      <td>Taxus</td>\n",
       "      <td>baccata</td>\n",
       "      <td>NaN</td>\n",
       "      <td>65</td>\n",
       "      <td>8</td>\n",
       "      <td>A</td>\n",
       "      <td>NaN</td>\n",
       "      <td>48.857656</td>\n",
       "      <td>2.321031</td>\n",
       "    </tr>\n",
       "    <tr>\n",
       "      <th>2</th>\n",
       "      <td>99876</td>\n",
       "      <td>Arbre</td>\n",
       "      <td>Jardin</td>\n",
       "      <td>PARIS 7E ARRDT</td>\n",
       "      <td>NaN</td>\n",
       "      <td>NaN</td>\n",
       "      <td>MAIRIE DU 7E 116 RUE DE GRENELLE PARIS 7E</td>\n",
       "      <td>21</td>\n",
       "      <td>If</td>\n",
       "      <td>Taxus</td>\n",
       "      <td>baccata</td>\n",
       "      <td>NaN</td>\n",
       "      <td>90</td>\n",
       "      <td>10</td>\n",
       "      <td>A</td>\n",
       "      <td>NaN</td>\n",
       "      <td>48.857705</td>\n",
       "      <td>2.321061</td>\n",
       "    </tr>\n",
       "    <tr>\n",
       "      <th>3</th>\n",
       "      <td>99877</td>\n",
       "      <td>Arbre</td>\n",
       "      <td>Jardin</td>\n",
       "      <td>PARIS 7E ARRDT</td>\n",
       "      <td>NaN</td>\n",
       "      <td>NaN</td>\n",
       "      <td>MAIRIE DU 7E 116 RUE DE GRENELLE PARIS 7E</td>\n",
       "      <td>22</td>\n",
       "      <td>Erable</td>\n",
       "      <td>Acer</td>\n",
       "      <td>negundo</td>\n",
       "      <td>NaN</td>\n",
       "      <td>60</td>\n",
       "      <td>8</td>\n",
       "      <td>A</td>\n",
       "      <td>NaN</td>\n",
       "      <td>48.857722</td>\n",
       "      <td>2.321006</td>\n",
       "    </tr>\n",
       "    <tr>\n",
       "      <th>4</th>\n",
       "      <td>99878</td>\n",
       "      <td>Arbre</td>\n",
       "      <td>Jardin</td>\n",
       "      <td>PARIS 17E ARRDT</td>\n",
       "      <td>NaN</td>\n",
       "      <td>NaN</td>\n",
       "      <td>PARC CLICHY-BATIGNOLLES-MARTIN LUTHER KING</td>\n",
       "      <td>000G0037</td>\n",
       "      <td>Arbre à miel</td>\n",
       "      <td>Tetradium</td>\n",
       "      <td>daniellii</td>\n",
       "      <td>NaN</td>\n",
       "      <td>38</td>\n",
       "      <td>0</td>\n",
       "      <td>NaN</td>\n",
       "      <td>NaN</td>\n",
       "      <td>48.890435</td>\n",
       "      <td>2.315289</td>\n",
       "    </tr>\n",
       "  </tbody>\n",
       "</table>\n",
       "</div>"
      ],
      "text/plain": [
       "      id type_emplacement domanialite   arrondissement complement_addresse  \\\n",
       "0  99874            Arbre      Jardin   PARIS 7E ARRDT                 NaN   \n",
       "1  99875            Arbre      Jardin   PARIS 7E ARRDT                 NaN   \n",
       "2  99876            Arbre      Jardin   PARIS 7E ARRDT                 NaN   \n",
       "3  99877            Arbre      Jardin   PARIS 7E ARRDT                 NaN   \n",
       "4  99878            Arbre      Jardin  PARIS 17E ARRDT                 NaN   \n",
       "\n",
       "   numero                                        lieu id_emplacement  \\\n",
       "0     NaN   MAIRIE DU 7E 116 RUE DE GRENELLE PARIS 7E             19   \n",
       "1     NaN   MAIRIE DU 7E 116 RUE DE GRENELLE PARIS 7E             20   \n",
       "2     NaN   MAIRIE DU 7E 116 RUE DE GRENELLE PARIS 7E             21   \n",
       "3     NaN   MAIRIE DU 7E 116 RUE DE GRENELLE PARIS 7E             22   \n",
       "4     NaN  PARC CLICHY-BATIGNOLLES-MARTIN LUTHER KING       000G0037   \n",
       "\n",
       "  libelle_francais      genre         espece variete  circonference_cm  \\\n",
       "0       Marronnier   Aesculus  hippocastanum     NaN                20   \n",
       "1               If      Taxus        baccata     NaN                65   \n",
       "2               If      Taxus        baccata     NaN                90   \n",
       "3           Erable       Acer        negundo     NaN                60   \n",
       "4     Arbre à miel  Tetradium      daniellii     NaN                38   \n",
       "\n",
       "   hauteur_m stade_developpement  remarquable  geo_point_2d_a  geo_point_2d_b  \n",
       "0          5                 NaN          0.0       48.857620        2.320962  \n",
       "1          8                   A          NaN       48.857656        2.321031  \n",
       "2         10                   A          NaN       48.857705        2.321061  \n",
       "3          8                   A          NaN       48.857722        2.321006  \n",
       "4          0                 NaN          NaN       48.890435        2.315289  "
      ]
     },
     "execution_count": 2,
     "metadata": {},
     "output_type": "execute_result"
    }
   ],
   "source": [
    "df = pd.read_csv('p2-arbres-fr.csv', delimiter=';')\n",
    "df.head()"
   ]
  },
  {
   "cell_type": "code",
   "execution_count": 4,
   "id": "2305ded3",
   "metadata": {},
   "outputs": [
    {
     "name": "stdout",
     "output_type": "stream",
     "text": [
      "<class 'pandas.core.frame.DataFrame'>\n",
      "RangeIndex: 200137 entries, 0 to 200136\n",
      "Data columns (total 18 columns):\n",
      " #   Column               Non-Null Count   Dtype  \n",
      "---  ------               --------------   -----  \n",
      " 0   id                   200137 non-null  int64  \n",
      " 1   type_emplacement     200137 non-null  object \n",
      " 2   domanialite          200136 non-null  object \n",
      " 3   arrondissement       200137 non-null  object \n",
      " 4   complement_addresse  30902 non-null   object \n",
      " 5   numero               0 non-null       float64\n",
      " 6   lieu                 200137 non-null  object \n",
      " 7   id_emplacement       200137 non-null  object \n",
      " 8   libelle_francais     198640 non-null  object \n",
      " 9   genre                200121 non-null  object \n",
      " 10  espece               198385 non-null  object \n",
      " 11  variete              36777 non-null   object \n",
      " 12  circonference_cm     200137 non-null  int64  \n",
      " 13  hauteur_m            200137 non-null  int64  \n",
      " 14  stade_developpement  132932 non-null  object \n",
      " 15  remarquable          137039 non-null  float64\n",
      " 16  geo_point_2d_a       200137 non-null  float64\n",
      " 17  geo_point_2d_b       200137 non-null  float64\n",
      "dtypes: float64(4), int64(3), object(11)\n",
      "memory usage: 27.5+ MB\n"
     ]
    }
   ],
   "source": [
    "df.info()"
   ]
  },
  {
   "cell_type": "code",
   "execution_count": 6,
   "id": "70e31e74",
   "metadata": {},
   "outputs": [
    {
     "name": "stdout",
     "output_type": "stream",
     "text": [
      "Il n'y a pas de lignes en doublon\n"
     ]
    }
   ],
   "source": [
    "duplicated_rows = df.duplicated()\n",
    "if df[duplicated_rows].shape[0] == 0:\n",
    "    print(\"Il n'y a pas de lignes en doublon\")\n",
    "else:\n",
    "    print(\"Il y a des lignes en doubon\")\n"
   ]
  },
  {
   "cell_type": "code",
   "execution_count": 7,
   "id": "614ed75f",
   "metadata": {},
   "outputs": [
    {
     "name": "stdout",
     "output_type": "stream",
     "text": [
      "Nombre de valeurs manquantes dans la colonne geo_point_2d_b : 0\n"
     ]
    }
   ],
   "source": [
    "column = 'geo_point_2d_b'\n",
    "missing_values = df[column].isnull().sum()\n",
    "print(f\"Nombre de valeurs manquantes dans la colonne {column} :\", missing_values)"
   ]
  },
  {
   "cell_type": "code",
   "execution_count": 16,
   "id": "bb6c268b",
   "metadata": {},
   "outputs": [
    {
     "data": {
      "image/png": "[encoded data removed]",
      "text/plain": [
       "<Figure size 640x480 with 1 Axes>"
      ]
     },
     "metadata": {},
     "output_type": "display_data"
    }
   ],
   "source": [
    "circonference = df['circonference_cm']\n",
    "hauteur = df['hauteur_m']\n",
    "plt.boxplot([circonference, hauteur]) \n",
    "plt.xticks([1, 2], ['circonference', 'hauteur'])\n",
    "plt.yscale('log')\n",
    "plt.title(\"Boîte à moustaches avec outliers\")\n",
    "plt.show()"
   ]
  },
  {
   "cell_type": "code",
   "execution_count": null,
   "id": "f06e4b34",
   "metadata": {},
   "outputs": [],
   "source": []
  },
  {
   "cell_type": "code",
   "execution_count": null,
   "id": "f45b0160",
   "metadata": {},
   "outputs": [],
   "source": []
  },
  {
   "cell_type": "code",
   "execution_count": 4,
   "id": "709ae91d",
   "metadata": {},
   "outputs": [],
   "source": []
  },
  {
   "cell_type": "code",
   "execution_count": 11,
   "id": "da9cb06b",
   "metadata": {},
   "outputs": [
    {
     "data": {
      "text/plain": [
       "stade_developpement\n",
       "A     250255\n",
       "J       9035\n",
       "JA      7540\n",
       "M       2439\n",
       "Name: circonference_cm, dtype: int64"
      ]
     },
     "execution_count": 11,
     "metadata": {},
     "output_type": "execute_result"
    }
   ],
   "source": [
    "df.groupby('stade_developpement')['circonference_cm'].max()"
   ]
  },
  {
   "cell_type": "code",
   "execution_count": 21,
   "id": "32c9a6e3",
   "metadata": {},
   "outputs": [
    {
     "name": "stdout",
     "output_type": "stream",
     "text": [
      "797 mètres\n"
     ]
    }
   ],
   "source": [
    "print(round(df['circonference_cm'].max()/(100*2*np.pi)*2),'mètres')"
   ]
  },
  {
   "cell_type": "code",
   "execution_count": 3,
   "id": "bb352634",
   "metadata": {},
   "outputs": [
    {
     "data": {
      "text/plain": [
       "libelle_francais\n",
       "Platane       42508\n",
       "Marronnier    25207\n",
       "Tilleul       21305\n",
       "Erable        18389\n",
       "Sophora       11797\n",
       "              ...  \n",
       "Cordyline         1\n",
       "Camphrier         1\n",
       "Jujubier          1\n",
       "Maackie           1\n",
       "Garrya            1\n",
       "Name: count, Length: 192, dtype: int64"
      ]
     },
     "execution_count": 3,
     "metadata": {},
     "output_type": "execute_result"
    }
   ],
   "source": [
    "df['libelle_francais'].value_counts()"
   ]
  },
  {
   "cell_type": "code",
   "execution_count": 19,
   "id": "e9ea8883",
   "metadata": {},
   "outputs": [
    {
     "name": "stdout",
     "output_type": "stream",
     "text": [
      "33.6 % de valeurs manquantes dans \"stade_developpement\"\n"
     ]
    }
   ],
   "source": [
    "print(round((1-df['stade_developpement'].dropna().shape[0]/df['stade_developpement'].shape[0])*100,1)\n",
    "      ,'% de valeurs manquantes dans \"stade_developpement\"')"
   ]
  },
  {
   "cell_type": "markdown",
   "id": "b82e9595",
   "metadata": {},
   "source": [
    "Il y a beaucoup de valeurs manquantes dans cette colonne, elle va être difficilement exploitable. Il faut soit établir une stratégie d'imputation pour compléter les valeurs manquantes, soit abandonner cette colonne."
   ]
  },
  {
   "cell_type": "code",
   "execution_count": null,
   "id": "57948b47",
   "metadata": {},
   "outputs": [],
   "source": []
  }
 ],
 "metadata": {
  "kernelspec": {
   "display_name": "Python 3 (ipykernel)",
   "language": "python",
   "name": "python3"
  },
  "language_info": {
   "codemirror_mode": {
    "name": "ipython",
    "version": 3
   },
   "file_extension": ".py",
   "mimetype": "text/x-python",
   "name": "python",
   "nbconvert_exporter": "python",
   "pygments_lexer": "ipython3",
   "version": "3.11.5"
  }
 },
 "nbformat": 4,
 "nbformat_minor": 5
}
