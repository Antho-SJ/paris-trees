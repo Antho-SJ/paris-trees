{
 "cells": [
  {
   "cell_type": "code",
   "execution_count": 1,
   "id": "f72980a7",
   "metadata": {
    "ExecuteTime": {
     "end_time": "2024-02-12T15:46:38.387735Z",
     "start_time": "2024-02-12T15:46:37.068707Z"
    }
   },
   "outputs": [],
   "source": [
    "import numpy as np\n",
    "import pandas as pd\n",
    "import matplotlib\n",
    "import matplotlib.pyplot as plt\n",
    "import seaborn as sns\n",
    "%load_ext autoreload\n",
    "#%autoreload 2"
   ]
  },
  {
   "cell_type": "code",
   "execution_count": 14,
   "id": "fe53e853",
   "metadata": {
    "ExecuteTime": {
     "end_time": "2024-02-12T15:48:07.563541Z",
     "start_time": "2024-02-12T15:48:07.218033Z"
    },
    "scrolled": false
   },
   "outputs": [],
   "source": [
    "df = pd.read_csv('p2-arbres-fr.csv', delimiter = ';')\n",
    "# df"
   ]
  },
  {
   "cell_type": "code",
   "execution_count": 11,
   "id": "a70888ee",
   "metadata": {
    "ExecuteTime": {
     "end_time": "2024-02-12T15:47:59.550886Z",
     "start_time": "2024-02-12T15:47:59.528184Z"
    }
   },
   "outputs": [],
   "source": [
    "if 'type_emplacement' in df.columns:\n",
    "    df.drop(columns=['type_emplacement', 'numero'], inplace=True)\n",
    "    # debatable\n",
    "    df.drop(columns=['complement_addresse'], inplace=True)\n",
    "    "
   ]
  },
  {
   "cell_type": "code",
   "execution_count": 16,
   "id": "fe758d0d",
   "metadata": {
    "ExecuteTime": {
     "end_time": "2024-02-12T15:48:21.376116Z",
     "start_time": "2024-02-12T15:48:21.370798Z"
    }
   },
   "outputs": [
    {
     "data": {
      "text/plain": [
       "(200137, 18)"
      ]
     },
     "execution_count": 16,
     "metadata": {},
     "output_type": "execute_result"
    }
   ],
   "source": [
    "df.shape"
   ]
  },
  {
   "cell_type": "code",
   "execution_count": 18,
   "id": "86888371",
   "metadata": {
    "ExecuteTime": {
     "end_time": "2024-02-12T15:48:35.274057Z",
     "start_time": "2024-02-12T15:48:35.250343Z"
    }
   },
   "outputs": [
    {
     "data": {
      "text/plain": [
       "Arbre    200137\n",
       "Name: type_emplacement, dtype: int64"
      ]
     },
     "execution_count": 18,
     "metadata": {},
     "output_type": "execute_result"
    }
   ],
   "source": [
    "df.type_emplacement.value_counts()"
   ]
  },
  {
   "cell_type": "code",
   "execution_count": 24,
   "id": "7ba11634",
   "metadata": {
    "ExecuteTime": {
     "end_time": "2024-02-12T15:53:38.174427Z",
     "start_time": "2024-02-12T15:53:38.152150Z"
    }
   },
   "outputs": [
    {
     "data": {
      "text/plain": [
       "30902"
      ]
     },
     "execution_count": 24,
     "metadata": {},
     "output_type": "execute_result"
    }
   ],
   "source": [
    "df.complement_addresse.dropna().count()"
   ]
  },
  {
   "cell_type": "code",
   "execution_count": 29,
   "id": "c83d659f",
   "metadata": {
    "ExecuteTime": {
     "end_time": "2024-02-12T15:56:00.129225Z",
     "start_time": "2024-02-12T15:56:00.111029Z"
    },
    "scrolled": true
   },
   "outputs": [
    {
     "data": {
      "text/plain": [
       "SN°           557\n",
       "1             552\n",
       "2             547\n",
       "3             498\n",
       "4             464\n",
       "             ... \n",
       "F 10-12         1\n",
       "F 99            1\n",
       "93 Flandre      1\n",
       "F 97            1\n",
       "40face          1\n",
       "Name: complement_addresse, Length: 3795, dtype: int64"
      ]
     },
     "execution_count": 29,
     "metadata": {},
     "output_type": "execute_result"
    }
   ],
   "source": [
    "df.complement_addresse.value_counts()"
   ]
  },
  {
   "cell_type": "code",
   "execution_count": 28,
   "id": "dcf23639",
   "metadata": {
    "ExecuteTime": {
     "end_time": "2024-02-12T15:55:43.235371Z",
     "start_time": "2024-02-12T15:55:43.226122Z"
    }
   },
   "outputs": [
    {
     "data": {
      "text/plain": [
       "Series([], Name: numero, dtype: int64)"
      ]
     },
     "execution_count": 28,
     "metadata": {},
     "output_type": "execute_result"
    }
   ],
   "source": [
    "df.numero.value_counts()"
   ]
  },
  {
   "cell_type": "code",
   "execution_count": 7,
   "id": "5cb15f80",
   "metadata": {},
   "outputs": [
    {
     "data": {
      "text/plain": [
       "A     64438\n",
       "JA    35444\n",
       "J     26937\n",
       "M      6113\n",
       "Name: stade_developpement, dtype: int64"
      ]
     },
     "execution_count": 7,
     "metadata": {},
     "output_type": "execute_result"
    }
   ],
   "source": [
    "df.stade_developpement.value_counts()"
   ]
  },
  {
   "cell_type": "code",
   "execution_count": null,
   "id": "aa9c15ca",
   "metadata": {},
   "outputs": [],
   "source": []
  }
 ],
 "metadata": {
  "kernelspec": {
   "display_name": "Python 3 (ipykernel)",
   "language": "python",
   "name": "python3"
  },
  "language_info": {
   "codemirror_mode": {
    "name": "ipython",
    "version": 3
   },
   "file_extension": ".py",
   "mimetype": "text/x-python",
   "name": "python",
   "nbconvert_exporter": "python",
   "pygments_lexer": "ipython3",
   "version": "3.8.12"
  },
  "toc": {
   "base_numbering": 1,
   "nav_menu": {},
   "number_sections": true,
   "sideBar": true,
   "skip_h1_title": false,
   "title_cell": "Table of Contents",
   "title_sidebar": "Contents",
   "toc_cell": false,
   "toc_position": {},
   "toc_section_display": true,
   "toc_window_display": false
  }
 },
 "nbformat": 4,
 "nbformat_minor": 5
}
