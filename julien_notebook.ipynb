{
 "cells": [
  {
   "cell_type": "code",
   "execution_count": 1,
   "id": "137c07a8",
   "metadata": {
    "ExecuteTime": {
     "end_time": "2024-02-12T15:46:38.387735Z",
     "start_time": "2024-02-12T15:46:37.068707Z"
    }
   },
   "outputs": [],
   "source": [
    "import numpy as np\n",
    "import pandas as pd\n",
    "import matplotlib\n",
    "import matplotlib.pyplot as plt\n",
    "import seaborn as sns\n",
    "%load_ext autoreload\n",
    "#%autoreload 2"
   ]
  },
  {
   "cell_type": "code",
   "execution_count": 34,
   "id": "4db4d640",
   "metadata": {
    "ExecuteTime": {
     "end_time": "2024-02-12T15:58:33.837557Z",
     "start_time": "2024-02-12T15:58:33.490013Z"
    },
    "scrolled": false
   },
   "outputs": [],
   "source": [
    "df = pd.read_csv('p2-arbres-fr.csv', delimiter = ';')\n",
    "# df"
   ]
  },
  {
   "cell_type": "code",
   "execution_count": 35,
   "id": "bc95539b",
   "metadata": {
    "ExecuteTime": {
     "end_time": "2024-02-12T15:58:33.884593Z",
     "start_time": "2024-02-12T15:58:33.839805Z"
    }
   },
   "outputs": [],
   "source": [
    "if 'type_emplacement' in df.columns:\n",
    "    df.drop(columns=['type_emplacement', 'numero'], inplace=True)\n",
    "    # debatable\n",
    "    df.drop(columns=['complement_addresse'], inplace=True)\n",
    "    df.remarquable = df.remarquable.apply(lambda x : 1 if x == 1 else 0)\n",
    "    \n",
    "    "
   ]
  },
  {
   "cell_type": "code",
   "execution_count": 36,
   "id": "801fed32",
   "metadata": {
    "ExecuteTime": {
     "end_time": "2024-02-12T15:58:33.894430Z",
     "start_time": "2024-02-12T15:58:33.887697Z"
    }
   },
   "outputs": [
    {
     "data": {
      "text/plain": [
       "(200137, 15)"
      ]
     },
     "execution_count": 36,
     "metadata": {},
     "output_type": "execute_result"
    }
   ],
   "source": [
    "df.shape"
   ]
  },
  {
   "cell_type": "code",
   "execution_count": 62,
   "id": "8f99c114",
   "metadata": {
    "ExecuteTime": {
     "end_time": "2024-02-12T16:35:50.491255Z",
     "start_time": "2024-02-12T16:35:50.487500Z"
    }
   },
   "outputs": [],
   "source": [
    "# df.type_emplacement.value_counts()"
   ]
  },
  {
   "cell_type": "code",
   "execution_count": 40,
   "id": "dd85a235",
   "metadata": {
    "ExecuteTime": {
     "end_time": "2024-02-12T15:58:38.202562Z",
     "start_time": "2024-02-12T15:58:38.198396Z"
    }
   },
   "outputs": [],
   "source": [
    "# df.complement_addresse.dropna().count()"
   ]
  },
  {
   "cell_type": "code",
   "execution_count": 41,
   "id": "5a6a03b4",
   "metadata": {
    "ExecuteTime": {
     "end_time": "2024-02-12T15:58:40.138398Z",
     "start_time": "2024-02-12T15:58:40.135517Z"
    },
    "scrolled": true
   },
   "outputs": [],
   "source": [
    "# df.complement_addresse.value_counts()"
   ]
  },
  {
   "cell_type": "code",
   "execution_count": 43,
   "id": "0f1a140d",
   "metadata": {
    "ExecuteTime": {
     "end_time": "2024-02-12T15:58:44.237458Z",
     "start_time": "2024-02-12T15:58:44.233402Z"
    }
   },
   "outputs": [],
   "source": [
    "# df.numero.value_counts()"
   ]
  },
  {
   "cell_type": "code",
   "execution_count": 60,
   "id": "31c43abf",
   "metadata": {
    "ExecuteTime": {
     "end_time": "2024-02-12T16:26:45.525506Z",
     "start_time": "2024-02-12T16:26:45.509886Z"
    }
   },
   "outputs": [
    {
     "data": {
      "text/plain": [
       "0    199953\n",
       "1       184\n",
       "Name: remarquable, dtype: int64"
      ]
     },
     "execution_count": 60,
     "metadata": {},
     "output_type": "execute_result"
    }
   ],
   "source": [
    "df.remarquable.value_counts()"
   ]
  },
  {
   "cell_type": "code",
   "execution_count": 66,
   "id": "ec440f76",
   "metadata": {
    "ExecuteTime": {
     "end_time": "2024-02-12T16:38:05.795057Z",
     "start_time": "2024-02-12T16:38:05.766905Z"
    }
   },
   "outputs": [
    {
     "data": {
      "text/plain": [
       "x hispanica                  36409\n",
       "hippocastanum                20039\n",
       "japonica                     11822\n",
       "n. sp.                        9063\n",
       "tomentosa                     8962\n",
       "                             ...  \n",
       "polycarpa                        1\n",
       "x gondouinii                     1\n",
       "lusitanica subsp.azorica         1\n",
       "oliveri                          1\n",
       "delavayi subsp. potaninii        1\n",
       "Name: espece, Length: 539, dtype: int64"
      ]
     },
     "execution_count": 66,
     "metadata": {},
     "output_type": "execute_result"
    }
   ],
   "source": [
    "df.espece.value_counts()\n",
    "\n",
    "\n"
   ]
  },
  {
   "cell_type": "code",
   "execution_count": 65,
   "id": "4a9f0ddd",
   "metadata": {
    "ExecuteTime": {
     "end_time": "2024-02-12T16:37:10.955384Z",
     "start_time": "2024-02-12T16:37:10.951411Z"
    }
   },
   "outputs": [],
   "source": [
    "# df"
   ]
  },
  {
   "cell_type": "markdown",
   "id": "058093c6",
   "metadata": {},
   "source": [
    "2. ***Pistes à suivre***"
   ]
  },
  {
   "cell_type": "code",
   "execution_count": 48,
   "id": "e1c5de12",
   "metadata": {
    "ExecuteTime": {
     "end_time": "2024-02-12T15:59:27.738766Z",
     "start_time": "2024-02-12T15:59:27.735827Z"
    }
   },
   "outputs": [],
   "source": [
    "# df.id_emplacement.value_counts()"
   ]
  },
  {
   "cell_type": "code",
   "execution_count": null,
   "id": "bc7f3e65",
   "metadata": {},
   "outputs": [],
   "source": []
  }
 ],
 "metadata": {
  "kernelspec": {
   "display_name": "Python 3 (ipykernel)",
   "language": "python",
   "name": "python3"
  },
  "language_info": {
   "codemirror_mode": {
    "name": "ipython",
    "version": 3
   },
   "file_extension": ".py",
   "mimetype": "text/x-python",
   "name": "python",
   "nbconvert_exporter": "python",
   "pygments_lexer": "ipython3",
   "version": "3.8.12"
  },
  "toc": {
   "base_numbering": 1,
   "nav_menu": {},
   "number_sections": true,
   "sideBar": true,
   "skip_h1_title": false,
   "title_cell": "Table of Contents",
   "title_sidebar": "Contents",
   "toc_cell": false,
   "toc_position": {},
   "toc_section_display": true,
   "toc_window_display": false
  }
 },
 "nbformat": 4,
 "nbformat_minor": 5
}
