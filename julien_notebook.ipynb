{
 "cells": [
  {
   "cell_type": "code",
   "execution_count": 1,
   "id": "137c07a8",
   "metadata": {
    "ExecuteTime": {
     "end_time": "2024-02-13T14:29:22.307264Z",
     "start_time": "2024-02-13T14:29:20.894774Z"
    },
    "scrolled": true
   },
   "outputs": [],
   "source": [
    "import numpy as np\n",
    "import pandas as pd\n",
    "import matplotlib\n",
    "import matplotlib.pyplot as plt\n",
    "import seaborn as sns\n",
    "%load_ext autoreload\n",
    "#%autoreload 2"
   ]
  },
  {
   "cell_type": "code",
   "execution_count": 18,
   "id": "4db4d640",
   "metadata": {
    "ExecuteTime": {
     "end_time": "2024-02-13T14:45:03.651284Z",
     "start_time": "2024-02-13T14:45:03.323195Z"
    },
    "scrolled": false
   },
   "outputs": [],
   "source": [
    "df = pd.read_csv('p2-arbres-fr.csv', delimiter = ';')\n",
    "# df"
   ]
  },
  {
   "cell_type": "code",
   "execution_count": 24,
   "id": "b71e2952",
   "metadata": {
    "ExecuteTime": {
     "end_time": "2024-02-13T14:48:11.101410Z",
     "start_time": "2024-02-13T14:48:11.016162Z"
    },
    "scrolled": true
   },
   "outputs": [
    {
     "data": {
      "text/plain": [
       "Platanus             42591\n",
       "Aesculus             25341\n",
       "Tilia                21550\n",
       "Acer                 18471\n",
       "Sophora              11830\n",
       "Prunus                7053\n",
       "Fraxinus              6014\n",
       "Pinus                 4861\n",
       "Celtis                4276\n",
       "Pyrus                 3928\n",
       "Quercus               3887\n",
       "Carpinus              3495\n",
       "Corylus               3463\n",
       "Populus               3352\n",
       "Robinia               2317\n",
       "Betula                2262\n",
       "Ulmus                 2133\n",
       "Taxus                 2018\n",
       "Malus                 1955\n",
       "Fagus                 1929\n",
       "Paulownia             1415\n",
       "Gleditsia             1413\n",
       "Chamaecyparis         1219\n",
       "Magnolia              1133\n",
       "Juglans               1132\n",
       "Liriodendron          1129\n",
       "Toona                 1071\n",
       "Cercis                1019\n",
       "Pterocarya            1000\n",
       "Ailanthus              956\n",
       "Ginkgo                 940\n",
       "Cedrus                 911\n",
       "Liquidambar            701\n",
       "x Cupressocyparis      680\n",
       "Morus                  679\n",
       "Name: genre, dtype: int64"
      ]
     },
     "execution_count": 24,
     "metadata": {},
     "output_type": "execute_result"
    }
   ],
   "source": [
    "#keeps 5th percentile of values\n",
    "filtered_df = df[df['genre'].map(df['genre'].value_counts()) > df['genre'].value_counts().quantile(0.8)]\n",
    "# df.isna().sum()\n",
    "filtered_df.genre.value_counts()"
   ]
  },
  {
   "cell_type": "code",
   "execution_count": 4,
   "id": "035b8627",
   "metadata": {
    "ExecuteTime": {
     "end_time": "2024-02-13T14:29:24.162976Z",
     "start_time": "2024-02-13T14:29:24.136517Z"
    },
    "scrolled": false
   },
   "outputs": [
    {
     "data": {
      "text/plain": [
       "Baumannii'             4538\n",
       "Briotii'               2827\n",
       "Euchlora'              2756\n",
       "Chanticleer'           2595\n",
       "Fastigiata'            2483\n",
       "                       ... \n",
       "Conspicua'                1\n",
       "Concordia'                1\n",
       "Kojou-no-mai'             1\n",
       "Nizetii'                  1\n",
       "Grosse Pomme Noire'       1\n",
       "Name: variete, Length: 436, dtype: int64"
      ]
     },
     "execution_count": 4,
     "metadata": {},
     "output_type": "execute_result"
    }
   ],
   "source": [
    "df.variete.value_counts()"
   ]
  },
  {
   "cell_type": "code",
   "execution_count": 26,
   "id": "bc95539b",
   "metadata": {
    "ExecuteTime": {
     "end_time": "2024-02-13T14:59:40.055984Z",
     "start_time": "2024-02-13T14:59:35.673167Z"
    }
   },
   "outputs": [],
   "source": [
    "if 'type_emplacement' in df.columns:\n",
    "    df.drop(columns=['type_emplacement', 'numero'], inplace=True)\n",
    "    # debatable\n",
    "    df = df.dropna(subset=['domanialite'])\n",
    "    df.drop(columns=['complement_addresse'], inplace=True)\n",
    "    df.remarquable = df.remarquable.apply(lambda x : 1 if x == 1 else 0)\n",
    "    df.variete = df.variete.fillna('Manquante')\n",
    "    df['variete'] = df['variete'].apply(lambda x: x[:-1] if x.endswith(\"'\") else x)\n",
    "    \n",
    "    ### Filling values for each of genre, species and varietes when there is only one occurence of one of those in\n",
    "    ### one of those categories.\n",
    "    \n",
    "    \n",
    "    ## repeating the process three times in case one of\n",
    "    \n",
    "    \n",
    "    \n",
    "    \n",
    "    # genre > espece\n",
    "    for g in df.genre.value_counts().index:\n",
    "        if df[['genre' , 'espece']][df['genre']== g]['espece'].nunique() == 1:\n",
    "            df.loc[df['genre'] == g, 'espece'] = df.loc[df['genre'] == g, 'espece'].iloc[0]\n",
    "\n",
    "    # espece > variete\n",
    "    # espece > variete\n",
    "    \n",
    "    \n",
    "    "
   ]
  },
  {
   "cell_type": "code",
   "execution_count": 12,
   "id": "708d2421",
   "metadata": {
    "ExecuteTime": {
     "end_time": "2024-02-13T14:40:55.295968Z",
     "start_time": "2024-02-13T14:40:55.160858Z"
    },
    "scrolled": true
   },
   "outputs": [
    {
     "data": {
      "text/plain": [
       "id                     200137\n",
       "type_emplacement            1\n",
       "domanialite                 9\n",
       "arrondissement             25\n",
       "complement_addresse      3795\n",
       "numero                      0\n",
       "lieu                     6921\n",
       "id_emplacement          69040\n",
       "libelle_francais          192\n",
       "genre                     175\n",
       "espece                    539\n",
       "variete                   436\n",
       "circonference_cm          531\n",
       "hauteur_m                 143\n",
       "stade_developpement         4\n",
       "remarquable                 2\n",
       "geo_point_2d_a         200107\n",
       "geo_point_2d_b         200114\n",
       "dtype: int64"
      ]
     },
     "execution_count": 12,
     "metadata": {},
     "output_type": "execute_result"
    }
   ],
   "source": [
    "df.nunique()"
   ]
  },
  {
   "cell_type": "code",
   "execution_count": null,
   "id": "bb2a3732",
   "metadata": {},
   "outputs": [],
   "source": []
  },
  {
   "cell_type": "code",
   "execution_count": null,
   "id": "77e31102",
   "metadata": {},
   "outputs": [],
   "source": []
  },
  {
   "cell_type": "code",
   "execution_count": 97,
   "id": "44fe38be",
   "metadata": {},
   "outputs": [
    {
     "data": {
      "text/plain": [
       "Alignement      104949\n",
       "Jardin           46262\n",
       "CIMETIERE        31926\n",
       "DASCO             6422\n",
       "PERIPHERIQUE      5327\n",
       "DJS               3900\n",
       "DFPE              1325\n",
       "DAC                 21\n",
       "DASES                4\n",
       "Name: domanialite, dtype: int64"
      ]
     },
     "execution_count": 97,
     "metadata": {},
     "output_type": "execute_result"
    }
   ],
   "source": [
    "df.domanialite.value_counts()"
   ]
  },
  {
   "cell_type": "code",
   "execution_count": 120,
   "id": "79065350",
   "metadata": {
    "scrolled": true
   },
   "outputs": [
    {
     "data": {
      "text/plain": [
       "libelle_francais        1497\n",
       "genre                     16\n",
       "espece                  1752\n",
       "stade_developpement    67205\n",
       "dtype: int64"
      ]
     },
     "execution_count": 120,
     "metadata": {},
     "output_type": "execute_result"
    }
   ],
   "source": [
    "df.isna().sum()[df.isna().sum()!=0]"
   ]
  },
  {
   "cell_type": "code",
   "execution_count": null,
   "id": "31c43abf",
   "metadata": {},
   "outputs": [],
   "source": [
    "df.remarquable.value_counts()"
   ]
  },
  {
   "cell_type": "code",
   "execution_count": null,
   "id": "ec440f76",
   "metadata": {},
   "outputs": [],
   "source": [
    "df.shape[0] == df.espece.value_counts().sum()\n"
   ]
  },
  {
   "cell_type": "code",
   "execution_count": 9,
   "id": "0fa9658b",
   "metadata": {},
   "outputs": [
    {
     "data": {
      "text/plain": [
       "sylvatica    102\n",
       "Name: espece, dtype: int64"
      ]
     },
     "execution_count": 9,
     "metadata": {},
     "output_type": "execute_result"
    }
   ],
   "source": [
    "df['espece'][df.variete == \"Atropunicea'\"].value_counts()"
   ]
  },
  {
   "cell_type": "code",
   "execution_count": 119,
   "id": "5879f4a5",
   "metadata": {},
   "outputs": [
    {
     "data": {
      "text/html": [
       "<div>\n",
       "<style scoped>\n",
       "    .dataframe tbody tr th:only-of-type {\n",
       "        vertical-align: middle;\n",
       "    }\n",
       "\n",
       "    .dataframe tbody tr th {\n",
       "        vertical-align: top;\n",
       "    }\n",
       "\n",
       "    .dataframe thead th {\n",
       "        text-align: right;\n",
       "    }\n",
       "</style>\n",
       "<table border=\"1\" class=\"dataframe\">\n",
       "  <thead>\n",
       "    <tr style=\"text-align: right;\">\n",
       "      <th></th>\n",
       "      <th>id</th>\n",
       "      <th>domanialite</th>\n",
       "      <th>arrondissement</th>\n",
       "      <th>lieu</th>\n",
       "      <th>id_emplacement</th>\n",
       "      <th>libelle_francais</th>\n",
       "      <th>genre</th>\n",
       "      <th>espece</th>\n",
       "      <th>variete</th>\n",
       "      <th>circonference_cm</th>\n",
       "      <th>hauteur_m</th>\n",
       "      <th>stade_developpement</th>\n",
       "      <th>remarquable</th>\n",
       "      <th>geo_point_2d_a</th>\n",
       "      <th>geo_point_2d_b</th>\n",
       "    </tr>\n",
       "  </thead>\n",
       "  <tbody>\n",
       "    <tr>\n",
       "      <th>0</th>\n",
       "      <td>99874</td>\n",
       "      <td>Jardin</td>\n",
       "      <td>PARIS 7E ARRDT</td>\n",
       "      <td>MAIRIE DU 7E 116 RUE DE GRENELLE PARIS 7E</td>\n",
       "      <td>19</td>\n",
       "      <td>Marronnier</td>\n",
       "      <td>Aesculus</td>\n",
       "      <td>hippocastanum</td>\n",
       "      <td>Manquante</td>\n",
       "      <td>20</td>\n",
       "      <td>5</td>\n",
       "      <td>NaN</td>\n",
       "      <td>0</td>\n",
       "      <td>48.857620</td>\n",
       "      <td>2.320962</td>\n",
       "    </tr>\n",
       "    <tr>\n",
       "      <th>50</th>\n",
       "      <td>99928</td>\n",
       "      <td>Jardin</td>\n",
       "      <td>PARIS 16E ARRDT</td>\n",
       "      <td>JARDIN DU RANELAGH</td>\n",
       "      <td>30008</td>\n",
       "      <td>Marronnier</td>\n",
       "      <td>Aesculus</td>\n",
       "      <td>hippocastanum</td>\n",
       "      <td>Manquante</td>\n",
       "      <td>330</td>\n",
       "      <td>0</td>\n",
       "      <td>NaN</td>\n",
       "      <td>0</td>\n",
       "      <td>48.858896</td>\n",
       "      <td>2.268823</td>\n",
       "    </tr>\n",
       "    <tr>\n",
       "      <th>61</th>\n",
       "      <td>99939</td>\n",
       "      <td>Jardin</td>\n",
       "      <td>PARIS 16E ARRDT</td>\n",
       "      <td>JARDIN DU RANELAGH</td>\n",
       "      <td>30015</td>\n",
       "      <td>Marronnier</td>\n",
       "      <td>Aesculus</td>\n",
       "      <td>hippocastanum</td>\n",
       "      <td>Manquante</td>\n",
       "      <td>310</td>\n",
       "      <td>0</td>\n",
       "      <td>NaN</td>\n",
       "      <td>0</td>\n",
       "      <td>48.858655</td>\n",
       "      <td>2.268950</td>\n",
       "    </tr>\n",
       "    <tr>\n",
       "      <th>65</th>\n",
       "      <td>99943</td>\n",
       "      <td>Jardin</td>\n",
       "      <td>PARIS 16E ARRDT</td>\n",
       "      <td>JARDIN DU RANELAGH</td>\n",
       "      <td>30023</td>\n",
       "      <td>Marronnier</td>\n",
       "      <td>Aesculus</td>\n",
       "      <td>hippocastanum</td>\n",
       "      <td>Manquante</td>\n",
       "      <td>145</td>\n",
       "      <td>0</td>\n",
       "      <td>NaN</td>\n",
       "      <td>0</td>\n",
       "      <td>48.859460</td>\n",
       "      <td>2.268312</td>\n",
       "    </tr>\n",
       "    <tr>\n",
       "      <th>66</th>\n",
       "      <td>99944</td>\n",
       "      <td>Jardin</td>\n",
       "      <td>PARIS 16E ARRDT</td>\n",
       "      <td>JARDIN DU RANELAGH</td>\n",
       "      <td>30024</td>\n",
       "      <td>Marronnier</td>\n",
       "      <td>Aesculus</td>\n",
       "      <td>hippocastanum</td>\n",
       "      <td>Manquante</td>\n",
       "      <td>190</td>\n",
       "      <td>0</td>\n",
       "      <td>NaN</td>\n",
       "      <td>0</td>\n",
       "      <td>48.859455</td>\n",
       "      <td>2.268247</td>\n",
       "    </tr>\n",
       "    <tr>\n",
       "      <th>...</th>\n",
       "      <td>...</td>\n",
       "      <td>...</td>\n",
       "      <td>...</td>\n",
       "      <td>...</td>\n",
       "      <td>...</td>\n",
       "      <td>...</td>\n",
       "      <td>...</td>\n",
       "      <td>...</td>\n",
       "      <td>...</td>\n",
       "      <td>...</td>\n",
       "      <td>...</td>\n",
       "      <td>...</td>\n",
       "      <td>...</td>\n",
       "      <td>...</td>\n",
       "      <td>...</td>\n",
       "    </tr>\n",
       "    <tr>\n",
       "      <th>199249</th>\n",
       "      <td>2023858</td>\n",
       "      <td>Jardin</td>\n",
       "      <td>BOIS DE VINCENNES</td>\n",
       "      <td>ARBORETUM DE L ECOLE DU BREUIL - ROUTE DE LA F...</td>\n",
       "      <td>719480307</td>\n",
       "      <td>Marronnier</td>\n",
       "      <td>Aesculus</td>\n",
       "      <td>hippocastanum</td>\n",
       "      <td>Manquante</td>\n",
       "      <td>0</td>\n",
       "      <td>0</td>\n",
       "      <td>NaN</td>\n",
       "      <td>0</td>\n",
       "      <td>48.820677</td>\n",
       "      <td>2.455650</td>\n",
       "    </tr>\n",
       "    <tr>\n",
       "      <th>199253</th>\n",
       "      <td>2023862</td>\n",
       "      <td>Jardin</td>\n",
       "      <td>BOIS DE VINCENNES</td>\n",
       "      <td>ARBORETUM DE L ECOLE DU BREUIL - ROUTE DE LA F...</td>\n",
       "      <td>719901406</td>\n",
       "      <td>Marronnier</td>\n",
       "      <td>Aesculus</td>\n",
       "      <td>hippocastanum</td>\n",
       "      <td>Manquante</td>\n",
       "      <td>0</td>\n",
       "      <td>0</td>\n",
       "      <td>NaN</td>\n",
       "      <td>0</td>\n",
       "      <td>48.820696</td>\n",
       "      <td>2.456039</td>\n",
       "    </tr>\n",
       "    <tr>\n",
       "      <th>199255</th>\n",
       "      <td>2023864</td>\n",
       "      <td>Jardin</td>\n",
       "      <td>BOIS DE VINCENNES</td>\n",
       "      <td>ARBORETUM DE L ECOLE DU BREUIL - ROUTE DE LA F...</td>\n",
       "      <td>719480364</td>\n",
       "      <td>Marronnier</td>\n",
       "      <td>Aesculus</td>\n",
       "      <td>hippocastanum</td>\n",
       "      <td>Manquante</td>\n",
       "      <td>0</td>\n",
       "      <td>0</td>\n",
       "      <td>NaN</td>\n",
       "      <td>0</td>\n",
       "      <td>48.820834</td>\n",
       "      <td>2.455949</td>\n",
       "    </tr>\n",
       "    <tr>\n",
       "      <th>199273</th>\n",
       "      <td>2023882</td>\n",
       "      <td>Jardin</td>\n",
       "      <td>BOIS DE VINCENNES</td>\n",
       "      <td>ARBORETUM DE L ECOLE DU BREUIL - ROUTE DE LA F...</td>\n",
       "      <td>719480254</td>\n",
       "      <td>Marronnier</td>\n",
       "      <td>Aesculus</td>\n",
       "      <td>hippocastanum</td>\n",
       "      <td>Manquante</td>\n",
       "      <td>0</td>\n",
       "      <td>0</td>\n",
       "      <td>NaN</td>\n",
       "      <td>0</td>\n",
       "      <td>48.820673</td>\n",
       "      <td>2.455474</td>\n",
       "    </tr>\n",
       "    <tr>\n",
       "      <th>199275</th>\n",
       "      <td>2023884</td>\n",
       "      <td>Jardin</td>\n",
       "      <td>BOIS DE VINCENNES</td>\n",
       "      <td>ARBORETUM DE L ECOLE DU BREUIL - ROUTE DE LA F...</td>\n",
       "      <td>719480256</td>\n",
       "      <td>Marronnier</td>\n",
       "      <td>Aesculus</td>\n",
       "      <td>hippocastanum</td>\n",
       "      <td>Manquante</td>\n",
       "      <td>0</td>\n",
       "      <td>0</td>\n",
       "      <td>NaN</td>\n",
       "      <td>0</td>\n",
       "      <td>48.820663</td>\n",
       "      <td>2.455355</td>\n",
       "    </tr>\n",
       "  </tbody>\n",
       "</table>\n",
       "<p>20039 rows × 15 columns</p>\n",
       "</div>"
      ],
      "text/plain": [
       "             id domanialite     arrondissement  \\\n",
       "0         99874      Jardin     PARIS 7E ARRDT   \n",
       "50        99928      Jardin    PARIS 16E ARRDT   \n",
       "61        99939      Jardin    PARIS 16E ARRDT   \n",
       "65        99943      Jardin    PARIS 16E ARRDT   \n",
       "66        99944      Jardin    PARIS 16E ARRDT   \n",
       "...         ...         ...                ...   \n",
       "199249  2023858      Jardin  BOIS DE VINCENNES   \n",
       "199253  2023862      Jardin  BOIS DE VINCENNES   \n",
       "199255  2023864      Jardin  BOIS DE VINCENNES   \n",
       "199273  2023882      Jardin  BOIS DE VINCENNES   \n",
       "199275  2023884      Jardin  BOIS DE VINCENNES   \n",
       "\n",
       "                                                     lieu id_emplacement  \\\n",
       "0               MAIRIE DU 7E 116 RUE DE GRENELLE PARIS 7E             19   \n",
       "50                                     JARDIN DU RANELAGH          30008   \n",
       "61                                     JARDIN DU RANELAGH          30015   \n",
       "65                                     JARDIN DU RANELAGH          30023   \n",
       "66                                     JARDIN DU RANELAGH          30024   \n",
       "...                                                   ...            ...   \n",
       "199249  ARBORETUM DE L ECOLE DU BREUIL - ROUTE DE LA F...      719480307   \n",
       "199253  ARBORETUM DE L ECOLE DU BREUIL - ROUTE DE LA F...      719901406   \n",
       "199255  ARBORETUM DE L ECOLE DU BREUIL - ROUTE DE LA F...      719480364   \n",
       "199273  ARBORETUM DE L ECOLE DU BREUIL - ROUTE DE LA F...      719480254   \n",
       "199275  ARBORETUM DE L ECOLE DU BREUIL - ROUTE DE LA F...      719480256   \n",
       "\n",
       "       libelle_francais     genre         espece    variete  circonference_cm  \\\n",
       "0            Marronnier  Aesculus  hippocastanum  Manquante                20   \n",
       "50           Marronnier  Aesculus  hippocastanum  Manquante               330   \n",
       "61           Marronnier  Aesculus  hippocastanum  Manquante               310   \n",
       "65           Marronnier  Aesculus  hippocastanum  Manquante               145   \n",
       "66           Marronnier  Aesculus  hippocastanum  Manquante               190   \n",
       "...                 ...       ...            ...        ...               ...   \n",
       "199249       Marronnier  Aesculus  hippocastanum  Manquante                 0   \n",
       "199253       Marronnier  Aesculus  hippocastanum  Manquante                 0   \n",
       "199255       Marronnier  Aesculus  hippocastanum  Manquante                 0   \n",
       "199273       Marronnier  Aesculus  hippocastanum  Manquante                 0   \n",
       "199275       Marronnier  Aesculus  hippocastanum  Manquante                 0   \n",
       "\n",
       "        hauteur_m stade_developpement  remarquable  geo_point_2d_a  \\\n",
       "0               5                 NaN            0       48.857620   \n",
       "50              0                 NaN            0       48.858896   \n",
       "61              0                 NaN            0       48.858655   \n",
       "65              0                 NaN            0       48.859460   \n",
       "66              0                 NaN            0       48.859455   \n",
       "...           ...                 ...          ...             ...   \n",
       "199249          0                 NaN            0       48.820677   \n",
       "199253          0                 NaN            0       48.820696   \n",
       "199255          0                 NaN            0       48.820834   \n",
       "199273          0                 NaN            0       48.820673   \n",
       "199275          0                 NaN            0       48.820663   \n",
       "\n",
       "        geo_point_2d_b  \n",
       "0             2.320962  \n",
       "50            2.268823  \n",
       "61            2.268950  \n",
       "65            2.268312  \n",
       "66            2.268247  \n",
       "...                ...  \n",
       "199249        2.455650  \n",
       "199253        2.456039  \n",
       "199255        2.455949  \n",
       "199273        2.455474  \n",
       "199275        2.455355  \n",
       "\n",
       "[20039 rows x 15 columns]"
      ]
     },
     "execution_count": 119,
     "metadata": {},
     "output_type": "execute_result"
    }
   ],
   "source": [
    "df[df.espece=='hippocastanum']"
   ]
  },
  {
   "cell_type": "code",
   "execution_count": 117,
   "id": "60f2b235",
   "metadata": {},
   "outputs": [
    {
     "data": {
      "text/html": [
       "<div>\n",
       "<style scoped>\n",
       "    .dataframe tbody tr th:only-of-type {\n",
       "        vertical-align: middle;\n",
       "    }\n",
       "\n",
       "    .dataframe tbody tr th {\n",
       "        vertical-align: top;\n",
       "    }\n",
       "\n",
       "    .dataframe thead th {\n",
       "        text-align: right;\n",
       "    }\n",
       "</style>\n",
       "<table border=\"1\" class=\"dataframe\">\n",
       "  <thead>\n",
       "    <tr style=\"text-align: right;\">\n",
       "      <th></th>\n",
       "      <th>id</th>\n",
       "      <th>domanialite</th>\n",
       "      <th>arrondissement</th>\n",
       "      <th>lieu</th>\n",
       "      <th>id_emplacement</th>\n",
       "      <th>libelle_francais</th>\n",
       "      <th>genre</th>\n",
       "      <th>espece</th>\n",
       "      <th>variete</th>\n",
       "      <th>circonference_cm</th>\n",
       "      <th>hauteur_m</th>\n",
       "      <th>stade_developpement</th>\n",
       "      <th>remarquable</th>\n",
       "      <th>geo_point_2d_a</th>\n",
       "      <th>geo_point_2d_b</th>\n",
       "    </tr>\n",
       "  </thead>\n",
       "  <tbody>\n",
       "    <tr>\n",
       "      <th>11</th>\n",
       "      <td>99885</td>\n",
       "      <td>Jardin</td>\n",
       "      <td>PARIS 16E ARRDT</td>\n",
       "      <td>JARDIN DU RANELAGH</td>\n",
       "      <td>20001</td>\n",
       "      <td>Hêtre</td>\n",
       "      <td>Fagus</td>\n",
       "      <td>sylvatica</td>\n",
       "      <td>Atropunicea</td>\n",
       "      <td>30</td>\n",
       "      <td>0</td>\n",
       "      <td>NaN</td>\n",
       "      <td>0</td>\n",
       "      <td>48.858222</td>\n",
       "      <td>2.269287</td>\n",
       "    </tr>\n",
       "    <tr>\n",
       "      <th>25</th>\n",
       "      <td>99900</td>\n",
       "      <td>Jardin</td>\n",
       "      <td>PARIS 16E ARRDT</td>\n",
       "      <td>JARDIN DU RANELAGH</td>\n",
       "      <td>20021</td>\n",
       "      <td>Hêtre</td>\n",
       "      <td>Fagus</td>\n",
       "      <td>sylvatica</td>\n",
       "      <td>Atropunicea</td>\n",
       "      <td>100</td>\n",
       "      <td>0</td>\n",
       "      <td>NaN</td>\n",
       "      <td>0</td>\n",
       "      <td>48.857849</td>\n",
       "      <td>2.267720</td>\n",
       "    </tr>\n",
       "    <tr>\n",
       "      <th>26</th>\n",
       "      <td>99901</td>\n",
       "      <td>Jardin</td>\n",
       "      <td>PARIS 16E ARRDT</td>\n",
       "      <td>JARDIN DU RANELAGH</td>\n",
       "      <td>20022</td>\n",
       "      <td>Hêtre</td>\n",
       "      <td>Fagus</td>\n",
       "      <td>sylvatica</td>\n",
       "      <td>Atropunicea</td>\n",
       "      <td>35</td>\n",
       "      <td>0</td>\n",
       "      <td>NaN</td>\n",
       "      <td>0</td>\n",
       "      <td>48.857803</td>\n",
       "      <td>2.267476</td>\n",
       "    </tr>\n",
       "    <tr>\n",
       "      <th>27</th>\n",
       "      <td>99902</td>\n",
       "      <td>Jardin</td>\n",
       "      <td>PARIS 16E ARRDT</td>\n",
       "      <td>JARDIN DU RANELAGH</td>\n",
       "      <td>20023</td>\n",
       "      <td>Hêtre</td>\n",
       "      <td>Fagus</td>\n",
       "      <td>sylvatica</td>\n",
       "      <td>Atropunicea</td>\n",
       "      <td>185</td>\n",
       "      <td>0</td>\n",
       "      <td>NaN</td>\n",
       "      <td>0</td>\n",
       "      <td>48.857809</td>\n",
       "      <td>2.267599</td>\n",
       "    </tr>\n",
       "    <tr>\n",
       "      <th>28</th>\n",
       "      <td>99903</td>\n",
       "      <td>Jardin</td>\n",
       "      <td>PARIS 16E ARRDT</td>\n",
       "      <td>JARDIN DU RANELAGH</td>\n",
       "      <td>20024</td>\n",
       "      <td>Hêtre</td>\n",
       "      <td>Fagus</td>\n",
       "      <td>sylvatica</td>\n",
       "      <td>Atropunicea</td>\n",
       "      <td>130</td>\n",
       "      <td>0</td>\n",
       "      <td>NaN</td>\n",
       "      <td>0</td>\n",
       "      <td>48.857790</td>\n",
       "      <td>2.267713</td>\n",
       "    </tr>\n",
       "    <tr>\n",
       "      <th>...</th>\n",
       "      <td>...</td>\n",
       "      <td>...</td>\n",
       "      <td>...</td>\n",
       "      <td>...</td>\n",
       "      <td>...</td>\n",
       "      <td>...</td>\n",
       "      <td>...</td>\n",
       "      <td>...</td>\n",
       "      <td>...</td>\n",
       "      <td>...</td>\n",
       "      <td>...</td>\n",
       "      <td>...</td>\n",
       "      <td>...</td>\n",
       "      <td>...</td>\n",
       "      <td>...</td>\n",
       "    </tr>\n",
       "    <tr>\n",
       "      <th>198835</th>\n",
       "      <td>2023213</td>\n",
       "      <td>DJS</td>\n",
       "      <td>PARIS 19E ARRDT</td>\n",
       "      <td>CENTRE SPORTIF JULES LADOUMEGUE / 35 ROUTE DES...</td>\n",
       "      <td>109002</td>\n",
       "      <td>Saule</td>\n",
       "      <td>Salix</td>\n",
       "      <td>babylonica</td>\n",
       "      <td>Tortuosa</td>\n",
       "      <td>20</td>\n",
       "      <td>5</td>\n",
       "      <td>NaN</td>\n",
       "      <td>0</td>\n",
       "      <td>48.890661</td>\n",
       "      <td>2.397392</td>\n",
       "    </tr>\n",
       "    <tr>\n",
       "      <th>198866</th>\n",
       "      <td>2023360</td>\n",
       "      <td>Alignement</td>\n",
       "      <td>PARIS 1ER ARRDT</td>\n",
       "      <td>RUE DE TURBIGO</td>\n",
       "      <td>402001</td>\n",
       "      <td>Fevier</td>\n",
       "      <td>Gleditsia</td>\n",
       "      <td>triacanthos</td>\n",
       "      <td>Skyline</td>\n",
       "      <td>20</td>\n",
       "      <td>5</td>\n",
       "      <td>NaN</td>\n",
       "      <td>0</td>\n",
       "      <td>48.863689</td>\n",
       "      <td>2.348325</td>\n",
       "    </tr>\n",
       "    <tr>\n",
       "      <th>198867</th>\n",
       "      <td>2023361</td>\n",
       "      <td>Alignement</td>\n",
       "      <td>PARIS 1ER ARRDT</td>\n",
       "      <td>RUE DE TURBIGO</td>\n",
       "      <td>402002</td>\n",
       "      <td>Fevier</td>\n",
       "      <td>Gleditsia</td>\n",
       "      <td>triacanthos</td>\n",
       "      <td>Skyline</td>\n",
       "      <td>20</td>\n",
       "      <td>5</td>\n",
       "      <td>NaN</td>\n",
       "      <td>0</td>\n",
       "      <td>48.863716</td>\n",
       "      <td>2.348449</td>\n",
       "    </tr>\n",
       "    <tr>\n",
       "      <th>198868</th>\n",
       "      <td>2023362</td>\n",
       "      <td>Alignement</td>\n",
       "      <td>PARIS 1ER ARRDT</td>\n",
       "      <td>RUE DE TURBIGO</td>\n",
       "      <td>402003</td>\n",
       "      <td>Fevier</td>\n",
       "      <td>Gleditsia</td>\n",
       "      <td>triacanthos</td>\n",
       "      <td>Skyline</td>\n",
       "      <td>20</td>\n",
       "      <td>5</td>\n",
       "      <td>NaN</td>\n",
       "      <td>0</td>\n",
       "      <td>48.863744</td>\n",
       "      <td>2.348573</td>\n",
       "    </tr>\n",
       "    <tr>\n",
       "      <th>198869</th>\n",
       "      <td>2023363</td>\n",
       "      <td>Alignement</td>\n",
       "      <td>PARIS 1ER ARRDT</td>\n",
       "      <td>RUE DE TURBIGO</td>\n",
       "      <td>402004</td>\n",
       "      <td>Fevier</td>\n",
       "      <td>Gleditsia</td>\n",
       "      <td>triacanthos</td>\n",
       "      <td>Skyline</td>\n",
       "      <td>20</td>\n",
       "      <td>5</td>\n",
       "      <td>NaN</td>\n",
       "      <td>0</td>\n",
       "      <td>48.863772</td>\n",
       "      <td>2.348698</td>\n",
       "    </tr>\n",
       "  </tbody>\n",
       "</table>\n",
       "<p>36777 rows × 15 columns</p>\n",
       "</div>"
      ],
      "text/plain": [
       "             id domanialite   arrondissement  \\\n",
       "11        99885      Jardin  PARIS 16E ARRDT   \n",
       "25        99900      Jardin  PARIS 16E ARRDT   \n",
       "26        99901      Jardin  PARIS 16E ARRDT   \n",
       "27        99902      Jardin  PARIS 16E ARRDT   \n",
       "28        99903      Jardin  PARIS 16E ARRDT   \n",
       "...         ...         ...              ...   \n",
       "198835  2023213         DJS  PARIS 19E ARRDT   \n",
       "198866  2023360  Alignement  PARIS 1ER ARRDT   \n",
       "198867  2023361  Alignement  PARIS 1ER ARRDT   \n",
       "198868  2023362  Alignement  PARIS 1ER ARRDT   \n",
       "198869  2023363  Alignement  PARIS 1ER ARRDT   \n",
       "\n",
       "                                                     lieu id_emplacement  \\\n",
       "11                                     JARDIN DU RANELAGH          20001   \n",
       "25                                     JARDIN DU RANELAGH          20021   \n",
       "26                                     JARDIN DU RANELAGH          20022   \n",
       "27                                     JARDIN DU RANELAGH          20023   \n",
       "28                                     JARDIN DU RANELAGH          20024   \n",
       "...                                                   ...            ...   \n",
       "198835  CENTRE SPORTIF JULES LADOUMEGUE / 35 ROUTE DES...         109002   \n",
       "198866                                     RUE DE TURBIGO         402001   \n",
       "198867                                     RUE DE TURBIGO         402002   \n",
       "198868                                     RUE DE TURBIGO         402003   \n",
       "198869                                     RUE DE TURBIGO         402004   \n",
       "\n",
       "       libelle_francais      genre       espece      variete  \\\n",
       "11                Hêtre      Fagus    sylvatica  Atropunicea   \n",
       "25                Hêtre      Fagus    sylvatica  Atropunicea   \n",
       "26                Hêtre      Fagus    sylvatica  Atropunicea   \n",
       "27                Hêtre      Fagus    sylvatica  Atropunicea   \n",
       "28                Hêtre      Fagus    sylvatica  Atropunicea   \n",
       "...                 ...        ...          ...          ...   \n",
       "198835            Saule      Salix   babylonica     Tortuosa   \n",
       "198866           Fevier  Gleditsia  triacanthos      Skyline   \n",
       "198867           Fevier  Gleditsia  triacanthos      Skyline   \n",
       "198868           Fevier  Gleditsia  triacanthos      Skyline   \n",
       "198869           Fevier  Gleditsia  triacanthos      Skyline   \n",
       "\n",
       "        circonference_cm  hauteur_m stade_developpement  remarquable  \\\n",
       "11                    30          0                 NaN            0   \n",
       "25                   100          0                 NaN            0   \n",
       "26                    35          0                 NaN            0   \n",
       "27                   185          0                 NaN            0   \n",
       "28                   130          0                 NaN            0   \n",
       "...                  ...        ...                 ...          ...   \n",
       "198835                20          5                 NaN            0   \n",
       "198866                20          5                 NaN            0   \n",
       "198867                20          5                 NaN            0   \n",
       "198868                20          5                 NaN            0   \n",
       "198869                20          5                 NaN            0   \n",
       "\n",
       "        geo_point_2d_a  geo_point_2d_b  \n",
       "11           48.858222        2.269287  \n",
       "25           48.857849        2.267720  \n",
       "26           48.857803        2.267476  \n",
       "27           48.857809        2.267599  \n",
       "28           48.857790        2.267713  \n",
       "...                ...             ...  \n",
       "198835       48.890661        2.397392  \n",
       "198866       48.863689        2.348325  \n",
       "198867       48.863716        2.348449  \n",
       "198868       48.863744        2.348573  \n",
       "198869       48.863772        2.348698  \n",
       "\n",
       "[36777 rows x 15 columns]"
      ]
     },
     "execution_count": 117,
     "metadata": {},
     "output_type": "execute_result"
    }
   ],
   "source": [
    "df[df.variete != \"Manquante\"]"
   ]
  },
  {
   "cell_type": "code",
   "execution_count": 11,
   "id": "ab4568c9",
   "metadata": {},
   "outputs": [
    {
     "data": {
      "text/plain": [
       "20012.1"
      ]
     },
     "execution_count": 11,
     "metadata": {},
     "output_type": "execute_result"
    }
   ],
   "source": [
    "np.round(df.genre.value_counts().sum())/10"
   ]
  },
  {
   "cell_type": "code",
   "execution_count": 12,
   "id": "f2d942c0",
   "metadata": {},
   "outputs": [
    {
     "data": {
      "text/plain": [
       "1143.5485714285714"
      ]
     },
     "execution_count": 12,
     "metadata": {},
     "output_type": "execute_result"
    }
   ],
   "source": [
    "df.genre.value_counts().mean()"
   ]
  },
  {
   "cell_type": "code",
   "execution_count": null,
   "id": "2cf98e72",
   "metadata": {
    "scrolled": true
   },
   "outputs": [],
   "source": []
  },
  {
   "cell_type": "code",
   "execution_count": 14,
   "id": "b4382d4e",
   "metadata": {},
   "outputs": [],
   "source": [
    "# <ods-dataset-context context=\"lesarbresplantes\" lesarbresplantes-dataset=\"les-arbres-plantes\" lesarbresplantes-parameters=\"{'geofilter.polygon':'(48.88639177703194,2.228851318359375),(48.812289858662574,2.230224609375),(48.7874140472094,2.349700927734375),(48.82268881260476,2.4863433837890625),(48.94054322456003,2.4217987060546875),(48.88639177703194,2.228851318359375)'}\">\n",
    "#     <ods-map no-refit=\"true\" scroll-wheel-zoom=\"false\" display-control=\"true\" search-box=\"true\" toolbar-fullscreen=\"true\" toolbar-geolocation=\"true\" basemap=\"jawg.streets\" location=\"13,48.89886,2.34249\">\n",
    "#         <ods-map-layer-group>\n",
    "#             <ods-map-layer context=\"lesarbresplantes\" color=\"#C32D1C\" picto=\"ods-circle\" show-marker=\"true\" display=\"auto\" shape-opacity=\"0.5\" point-opacity=\"1\" border-color=\"#FFFFFF\" border-opacity=\"1\" border-size=\"1\" border-pattern=\"solid\" caption=\"true\" title=\"Les arbres plantés\" description=\"Jeu de données géographique\n",
    "#     présentant les arbres plantés (hors peuplement forestiers)\" size=\"4\" size-min=\"3\" size-max=\"5\" size-function=\"linear\"></ods-map-layer>\n",
    "#         </ods-map-layer-group>\n",
    "#     </ods-map>\n",
    "\n",
    "# </ods-dataset-context>"
   ]
  },
  {
   "cell_type": "code",
   "execution_count": null,
   "id": "910a10ef",
   "metadata": {},
   "outputs": [],
   "source": []
  },
  {
   "cell_type": "code",
   "execution_count": null,
   "id": "b036bf91",
   "metadata": {},
   "outputs": [],
   "source": []
  },
  {
   "cell_type": "code",
   "execution_count": 15,
   "id": "5aae2bde",
   "metadata": {},
   "outputs": [
    {
     "data": {
      "text/plain": [
       "False    36777\n",
       "Name: variete, dtype: int64"
      ]
     },
     "execution_count": 15,
     "metadata": {},
     "output_type": "execute_result"
    }
   ],
   "source": [
    "df['variete'].dropna().apply(lambda x: isinstance(x, float)).value_counts()\n"
   ]
  },
  {
   "cell_type": "code",
   "execution_count": 16,
   "id": "8558d03b",
   "metadata": {},
   "outputs": [
    {
     "data": {
      "text/plain": [
       "39"
      ]
     },
     "execution_count": 16,
     "metadata": {},
     "output_type": "execute_result"
    }
   ],
   "source": [
    "df.genre.value_counts()[df.genre.value_counts()<3].count()"
   ]
  },
  {
   "cell_type": "code",
   "execution_count": 17,
   "id": "087d6b8f",
   "metadata": {},
   "outputs": [
    {
     "data": {
      "text/plain": [
       "genre  espece          \n",
       "Taxus  baccata             1991\n",
       "       n. sp.                 7\n",
       "       alba                   4\n",
       "       x media                2\n",
       "       baccata f. Aurea       1\n",
       "dtype: int64"
      ]
     },
     "execution_count": 17,
     "metadata": {},
     "output_type": "execute_result"
    }
   ],
   "source": [
    "df[['genre' , 'espece']][df['genre']=='Taxus'].value_counts()"
   ]
  },
  {
   "cell_type": "code",
   "execution_count": 18,
   "id": "d112a5d7",
   "metadata": {
    "scrolled": true
   },
   "outputs": [
    {
     "data": {
      "text/plain": [
       "x hispanica                  36409\n",
       "hippocastanum                20039\n",
       "japonica                     11822\n",
       "n. sp.                        9063\n",
       "tomentosa                     8962\n",
       "                             ...  \n",
       "polycarpa                        1\n",
       "x gondouinii                     1\n",
       "lusitanica subsp.azorica         1\n",
       "oliveri                          1\n",
       "delavayi subsp. potaninii        1\n",
       "Name: espece, Length: 539, dtype: int64"
      ]
     },
     "execution_count": 18,
     "metadata": {},
     "output_type": "execute_result"
    }
   ],
   "source": [
    "df.espece.value_counts()"
   ]
  },
  {
   "cell_type": "code",
   "execution_count": 19,
   "id": "695b23cc",
   "metadata": {},
   "outputs": [
    {
     "data": {
      "text/plain": [
       "baccata             1991\n",
       "n. sp.                 7\n",
       "alba                   4\n",
       "x media                2\n",
       "baccata f. Aurea       1\n",
       "Name: espece, dtype: int64"
      ]
     },
     "execution_count": 19,
     "metadata": {},
     "output_type": "execute_result"
    }
   ],
   "source": [
    "df[['genre' , 'espece']][df['genre']=='Taxus']['espece'].value_counts()"
   ]
  },
  {
   "cell_type": "code",
   "execution_count": 20,
   "id": "13ae2537",
   "metadata": {},
   "outputs": [
    {
     "data": {
      "text/plain": [
       "Index(['x hispanica', 'hippocastanum', 'japonica', 'n. sp.', 'tomentosa',\n",
       "       'pseudoplatanus', 'platanoides', 'nigra', 'x europaea', 'x carnea',\n",
       "       ...\n",
       "       'x chinensis', 'minor var. vulgaris', 'x macrantha', 'acerifolius',\n",
       "       'horizontalis', 'polycarpa', 'x gondouinii', 'lusitanica subsp.azorica',\n",
       "       'oliveri', 'delavayi subsp. potaninii'],\n",
       "      dtype='object', length=539)"
      ]
     },
     "execution_count": 20,
     "metadata": {},
     "output_type": "execute_result"
    }
   ],
   "source": [
    "df.espece.value_counts().index"
   ]
  },
  {
   "cell_type": "code",
   "execution_count": 42,
   "id": "44173f63",
   "metadata": {},
   "outputs": [
    {
     "data": {
      "text/plain": [
       "Liriodendron    1129\n",
       "Name: genre, dtype: int64"
      ]
     },
     "execution_count": 42,
     "metadata": {},
     "output_type": "execute_result"
    }
   ],
   "source": [
    "df[df.genre == 'Liriodendron'].genre.value_counts()"
   ]
  },
  {
   "cell_type": "code",
   "execution_count": 36,
   "id": "f9157dca",
   "metadata": {},
   "outputs": [
    {
     "data": {
      "text/plain": [
       "'Liriodendron'"
      ]
     },
     "execution_count": 36,
     "metadata": {},
     "output_type": "execute_result"
    }
   ],
   "source": [
    "g"
   ]
  },
  {
   "cell_type": "code",
   "execution_count": null,
   "id": "c173d039",
   "metadata": {},
   "outputs": [],
   "source": [
    "df.espece = df.espece.apply(lambda x : df.genre[df.genre == g].value_counts().index[0])"
   ]
  },
  {
   "cell_type": "markdown",
   "id": "058093c6",
   "metadata": {},
   "source": [
    "2. ***Pistes à suivre***"
   ]
  },
  {
   "cell_type": "code",
   "execution_count": 48,
   "id": "e1c5de12",
   "metadata": {},
   "outputs": [],
   "source": [
    "# df.id_emplacement.value_counts()\n",
    "# Creuser 'Manquante'\n"
   ]
  },
  {
   "cell_type": "code",
   "execution_count": null,
   "id": "bc7f3e65",
   "metadata": {},
   "outputs": [],
   "source": []
  },
  {
   "cell_type": "code",
   "execution_count": null,
   "id": "581bbfe6",
   "metadata": {},
   "outputs": [],
   "source": []
  },
  {
   "cell_type": "code",
   "execution_count": null,
   "id": "2251959e",
   "metadata": {},
   "outputs": [],
   "source": []
  },
  {
   "cell_type": "code",
   "execution_count": null,
   "id": "a8048597",
   "metadata": {},
   "outputs": [],
   "source": []
  },
  {
   "cell_type": "code",
   "execution_count": null,
   "id": "39a69582",
   "metadata": {},
   "outputs": [],
   "source": []
  },
  {
   "cell_type": "code",
   "execution_count": null,
   "id": "112ae8e9",
   "metadata": {},
   "outputs": [],
   "source": []
  },
  {
   "cell_type": "markdown",
   "id": "0049d4e8",
   "metadata": {},
   "source": [
    "* DUMP"
   ]
  },
  {
   "cell_type": "code",
   "execution_count": 80,
   "id": "cc790279",
   "metadata": {},
   "outputs": [],
   "source": [
    "for g in df.genre.value_counts().index:\n",
    "    if df[['genre' , 'espece']][df['genre']== g]['espece'].nunique() == 1:\n",
    "        df.loc[df['genre'] == g, 'espece'] = df.loc[df['genre'] == g, 'espece'].iloc[0]\n",
    "#         df.espece = df.espece.apply(lambda x : df.genre[df.genre == g].value_counts()[0])\n",
    "\n",
    "\n",
    "# fonctionne mais ne retire qu'une espece"
   ]
  },
  {
   "cell_type": "code",
   "execution_count": null,
   "id": "18ef6284",
   "metadata": {},
   "outputs": [],
   "source": []
  },
  {
   "cell_type": "code",
   "execution_count": null,
   "id": "aa1d6ffa",
   "metadata": {},
   "outputs": [],
   "source": []
  }
 ],
 "metadata": {
  "kernelspec": {
   "display_name": "Python 3 (ipykernel)",
   "language": "python",
   "name": "python3"
  },
  "language_info": {
   "codemirror_mode": {
    "name": "ipython",
    "version": 3
   },
   "file_extension": ".py",
   "mimetype": "text/x-python",
   "name": "python",
   "nbconvert_exporter": "python",
   "pygments_lexer": "ipython3",
   "version": "3.8.12"
  },
  "toc": {
   "base_numbering": 1,
   "nav_menu": {},
   "number_sections": true,
   "sideBar": true,
   "skip_h1_title": false,
   "title_cell": "Table of Contents",
   "title_sidebar": "Contents",
   "toc_cell": false,
   "toc_position": {},
   "toc_section_display": true,
   "toc_window_display": false
  }
 },
 "nbformat": 4,
 "nbformat_minor": 5
}
