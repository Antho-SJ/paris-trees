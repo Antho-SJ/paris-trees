{
 "cells": [
  {
   "cell_type": "code",
   "execution_count": 1,
   "id": "137c07a8",
   "metadata": {
    "ExecuteTime": {
     "end_time": "2024-02-14T11:19:46.887171Z",
     "start_time": "2024-02-14T11:19:45.927045Z"
    },
    "scrolled": true
   },
   "outputs": [],
   "source": [
    "import numpy as np\n",
    "import pandas as pd\n",
    "# import matplotlib\n",
    "# import matplotlib.pyplot as plt\n",
    "# import seaborn as sns\n",
    "%load_ext autoreload\n",
    "#%autoreload 2"
   ]
  },
  {
   "cell_type": "code",
   "execution_count": 2,
   "id": "4db4d640",
   "metadata": {
    "ExecuteTime": {
     "end_time": "2024-02-14T11:19:48.421598Z",
     "start_time": "2024-02-14T11:19:48.112285Z"
    },
    "scrolled": false
   },
   "outputs": [],
   "source": [
    "df = pd.read_csv('p2-arbres-fr.csv', delimiter = ';')\n",
    "# df"
   ]
  },
  {
   "cell_type": "code",
   "execution_count": 4,
   "id": "bc95539b",
   "metadata": {
    "ExecuteTime": {
     "end_time": "2024-02-14T11:20:13.643844Z",
     "start_time": "2024-02-14T11:20:13.461280Z"
    }
   },
   "outputs": [],
   "source": [
    "if 'type_emplacement' in df.columns:\n",
    "    df.drop(columns=['type_emplacement', 'numero'], inplace=True)\n",
    "    # debatable\n",
    "    df = df.dropna(subset=['domanialite'])\n",
    "    df.drop(columns=['complement_addresse'], inplace=True)\n",
    "    df.remarquable = df.remarquable.apply(lambda x : 1 if x == 1 else 0)\n",
    "    df.variete = df.variete.fillna('Manquante')\n",
    "    df['variete'] = df['variete'].apply(lambda x: x[:-1] if x.endswith(\"'\") else x)\n",
    "    \n",
    "    \n",
    "    hauteur_reccord = 31\n",
    "    circonference_reccord = 700\n",
    "\n",
    "    df_sans_outlier_hauteur = df.loc[df.hauteur_m <= hauteur_reccord, :]\n",
    "    df_sans_outlier = df_sans_outlier_hauteur.loc[df_sans_outlier_hauteur.circonference_cm <= circonference_reccord, :]\n",
    "    df_sans_outlier.head()"
   ]
  },
  {
   "cell_type": "code",
   "execution_count": 5,
   "id": "2b102b2e",
   "metadata": {
    "ExecuteTime": {
     "end_time": "2024-02-14T11:20:15.313239Z",
     "start_time": "2024-02-14T11:20:15.195730Z"
    },
    "scrolled": false
   },
   "outputs": [
    {
     "data": {
      "text/plain": [
       "id                     200136\n",
       "domanialite                 9\n",
       "arrondissement             25\n",
       "lieu                     6921\n",
       "id_emplacement          69040\n",
       "libelle_francais          192\n",
       "genre                     175\n",
       "espece                    539\n",
       "variete                   437\n",
       "circonference_cm          531\n",
       "hauteur_m                 143\n",
       "stade_developpement         4\n",
       "remarquable                 2\n",
       "geo_point_2d_a         200106\n",
       "geo_point_2d_b         200113\n",
       "dtype: int64"
      ]
     },
     "execution_count": 5,
     "metadata": {},
     "output_type": "execute_result"
    }
   ],
   "source": [
    "df.nunique()"
   ]
  },
  {
   "cell_type": "code",
   "execution_count": 131,
   "id": "7c2a59ee",
   "metadata": {
    "ExecuteTime": {
     "end_time": "2024-02-14T13:40:40.696398Z",
     "start_time": "2024-02-14T13:40:40.579543Z"
    }
   },
   "outputs": [
    {
     "data": {
      "text/plain": [
       "Platanus             42591\n",
       "Aesculus             25341\n",
       "Tilia                21550\n",
       "Acer                 18471\n",
       "Sophora              11830\n",
       "Prunus                7053\n",
       "Fraxinus              6014\n",
       "Pinus                 4861\n",
       "Celtis                4276\n",
       "Pyrus                 3928\n",
       "Quercus               3887\n",
       "Carpinus              3495\n",
       "Corylus               3463\n",
       "Populus               3352\n",
       "Robinia               2317\n",
       "Betula                2262\n",
       "Ulmus                 2133\n",
       "Taxus                 2018\n",
       "Malus                 1955\n",
       "Fagus                 1929\n",
       "Paulownia             1415\n",
       "Gleditsia             1413\n",
       "Chamaecyparis         1219\n",
       "Magnolia              1133\n",
       "Juglans               1132\n",
       "Liriodendron          1129\n",
       "Toona                 1071\n",
       "Cercis                1019\n",
       "Pterocarya            1000\n",
       "Ailanthus              956\n",
       "Ginkgo                 940\n",
       "Cedrus                 911\n",
       "Liquidambar            701\n",
       "x Cupressocyparis      680\n",
       "Morus                  679\n",
       "Name: genre, dtype: int64"
      ]
     },
     "execution_count": 131,
     "metadata": {},
     "output_type": "execute_result"
    }
   ],
   "source": [
    "#keeps 5th percentile of values\n",
    "filtered_df = df[df['genre'].map(df['genre'].value_counts()) > df['genre'].value_counts().quantile(0.8)]\n",
    "# df.isna().sum()\n",
    "filtered_df.genre.value_counts()"
   ]
  },
  {
   "cell_type": "code",
   "execution_count": 97,
   "id": "48d022eb",
   "metadata": {},
   "outputs": [
    {
     "data": {
      "text/plain": [
       "Alignement      104949\n",
       "Jardin           46262\n",
       "CIMETIERE        31926\n",
       "DASCO             6422\n",
       "PERIPHERIQUE      5327\n",
       "DJS               3900\n",
       "DFPE              1325\n",
       "DAC                 21\n",
       "DASES                4\n",
       "Name: domanialite, dtype: int64"
      ]
     },
     "execution_count": 97,
     "metadata": {},
     "output_type": "execute_result"
    }
   ],
   "source": [
    "df.domanialite.value_counts()"
   ]
  },
  {
   "cell_type": "code",
   "execution_count": 6,
   "id": "4a9ff1c9",
   "metadata": {
    "ExecuteTime": {
     "end_time": "2024-02-14T11:21:26.980152Z",
     "start_time": "2024-02-14T11:21:26.850389Z"
    },
    "scrolled": true
   },
   "outputs": [
    {
     "data": {
      "text/plain": [
       "libelle_francais        1497\n",
       "genre                     16\n",
       "espece                  1752\n",
       "stade_developpement    67205\n",
       "dtype: int64"
      ]
     },
     "execution_count": 6,
     "metadata": {},
     "output_type": "execute_result"
    }
   ],
   "source": [
    "df.isna().sum()[df.isna().sum()!=0]"
   ]
  },
  {
   "cell_type": "code",
   "execution_count": null,
   "id": "31c43abf",
   "metadata": {},
   "outputs": [],
   "source": [
    "df.remarquable.value_counts()"
   ]
  },
  {
   "cell_type": "code",
   "execution_count": null,
   "id": "ec440f76",
   "metadata": {},
   "outputs": [],
   "source": [
    "df.shape[0] == df.espece.value_counts().sum()\n"
   ]
  },
  {
   "cell_type": "code",
   "execution_count": 9,
   "id": "5ed5465a",
   "metadata": {},
   "outputs": [
    {
     "data": {
      "text/plain": [
       "sylvatica    102\n",
       "Name: espece, dtype: int64"
      ]
     },
     "execution_count": 9,
     "metadata": {},
     "output_type": "execute_result"
    }
   ],
   "source": [
    "df['espece'][df.variete == \"Atropunicea'\"].value_counts()"
   ]
  },
  {
   "cell_type": "code",
   "execution_count": 7,
   "id": "3ca28098",
   "metadata": {
    "ExecuteTime": {
     "end_time": "2024-02-14T11:21:52.857925Z",
     "start_time": "2024-02-14T11:21:52.832816Z"
    }
   },
   "outputs": [
    {
     "data": {
      "text/plain": [
       "A     9864\n",
       "JA    2888\n",
       "J     1709\n",
       "M     1367\n",
       "Name: stade_developpement, dtype: int64"
      ]
     },
     "execution_count": 7,
     "metadata": {},
     "output_type": "execute_result"
    }
   ],
   "source": [
    "df[df.espece=='hippocastanum'].stade_developpement.value_counts()"
   ]
  },
  {
   "cell_type": "code",
   "execution_count": 8,
   "id": "3f891396",
   "metadata": {
    "ExecuteTime": {
     "end_time": "2024-02-14T11:21:58.631416Z",
     "start_time": "2024-02-14T11:21:58.559231Z"
    }
   },
   "outputs": [
    {
     "data": {
      "text/plain": [
       "id                         0\n",
       "domanialite                0\n",
       "arrondissement             0\n",
       "lieu                       0\n",
       "id_emplacement             0\n",
       "libelle_francais        1497\n",
       "genre                     16\n",
       "espece                  1752\n",
       "variete                    0\n",
       "circonference_cm           0\n",
       "hauteur_m                  0\n",
       "stade_developpement    67205\n",
       "remarquable                0\n",
       "geo_point_2d_a             0\n",
       "geo_point_2d_b             0\n",
       "dtype: int64"
      ]
     },
     "execution_count": 8,
     "metadata": {},
     "output_type": "execute_result"
    }
   ],
   "source": [
    "df.isna().sum()"
   ]
  },
  {
   "cell_type": "code",
   "execution_count": 10,
   "id": "6e6758a4",
   "metadata": {
    "ExecuteTime": {
     "end_time": "2024-02-14T11:22:52.532672Z",
     "start_time": "2024-02-14T11:22:52.493991Z"
    }
   },
   "outputs": [
    {
     "data": {
      "text/html": [
       "<div>\n",
       "<style scoped>\n",
       "    .dataframe tbody tr th:only-of-type {\n",
       "        vertical-align: middle;\n",
       "    }\n",
       "\n",
       "    .dataframe tbody tr th {\n",
       "        vertical-align: top;\n",
       "    }\n",
       "\n",
       "    .dataframe thead th {\n",
       "        text-align: right;\n",
       "    }\n",
       "</style>\n",
       "<table border=\"1\" class=\"dataframe\">\n",
       "  <thead>\n",
       "    <tr style=\"text-align: right;\">\n",
       "      <th></th>\n",
       "      <th>id</th>\n",
       "      <th>domanialite</th>\n",
       "      <th>arrondissement</th>\n",
       "      <th>lieu</th>\n",
       "      <th>id_emplacement</th>\n",
       "      <th>libelle_francais</th>\n",
       "      <th>genre</th>\n",
       "      <th>espece</th>\n",
       "      <th>variete</th>\n",
       "      <th>circonference_cm</th>\n",
       "      <th>hauteur_m</th>\n",
       "      <th>stade_developpement</th>\n",
       "      <th>remarquable</th>\n",
       "      <th>geo_point_2d_a</th>\n",
       "      <th>geo_point_2d_b</th>\n",
       "    </tr>\n",
       "  </thead>\n",
       "  <tbody>\n",
       "    <tr>\n",
       "      <th>11</th>\n",
       "      <td>99885</td>\n",
       "      <td>Jardin</td>\n",
       "      <td>PARIS 16E ARRDT</td>\n",
       "      <td>JARDIN DU RANELAGH</td>\n",
       "      <td>20001</td>\n",
       "      <td>Hêtre</td>\n",
       "      <td>Fagus</td>\n",
       "      <td>sylvatica</td>\n",
       "      <td>Atropunicea</td>\n",
       "      <td>30</td>\n",
       "      <td>0</td>\n",
       "      <td>NaN</td>\n",
       "      <td>0</td>\n",
       "      <td>48.858222</td>\n",
       "      <td>2.269287</td>\n",
       "    </tr>\n",
       "    <tr>\n",
       "      <th>25</th>\n",
       "      <td>99900</td>\n",
       "      <td>Jardin</td>\n",
       "      <td>PARIS 16E ARRDT</td>\n",
       "      <td>JARDIN DU RANELAGH</td>\n",
       "      <td>20021</td>\n",
       "      <td>Hêtre</td>\n",
       "      <td>Fagus</td>\n",
       "      <td>sylvatica</td>\n",
       "      <td>Atropunicea</td>\n",
       "      <td>100</td>\n",
       "      <td>0</td>\n",
       "      <td>NaN</td>\n",
       "      <td>0</td>\n",
       "      <td>48.857849</td>\n",
       "      <td>2.267720</td>\n",
       "    </tr>\n",
       "    <tr>\n",
       "      <th>26</th>\n",
       "      <td>99901</td>\n",
       "      <td>Jardin</td>\n",
       "      <td>PARIS 16E ARRDT</td>\n",
       "      <td>JARDIN DU RANELAGH</td>\n",
       "      <td>20022</td>\n",
       "      <td>Hêtre</td>\n",
       "      <td>Fagus</td>\n",
       "      <td>sylvatica</td>\n",
       "      <td>Atropunicea</td>\n",
       "      <td>35</td>\n",
       "      <td>0</td>\n",
       "      <td>NaN</td>\n",
       "      <td>0</td>\n",
       "      <td>48.857803</td>\n",
       "      <td>2.267476</td>\n",
       "    </tr>\n",
       "    <tr>\n",
       "      <th>27</th>\n",
       "      <td>99902</td>\n",
       "      <td>Jardin</td>\n",
       "      <td>PARIS 16E ARRDT</td>\n",
       "      <td>JARDIN DU RANELAGH</td>\n",
       "      <td>20023</td>\n",
       "      <td>Hêtre</td>\n",
       "      <td>Fagus</td>\n",
       "      <td>sylvatica</td>\n",
       "      <td>Atropunicea</td>\n",
       "      <td>185</td>\n",
       "      <td>0</td>\n",
       "      <td>NaN</td>\n",
       "      <td>0</td>\n",
       "      <td>48.857809</td>\n",
       "      <td>2.267599</td>\n",
       "    </tr>\n",
       "    <tr>\n",
       "      <th>28</th>\n",
       "      <td>99903</td>\n",
       "      <td>Jardin</td>\n",
       "      <td>PARIS 16E ARRDT</td>\n",
       "      <td>JARDIN DU RANELAGH</td>\n",
       "      <td>20024</td>\n",
       "      <td>Hêtre</td>\n",
       "      <td>Fagus</td>\n",
       "      <td>sylvatica</td>\n",
       "      <td>Atropunicea</td>\n",
       "      <td>130</td>\n",
       "      <td>0</td>\n",
       "      <td>NaN</td>\n",
       "      <td>0</td>\n",
       "      <td>48.857790</td>\n",
       "      <td>2.267713</td>\n",
       "    </tr>\n",
       "    <tr>\n",
       "      <th>...</th>\n",
       "      <td>...</td>\n",
       "      <td>...</td>\n",
       "      <td>...</td>\n",
       "      <td>...</td>\n",
       "      <td>...</td>\n",
       "      <td>...</td>\n",
       "      <td>...</td>\n",
       "      <td>...</td>\n",
       "      <td>...</td>\n",
       "      <td>...</td>\n",
       "      <td>...</td>\n",
       "      <td>...</td>\n",
       "      <td>...</td>\n",
       "      <td>...</td>\n",
       "      <td>...</td>\n",
       "    </tr>\n",
       "    <tr>\n",
       "      <th>198835</th>\n",
       "      <td>2023213</td>\n",
       "      <td>DJS</td>\n",
       "      <td>PARIS 19E ARRDT</td>\n",
       "      <td>CENTRE SPORTIF JULES LADOUMEGUE / 35 ROUTE DES...</td>\n",
       "      <td>109002</td>\n",
       "      <td>Saule</td>\n",
       "      <td>Salix</td>\n",
       "      <td>babylonica</td>\n",
       "      <td>Tortuosa</td>\n",
       "      <td>20</td>\n",
       "      <td>5</td>\n",
       "      <td>NaN</td>\n",
       "      <td>0</td>\n",
       "      <td>48.890661</td>\n",
       "      <td>2.397392</td>\n",
       "    </tr>\n",
       "    <tr>\n",
       "      <th>198866</th>\n",
       "      <td>2023360</td>\n",
       "      <td>Alignement</td>\n",
       "      <td>PARIS 1ER ARRDT</td>\n",
       "      <td>RUE DE TURBIGO</td>\n",
       "      <td>402001</td>\n",
       "      <td>Fevier</td>\n",
       "      <td>Gleditsia</td>\n",
       "      <td>triacanthos</td>\n",
       "      <td>Skyline</td>\n",
       "      <td>20</td>\n",
       "      <td>5</td>\n",
       "      <td>NaN</td>\n",
       "      <td>0</td>\n",
       "      <td>48.863689</td>\n",
       "      <td>2.348325</td>\n",
       "    </tr>\n",
       "    <tr>\n",
       "      <th>198867</th>\n",
       "      <td>2023361</td>\n",
       "      <td>Alignement</td>\n",
       "      <td>PARIS 1ER ARRDT</td>\n",
       "      <td>RUE DE TURBIGO</td>\n",
       "      <td>402002</td>\n",
       "      <td>Fevier</td>\n",
       "      <td>Gleditsia</td>\n",
       "      <td>triacanthos</td>\n",
       "      <td>Skyline</td>\n",
       "      <td>20</td>\n",
       "      <td>5</td>\n",
       "      <td>NaN</td>\n",
       "      <td>0</td>\n",
       "      <td>48.863716</td>\n",
       "      <td>2.348449</td>\n",
       "    </tr>\n",
       "    <tr>\n",
       "      <th>198868</th>\n",
       "      <td>2023362</td>\n",
       "      <td>Alignement</td>\n",
       "      <td>PARIS 1ER ARRDT</td>\n",
       "      <td>RUE DE TURBIGO</td>\n",
       "      <td>402003</td>\n",
       "      <td>Fevier</td>\n",
       "      <td>Gleditsia</td>\n",
       "      <td>triacanthos</td>\n",
       "      <td>Skyline</td>\n",
       "      <td>20</td>\n",
       "      <td>5</td>\n",
       "      <td>NaN</td>\n",
       "      <td>0</td>\n",
       "      <td>48.863744</td>\n",
       "      <td>2.348573</td>\n",
       "    </tr>\n",
       "    <tr>\n",
       "      <th>198869</th>\n",
       "      <td>2023363</td>\n",
       "      <td>Alignement</td>\n",
       "      <td>PARIS 1ER ARRDT</td>\n",
       "      <td>RUE DE TURBIGO</td>\n",
       "      <td>402004</td>\n",
       "      <td>Fevier</td>\n",
       "      <td>Gleditsia</td>\n",
       "      <td>triacanthos</td>\n",
       "      <td>Skyline</td>\n",
       "      <td>20</td>\n",
       "      <td>5</td>\n",
       "      <td>NaN</td>\n",
       "      <td>0</td>\n",
       "      <td>48.863772</td>\n",
       "      <td>2.348698</td>\n",
       "    </tr>\n",
       "  </tbody>\n",
       "</table>\n",
       "<p>36777 rows × 15 columns</p>\n",
       "</div>"
      ],
      "text/plain": [
       "             id domanialite   arrondissement  \\\n",
       "11        99885      Jardin  PARIS 16E ARRDT   \n",
       "25        99900      Jardin  PARIS 16E ARRDT   \n",
       "26        99901      Jardin  PARIS 16E ARRDT   \n",
       "27        99902      Jardin  PARIS 16E ARRDT   \n",
       "28        99903      Jardin  PARIS 16E ARRDT   \n",
       "...         ...         ...              ...   \n",
       "198835  2023213         DJS  PARIS 19E ARRDT   \n",
       "198866  2023360  Alignement  PARIS 1ER ARRDT   \n",
       "198867  2023361  Alignement  PARIS 1ER ARRDT   \n",
       "198868  2023362  Alignement  PARIS 1ER ARRDT   \n",
       "198869  2023363  Alignement  PARIS 1ER ARRDT   \n",
       "\n",
       "                                                     lieu id_emplacement  \\\n",
       "11                                     JARDIN DU RANELAGH          20001   \n",
       "25                                     JARDIN DU RANELAGH          20021   \n",
       "26                                     JARDIN DU RANELAGH          20022   \n",
       "27                                     JARDIN DU RANELAGH          20023   \n",
       "28                                     JARDIN DU RANELAGH          20024   \n",
       "...                                                   ...            ...   \n",
       "198835  CENTRE SPORTIF JULES LADOUMEGUE / 35 ROUTE DES...         109002   \n",
       "198866                                     RUE DE TURBIGO         402001   \n",
       "198867                                     RUE DE TURBIGO         402002   \n",
       "198868                                     RUE DE TURBIGO         402003   \n",
       "198869                                     RUE DE TURBIGO         402004   \n",
       "\n",
       "       libelle_francais      genre       espece      variete  \\\n",
       "11                Hêtre      Fagus    sylvatica  Atropunicea   \n",
       "25                Hêtre      Fagus    sylvatica  Atropunicea   \n",
       "26                Hêtre      Fagus    sylvatica  Atropunicea   \n",
       "27                Hêtre      Fagus    sylvatica  Atropunicea   \n",
       "28                Hêtre      Fagus    sylvatica  Atropunicea   \n",
       "...                 ...        ...          ...          ...   \n",
       "198835            Saule      Salix   babylonica     Tortuosa   \n",
       "198866           Fevier  Gleditsia  triacanthos      Skyline   \n",
       "198867           Fevier  Gleditsia  triacanthos      Skyline   \n",
       "198868           Fevier  Gleditsia  triacanthos      Skyline   \n",
       "198869           Fevier  Gleditsia  triacanthos      Skyline   \n",
       "\n",
       "        circonference_cm  hauteur_m stade_developpement  remarquable  \\\n",
       "11                    30          0                 NaN            0   \n",
       "25                   100          0                 NaN            0   \n",
       "26                    35          0                 NaN            0   \n",
       "27                   185          0                 NaN            0   \n",
       "28                   130          0                 NaN            0   \n",
       "...                  ...        ...                 ...          ...   \n",
       "198835                20          5                 NaN            0   \n",
       "198866                20          5                 NaN            0   \n",
       "198867                20          5                 NaN            0   \n",
       "198868                20          5                 NaN            0   \n",
       "198869                20          5                 NaN            0   \n",
       "\n",
       "        geo_point_2d_a  geo_point_2d_b  \n",
       "11           48.858222        2.269287  \n",
       "25           48.857849        2.267720  \n",
       "26           48.857803        2.267476  \n",
       "27           48.857809        2.267599  \n",
       "28           48.857790        2.267713  \n",
       "...                ...             ...  \n",
       "198835       48.890661        2.397392  \n",
       "198866       48.863689        2.348325  \n",
       "198867       48.863716        2.348449  \n",
       "198868       48.863744        2.348573  \n",
       "198869       48.863772        2.348698  \n",
       "\n",
       "[36777 rows x 15 columns]"
      ]
     },
     "execution_count": 10,
     "metadata": {},
     "output_type": "execute_result"
    }
   ],
   "source": [
    "df[df.variete != \"Manquante\"]"
   ]
  },
  {
   "cell_type": "code",
   "execution_count": 11,
   "id": "b4d3b7ac",
   "metadata": {
    "ExecuteTime": {
     "end_time": "2024-02-14T11:23:00.366071Z",
     "start_time": "2024-02-14T11:23:00.345920Z"
    }
   },
   "outputs": [
    {
     "data": {
      "text/plain": [
       "20012.0"
      ]
     },
     "execution_count": 11,
     "metadata": {},
     "output_type": "execute_result"
    }
   ],
   "source": [
    "np.round(df.genre.value_counts().sum())/10"
   ]
  },
  {
   "cell_type": "code",
   "execution_count": 12,
   "id": "f8634f87",
   "metadata": {},
   "outputs": [
    {
     "data": {
      "text/plain": [
       "1143.5485714285714"
      ]
     },
     "execution_count": 12,
     "metadata": {},
     "output_type": "execute_result"
    }
   ],
   "source": [
    "df.genre.value_counts().mean()"
   ]
  },
  {
   "cell_type": "code",
   "execution_count": null,
   "id": "3a4e6c05",
   "metadata": {
    "scrolled": true
   },
   "outputs": [],
   "source": []
  },
  {
   "cell_type": "code",
   "execution_count": 14,
   "id": "414231c3",
   "metadata": {},
   "outputs": [],
   "source": [
    "# <ods-dataset-context context=\"lesarbresplantes\" lesarbresplantes-dataset=\"les-arbres-plantes\" lesarbresplantes-parameters=\"{'geofilter.polygon':'(48.88639177703194,2.228851318359375),(48.812289858662574,2.230224609375),(48.7874140472094,2.349700927734375),(48.82268881260476,2.4863433837890625),(48.94054322456003,2.4217987060546875),(48.88639177703194,2.228851318359375)'}\">\n",
    "#     <ods-map no-refit=\"true\" scroll-wheel-zoom=\"false\" display-control=\"true\" search-box=\"true\" toolbar-fullscreen=\"true\" toolbar-geolocation=\"true\" basemap=\"jawg.streets\" location=\"13,48.89886,2.34249\">\n",
    "#         <ods-map-layer-group>\n",
    "#             <ods-map-layer context=\"lesarbresplantes\" color=\"#C32D1C\" picto=\"ods-circle\" show-marker=\"true\" display=\"auto\" shape-opacity=\"0.5\" point-opacity=\"1\" border-color=\"#FFFFFF\" border-opacity=\"1\" border-size=\"1\" border-pattern=\"solid\" caption=\"true\" title=\"Les arbres plantés\" description=\"Jeu de données géographique\n",
    "#     présentant les arbres plantés (hors peuplement forestiers)\" size=\"4\" size-min=\"3\" size-max=\"5\" size-function=\"linear\"></ods-map-layer>\n",
    "#         </ods-map-layer-group>\n",
    "#     </ods-map>\n",
    "\n",
    "# </ods-dataset-context>"
   ]
  },
  {
   "cell_type": "code",
   "execution_count": 12,
   "id": "47e3212d",
   "metadata": {
    "ExecuteTime": {
     "end_time": "2024-02-14T11:23:07.993894Z",
     "start_time": "2024-02-14T11:23:07.937381Z"
    }
   },
   "outputs": [
    {
     "data": {
      "text/plain": [
       "False    200136\n",
       "Name: variete, dtype: int64"
      ]
     },
     "execution_count": 12,
     "metadata": {},
     "output_type": "execute_result"
    }
   ],
   "source": [
    "df['variete'].dropna().apply(lambda x: isinstance(x, float)).value_counts()\n"
   ]
  },
  {
   "cell_type": "code",
   "execution_count": 16,
   "id": "596b52ef",
   "metadata": {},
   "outputs": [
    {
     "data": {
      "text/plain": [
       "39"
      ]
     },
     "execution_count": 16,
     "metadata": {},
     "output_type": "execute_result"
    }
   ],
   "source": [
    "df.genre.value_counts()[df.genre.value_counts()<3].count()"
   ]
  },
  {
   "cell_type": "code",
   "execution_count": 17,
   "id": "a7dab4ba",
   "metadata": {},
   "outputs": [
    {
     "data": {
      "text/plain": [
       "genre  espece          \n",
       "Taxus  baccata             1991\n",
       "       n. sp.                 7\n",
       "       alba                   4\n",
       "       x media                2\n",
       "       baccata f. Aurea       1\n",
       "dtype: int64"
      ]
     },
     "execution_count": 17,
     "metadata": {},
     "output_type": "execute_result"
    }
   ],
   "source": [
    "df[['genre' , 'espece']][df['genre']=='Taxus'].value_counts()"
   ]
  },
  {
   "cell_type": "code",
   "execution_count": 18,
   "id": "0be86ed5",
   "metadata": {
    "scrolled": true
   },
   "outputs": [
    {
     "data": {
      "text/plain": [
       "x hispanica                  36409\n",
       "hippocastanum                20039\n",
       "japonica                     11822\n",
       "n. sp.                        9063\n",
       "tomentosa                     8962\n",
       "                             ...  \n",
       "polycarpa                        1\n",
       "x gondouinii                     1\n",
       "lusitanica subsp.azorica         1\n",
       "oliveri                          1\n",
       "delavayi subsp. potaninii        1\n",
       "Name: espece, Length: 539, dtype: int64"
      ]
     },
     "execution_count": 18,
     "metadata": {},
     "output_type": "execute_result"
    }
   ],
   "source": [
    "df.espece.value_counts()"
   ]
  },
  {
   "cell_type": "code",
   "execution_count": 19,
   "id": "745fcd22",
   "metadata": {},
   "outputs": [
    {
     "data": {
      "text/plain": [
       "baccata             1991\n",
       "n. sp.                 7\n",
       "alba                   4\n",
       "x media                2\n",
       "baccata f. Aurea       1\n",
       "Name: espece, dtype: int64"
      ]
     },
     "execution_count": 19,
     "metadata": {},
     "output_type": "execute_result"
    }
   ],
   "source": [
    "df[['genre' , 'espece']][df['genre']=='Taxus']['espece'].value_counts()"
   ]
  },
  {
   "cell_type": "code",
   "execution_count": 20,
   "id": "3297966d",
   "metadata": {},
   "outputs": [
    {
     "data": {
      "text/plain": [
       "Index(['x hispanica', 'hippocastanum', 'japonica', 'n. sp.', 'tomentosa',\n",
       "       'pseudoplatanus', 'platanoides', 'nigra', 'x europaea', 'x carnea',\n",
       "       ...\n",
       "       'x chinensis', 'minor var. vulgaris', 'x macrantha', 'acerifolius',\n",
       "       'horizontalis', 'polycarpa', 'x gondouinii', 'lusitanica subsp.azorica',\n",
       "       'oliveri', 'delavayi subsp. potaninii'],\n",
       "      dtype='object', length=539)"
      ]
     },
     "execution_count": 20,
     "metadata": {},
     "output_type": "execute_result"
    }
   ],
   "source": [
    "df.espece.value_counts().index"
   ]
  },
  {
   "cell_type": "code",
   "execution_count": 42,
   "id": "7e56fd57",
   "metadata": {},
   "outputs": [
    {
     "data": {
      "text/plain": [
       "Liriodendron    1129\n",
       "Name: genre, dtype: int64"
      ]
     },
     "execution_count": 42,
     "metadata": {},
     "output_type": "execute_result"
    }
   ],
   "source": [
    "df[df.genre == 'Liriodendron'].genre.value_counts()"
   ]
  },
  {
   "cell_type": "code",
   "execution_count": 36,
   "id": "9be80445",
   "metadata": {},
   "outputs": [
    {
     "data": {
      "text/plain": [
       "'Liriodendron'"
      ]
     },
     "execution_count": 36,
     "metadata": {},
     "output_type": "execute_result"
    }
   ],
   "source": [
    "g"
   ]
  },
  {
   "cell_type": "code",
   "execution_count": 13,
   "id": "a4eb9cf3",
   "metadata": {
    "ExecuteTime": {
     "end_time": "2024-02-14T11:37:42.210521Z",
     "start_time": "2024-02-14T11:37:42.144963Z"
    }
   },
   "outputs": [
    {
     "ename": "NameError",
     "evalue": "name 'g' is not defined",
     "output_type": "error",
     "traceback": [
      "\u001b[0;31m---------------------------------------------------------------------------\u001b[0m",
      "\u001b[0;31mNameError\u001b[0m                                 Traceback (most recent call last)",
      "\u001b[0;32m/tmp/ipykernel_5482/3291719120.py\u001b[0m in \u001b[0;36m<module>\u001b[0;34m\u001b[0m\n\u001b[0;32m----> 1\u001b[0;31m \u001b[0mdf\u001b[0m\u001b[0;34m.\u001b[0m\u001b[0mespece\u001b[0m \u001b[0;34m=\u001b[0m \u001b[0mdf\u001b[0m\u001b[0;34m.\u001b[0m\u001b[0mespece\u001b[0m\u001b[0;34m.\u001b[0m\u001b[0mapply\u001b[0m\u001b[0;34m(\u001b[0m\u001b[0;32mlambda\u001b[0m \u001b[0mx\u001b[0m \u001b[0;34m:\u001b[0m \u001b[0mdf\u001b[0m\u001b[0;34m.\u001b[0m\u001b[0mgenre\u001b[0m\u001b[0;34m[\u001b[0m\u001b[0mdf\u001b[0m\u001b[0;34m.\u001b[0m\u001b[0mgenre\u001b[0m \u001b[0;34m==\u001b[0m \u001b[0mg\u001b[0m\u001b[0;34m]\u001b[0m\u001b[0;34m.\u001b[0m\u001b[0mvalue_counts\u001b[0m\u001b[0;34m(\u001b[0m\u001b[0;34m)\u001b[0m\u001b[0;34m.\u001b[0m\u001b[0mindex\u001b[0m\u001b[0;34m[\u001b[0m\u001b[0;36m0\u001b[0m\u001b[0;34m]\u001b[0m\u001b[0;34m)\u001b[0m\u001b[0;34m\u001b[0m\u001b[0;34m\u001b[0m\u001b[0m\n\u001b[0m",
      "\u001b[0;32m~/.pyenv/versions/3.8.12/envs/lewagon/lib/python3.8/site-packages/pandas/core/series.py\u001b[0m in \u001b[0;36mapply\u001b[0;34m(self, func, convert_dtype, args, **kwargs)\u001b[0m\n\u001b[1;32m   4355\u001b[0m         \u001b[0mdtype\u001b[0m\u001b[0;34m:\u001b[0m \u001b[0mfloat64\u001b[0m\u001b[0;34m\u001b[0m\u001b[0;34m\u001b[0m\u001b[0m\n\u001b[1;32m   4356\u001b[0m         \"\"\"\n\u001b[0;32m-> 4357\u001b[0;31m         \u001b[0;32mreturn\u001b[0m \u001b[0mSeriesApply\u001b[0m\u001b[0;34m(\u001b[0m\u001b[0mself\u001b[0m\u001b[0;34m,\u001b[0m \u001b[0mfunc\u001b[0m\u001b[0;34m,\u001b[0m \u001b[0mconvert_dtype\u001b[0m\u001b[0;34m,\u001b[0m \u001b[0margs\u001b[0m\u001b[0;34m,\u001b[0m \u001b[0mkwargs\u001b[0m\u001b[0;34m)\u001b[0m\u001b[0;34m.\u001b[0m\u001b[0mapply\u001b[0m\u001b[0;34m(\u001b[0m\u001b[0;34m)\u001b[0m\u001b[0;34m\u001b[0m\u001b[0;34m\u001b[0m\u001b[0m\n\u001b[0m\u001b[1;32m   4358\u001b[0m \u001b[0;34m\u001b[0m\u001b[0m\n\u001b[1;32m   4359\u001b[0m     def _reduce(\n",
      "\u001b[0;32m~/.pyenv/versions/3.8.12/envs/lewagon/lib/python3.8/site-packages/pandas/core/apply.py\u001b[0m in \u001b[0;36mapply\u001b[0;34m(self)\u001b[0m\n\u001b[1;32m   1041\u001b[0m             \u001b[0;32mreturn\u001b[0m \u001b[0mself\u001b[0m\u001b[0;34m.\u001b[0m\u001b[0mapply_str\u001b[0m\u001b[0;34m(\u001b[0m\u001b[0;34m)\u001b[0m\u001b[0;34m\u001b[0m\u001b[0;34m\u001b[0m\u001b[0m\n\u001b[1;32m   1042\u001b[0m \u001b[0;34m\u001b[0m\u001b[0m\n\u001b[0;32m-> 1043\u001b[0;31m         \u001b[0;32mreturn\u001b[0m \u001b[0mself\u001b[0m\u001b[0;34m.\u001b[0m\u001b[0mapply_standard\u001b[0m\u001b[0;34m(\u001b[0m\u001b[0;34m)\u001b[0m\u001b[0;34m\u001b[0m\u001b[0;34m\u001b[0m\u001b[0m\n\u001b[0m\u001b[1;32m   1044\u001b[0m \u001b[0;34m\u001b[0m\u001b[0m\n\u001b[1;32m   1045\u001b[0m     \u001b[0;32mdef\u001b[0m \u001b[0magg\u001b[0m\u001b[0;34m(\u001b[0m\u001b[0mself\u001b[0m\u001b[0;34m)\u001b[0m\u001b[0;34m:\u001b[0m\u001b[0;34m\u001b[0m\u001b[0;34m\u001b[0m\u001b[0m\n",
      "\u001b[0;32m~/.pyenv/versions/3.8.12/envs/lewagon/lib/python3.8/site-packages/pandas/core/apply.py\u001b[0m in \u001b[0;36mapply_standard\u001b[0;34m(self)\u001b[0m\n\u001b[1;32m   1096\u001b[0m                 \u001b[0;31m# List[Union[Callable[..., Any], str]]]]]\"; expected\u001b[0m\u001b[0;34m\u001b[0m\u001b[0;34m\u001b[0m\u001b[0;34m\u001b[0m\u001b[0m\n\u001b[1;32m   1097\u001b[0m                 \u001b[0;31m# \"Callable[[Any], Any]\"\u001b[0m\u001b[0;34m\u001b[0m\u001b[0;34m\u001b[0m\u001b[0;34m\u001b[0m\u001b[0m\n\u001b[0;32m-> 1098\u001b[0;31m                 mapped = lib.map_infer(\n\u001b[0m\u001b[1;32m   1099\u001b[0m                     \u001b[0mvalues\u001b[0m\u001b[0;34m,\u001b[0m\u001b[0;34m\u001b[0m\u001b[0;34m\u001b[0m\u001b[0m\n\u001b[1;32m   1100\u001b[0m                     \u001b[0mf\u001b[0m\u001b[0;34m,\u001b[0m  \u001b[0;31m# type: ignore[arg-type]\u001b[0m\u001b[0;34m\u001b[0m\u001b[0;34m\u001b[0m\u001b[0m\n",
      "\u001b[0;32m~/.pyenv/versions/3.8.12/envs/lewagon/lib/python3.8/site-packages/pandas/_libs/lib.pyx\u001b[0m in \u001b[0;36mpandas._libs.lib.map_infer\u001b[0;34m()\u001b[0m\n",
      "\u001b[0;32m/tmp/ipykernel_5482/3291719120.py\u001b[0m in \u001b[0;36m<lambda>\u001b[0;34m(x)\u001b[0m\n\u001b[0;32m----> 1\u001b[0;31m \u001b[0mdf\u001b[0m\u001b[0;34m.\u001b[0m\u001b[0mespece\u001b[0m \u001b[0;34m=\u001b[0m \u001b[0mdf\u001b[0m\u001b[0;34m.\u001b[0m\u001b[0mespece\u001b[0m\u001b[0;34m.\u001b[0m\u001b[0mapply\u001b[0m\u001b[0;34m(\u001b[0m\u001b[0;32mlambda\u001b[0m \u001b[0mx\u001b[0m \u001b[0;34m:\u001b[0m \u001b[0mdf\u001b[0m\u001b[0;34m.\u001b[0m\u001b[0mgenre\u001b[0m\u001b[0;34m[\u001b[0m\u001b[0mdf\u001b[0m\u001b[0;34m.\u001b[0m\u001b[0mgenre\u001b[0m \u001b[0;34m==\u001b[0m \u001b[0mg\u001b[0m\u001b[0;34m]\u001b[0m\u001b[0;34m.\u001b[0m\u001b[0mvalue_counts\u001b[0m\u001b[0;34m(\u001b[0m\u001b[0;34m)\u001b[0m\u001b[0;34m.\u001b[0m\u001b[0mindex\u001b[0m\u001b[0;34m[\u001b[0m\u001b[0;36m0\u001b[0m\u001b[0;34m]\u001b[0m\u001b[0;34m)\u001b[0m\u001b[0;34m\u001b[0m\u001b[0;34m\u001b[0m\u001b[0m\n\u001b[0m",
      "\u001b[0;31mNameError\u001b[0m: name 'g' is not defined"
     ]
    }
   ],
   "source": [
    "df.espece = df.espece.apply(lambda x : df.genre[df.genre == g].value_counts().index[0])"
   ]
  },
  {
   "cell_type": "code",
   "execution_count": null,
   "id": "248a57d8",
   "metadata": {},
   "outputs": [],
   "source": []
  },
  {
   "cell_type": "code",
   "execution_count": 20,
   "id": "6a0afe11",
   "metadata": {
    "ExecuteTime": {
     "end_time": "2024-02-14T11:43:58.248673Z",
     "start_time": "2024-02-14T11:43:58.222110Z"
    }
   },
   "outputs": [
    {
     "data": {
      "text/plain": [
       "Alignement      104949\n",
       "Jardin           46262\n",
       "CIMETIERE        31926\n",
       "DASCO             6422\n",
       "PERIPHERIQUE      5327\n",
       "DJS               3900\n",
       "DFPE              1325\n",
       "DAC                 21\n",
       "DASES                4\n",
       "Name: domanialite, dtype: int64"
      ]
     },
     "execution_count": 20,
     "metadata": {},
     "output_type": "execute_result"
    }
   ],
   "source": [
    "df.domanialite.value_counts()"
   ]
  },
  {
   "cell_type": "code",
   "execution_count": null,
   "id": "6c2b213b",
   "metadata": {},
   "outputs": [],
   "source": []
  },
  {
   "cell_type": "code",
   "execution_count": 24,
   "id": "3b1df2b3",
   "metadata": {
    "ExecuteTime": {
     "end_time": "2024-02-14T11:46:44.902163Z",
     "start_time": "2024-02-14T11:46:44.871511Z"
    },
    "scrolled": true
   },
   "outputs": [
    {
     "data": {
      "text/html": [
       "<div>\n",
       "<style scoped>\n",
       "    .dataframe tbody tr th:only-of-type {\n",
       "        vertical-align: middle;\n",
       "    }\n",
       "\n",
       "    .dataframe tbody tr th {\n",
       "        vertical-align: top;\n",
       "    }\n",
       "\n",
       "    .dataframe thead th {\n",
       "        text-align: right;\n",
       "    }\n",
       "</style>\n",
       "<table border=\"1\" class=\"dataframe\">\n",
       "  <thead>\n",
       "    <tr style=\"text-align: right;\">\n",
       "      <th></th>\n",
       "      <th>id</th>\n",
       "      <th>domanialite</th>\n",
       "      <th>arrondissement</th>\n",
       "      <th>lieu</th>\n",
       "      <th>id_emplacement</th>\n",
       "      <th>libelle_francais</th>\n",
       "      <th>genre</th>\n",
       "      <th>espece</th>\n",
       "      <th>variete</th>\n",
       "      <th>circonference_cm</th>\n",
       "      <th>hauteur_m</th>\n",
       "      <th>stade_developpement</th>\n",
       "      <th>remarquable</th>\n",
       "      <th>geo_point_2d_a</th>\n",
       "      <th>geo_point_2d_b</th>\n",
       "    </tr>\n",
       "  </thead>\n",
       "  <tbody>\n",
       "    <tr>\n",
       "      <th>0</th>\n",
       "      <td>99874</td>\n",
       "      <td>Jardin</td>\n",
       "      <td>PARIS 7E ARRDT</td>\n",
       "      <td>MAIRIE DU 7E 116 RUE DE GRENELLE PARIS 7E</td>\n",
       "      <td>19</td>\n",
       "      <td>Marronnier</td>\n",
       "      <td>Aesculus</td>\n",
       "      <td>hippocastanum</td>\n",
       "      <td>Manquante</td>\n",
       "      <td>20</td>\n",
       "      <td>5</td>\n",
       "      <td>NaN</td>\n",
       "      <td>0</td>\n",
       "      <td>48.857620</td>\n",
       "      <td>2.320962</td>\n",
       "    </tr>\n",
       "    <tr>\n",
       "      <th>1</th>\n",
       "      <td>99875</td>\n",
       "      <td>Jardin</td>\n",
       "      <td>PARIS 7E ARRDT</td>\n",
       "      <td>MAIRIE DU 7E 116 RUE DE GRENELLE PARIS 7E</td>\n",
       "      <td>20</td>\n",
       "      <td>If</td>\n",
       "      <td>Taxus</td>\n",
       "      <td>baccata</td>\n",
       "      <td>Manquante</td>\n",
       "      <td>65</td>\n",
       "      <td>8</td>\n",
       "      <td>A</td>\n",
       "      <td>0</td>\n",
       "      <td>48.857656</td>\n",
       "      <td>2.321031</td>\n",
       "    </tr>\n",
       "    <tr>\n",
       "      <th>2</th>\n",
       "      <td>99876</td>\n",
       "      <td>Jardin</td>\n",
       "      <td>PARIS 7E ARRDT</td>\n",
       "      <td>MAIRIE DU 7E 116 RUE DE GRENELLE PARIS 7E</td>\n",
       "      <td>21</td>\n",
       "      <td>If</td>\n",
       "      <td>Taxus</td>\n",
       "      <td>baccata</td>\n",
       "      <td>Manquante</td>\n",
       "      <td>90</td>\n",
       "      <td>10</td>\n",
       "      <td>A</td>\n",
       "      <td>0</td>\n",
       "      <td>48.857705</td>\n",
       "      <td>2.321061</td>\n",
       "    </tr>\n",
       "    <tr>\n",
       "      <th>3</th>\n",
       "      <td>99877</td>\n",
       "      <td>Jardin</td>\n",
       "      <td>PARIS 7E ARRDT</td>\n",
       "      <td>MAIRIE DU 7E 116 RUE DE GRENELLE PARIS 7E</td>\n",
       "      <td>22</td>\n",
       "      <td>Erable</td>\n",
       "      <td>Acer</td>\n",
       "      <td>negundo</td>\n",
       "      <td>Manquante</td>\n",
       "      <td>60</td>\n",
       "      <td>8</td>\n",
       "      <td>A</td>\n",
       "      <td>0</td>\n",
       "      <td>48.857722</td>\n",
       "      <td>2.321006</td>\n",
       "    </tr>\n",
       "    <tr>\n",
       "      <th>4</th>\n",
       "      <td>99878</td>\n",
       "      <td>Jardin</td>\n",
       "      <td>PARIS 17E ARRDT</td>\n",
       "      <td>PARC CLICHY-BATIGNOLLES-MARTIN LUTHER KING</td>\n",
       "      <td>000G0037</td>\n",
       "      <td>Arbre à miel</td>\n",
       "      <td>Tetradium</td>\n",
       "      <td>daniellii</td>\n",
       "      <td>Manquante</td>\n",
       "      <td>38</td>\n",
       "      <td>0</td>\n",
       "      <td>NaN</td>\n",
       "      <td>0</td>\n",
       "      <td>48.890435</td>\n",
       "      <td>2.315289</td>\n",
       "    </tr>\n",
       "    <tr>\n",
       "      <th>...</th>\n",
       "      <td>...</td>\n",
       "      <td>...</td>\n",
       "      <td>...</td>\n",
       "      <td>...</td>\n",
       "      <td>...</td>\n",
       "      <td>...</td>\n",
       "      <td>...</td>\n",
       "      <td>...</td>\n",
       "      <td>...</td>\n",
       "      <td>...</td>\n",
       "      <td>...</td>\n",
       "      <td>...</td>\n",
       "      <td>...</td>\n",
       "      <td>...</td>\n",
       "      <td>...</td>\n",
       "    </tr>\n",
       "    <tr>\n",
       "      <th>200132</th>\n",
       "      <td>2024741</td>\n",
       "      <td>Jardin</td>\n",
       "      <td>BOIS DE VINCENNES</td>\n",
       "      <td>ARBORETUM DE L ECOLE DU BREUIL - ROUTE DE LA F...</td>\n",
       "      <td>720170151</td>\n",
       "      <td>NaN</td>\n",
       "      <td>Castanea</td>\n",
       "      <td>fargesii</td>\n",
       "      <td>Manquante</td>\n",
       "      <td>0</td>\n",
       "      <td>0</td>\n",
       "      <td>NaN</td>\n",
       "      <td>0</td>\n",
       "      <td>48.821957</td>\n",
       "      <td>2.456264</td>\n",
       "    </tr>\n",
       "    <tr>\n",
       "      <th>200133</th>\n",
       "      <td>2024742</td>\n",
       "      <td>Jardin</td>\n",
       "      <td>BOIS DE VINCENNES</td>\n",
       "      <td>ARBORETUM DE L ECOLE DU BREUIL - ROUTE DE LA F...</td>\n",
       "      <td>720170152</td>\n",
       "      <td>Arbre aux mouchoirs</td>\n",
       "      <td>Davidia</td>\n",
       "      <td>involucrata</td>\n",
       "      <td>Manquante</td>\n",
       "      <td>0</td>\n",
       "      <td>0</td>\n",
       "      <td>NaN</td>\n",
       "      <td>0</td>\n",
       "      <td>48.823254</td>\n",
       "      <td>2.457935</td>\n",
       "    </tr>\n",
       "    <tr>\n",
       "      <th>200134</th>\n",
       "      <td>2024743</td>\n",
       "      <td>Jardin</td>\n",
       "      <td>BOIS DE VINCENNES</td>\n",
       "      <td>ARBORETUM DE L ECOLE DU BREUIL - ROUTE DE LA F...</td>\n",
       "      <td>720170153</td>\n",
       "      <td>Peuplier</td>\n",
       "      <td>Populus</td>\n",
       "      <td>simonii</td>\n",
       "      <td>Manquante</td>\n",
       "      <td>0</td>\n",
       "      <td>0</td>\n",
       "      <td>NaN</td>\n",
       "      <td>0</td>\n",
       "      <td>48.822907</td>\n",
       "      <td>2.457970</td>\n",
       "    </tr>\n",
       "    <tr>\n",
       "      <th>200135</th>\n",
       "      <td>2024744</td>\n",
       "      <td>Jardin</td>\n",
       "      <td>BOIS DE VINCENNES</td>\n",
       "      <td>ARBORETUM DE L ECOLE DU BREUIL - ROUTE DE LA F...</td>\n",
       "      <td>720170154</td>\n",
       "      <td>Chêne</td>\n",
       "      <td>Quercus</td>\n",
       "      <td>n. sp.</td>\n",
       "      <td>Manquante</td>\n",
       "      <td>0</td>\n",
       "      <td>0</td>\n",
       "      <td>NaN</td>\n",
       "      <td>0</td>\n",
       "      <td>48.822522</td>\n",
       "      <td>2.455956</td>\n",
       "    </tr>\n",
       "    <tr>\n",
       "      <th>200136</th>\n",
       "      <td>2024745</td>\n",
       "      <td>Jardin</td>\n",
       "      <td>BOIS DE VINCENNES</td>\n",
       "      <td>ARBORETUM DE L ECOLE DU BREUIL - ROUTE DE LA F...</td>\n",
       "      <td>720170155</td>\n",
       "      <td>Raisinier</td>\n",
       "      <td>Hovenia</td>\n",
       "      <td>dulcis</td>\n",
       "      <td>Manquante</td>\n",
       "      <td>0</td>\n",
       "      <td>0</td>\n",
       "      <td>NaN</td>\n",
       "      <td>0</td>\n",
       "      <td>48.820445</td>\n",
       "      <td>2.454856</td>\n",
       "    </tr>\n",
       "  </tbody>\n",
       "</table>\n",
       "<p>200136 rows × 15 columns</p>\n",
       "</div>"
      ],
      "text/plain": [
       "             id domanialite     arrondissement  \\\n",
       "0         99874      Jardin     PARIS 7E ARRDT   \n",
       "1         99875      Jardin     PARIS 7E ARRDT   \n",
       "2         99876      Jardin     PARIS 7E ARRDT   \n",
       "3         99877      Jardin     PARIS 7E ARRDT   \n",
       "4         99878      Jardin    PARIS 17E ARRDT   \n",
       "...         ...         ...                ...   \n",
       "200132  2024741      Jardin  BOIS DE VINCENNES   \n",
       "200133  2024742      Jardin  BOIS DE VINCENNES   \n",
       "200134  2024743      Jardin  BOIS DE VINCENNES   \n",
       "200135  2024744      Jardin  BOIS DE VINCENNES   \n",
       "200136  2024745      Jardin  BOIS DE VINCENNES   \n",
       "\n",
       "                                                     lieu id_emplacement  \\\n",
       "0               MAIRIE DU 7E 116 RUE DE GRENELLE PARIS 7E             19   \n",
       "1               MAIRIE DU 7E 116 RUE DE GRENELLE PARIS 7E             20   \n",
       "2               MAIRIE DU 7E 116 RUE DE GRENELLE PARIS 7E             21   \n",
       "3               MAIRIE DU 7E 116 RUE DE GRENELLE PARIS 7E             22   \n",
       "4              PARC CLICHY-BATIGNOLLES-MARTIN LUTHER KING       000G0037   \n",
       "...                                                   ...            ...   \n",
       "200132  ARBORETUM DE L ECOLE DU BREUIL - ROUTE DE LA F...      720170151   \n",
       "200133  ARBORETUM DE L ECOLE DU BREUIL - ROUTE DE LA F...      720170152   \n",
       "200134  ARBORETUM DE L ECOLE DU BREUIL - ROUTE DE LA F...      720170153   \n",
       "200135  ARBORETUM DE L ECOLE DU BREUIL - ROUTE DE LA F...      720170154   \n",
       "200136  ARBORETUM DE L ECOLE DU BREUIL - ROUTE DE LA F...      720170155   \n",
       "\n",
       "           libelle_francais      genre         espece    variete  \\\n",
       "0                Marronnier   Aesculus  hippocastanum  Manquante   \n",
       "1                        If      Taxus        baccata  Manquante   \n",
       "2                        If      Taxus        baccata  Manquante   \n",
       "3                    Erable       Acer        negundo  Manquante   \n",
       "4              Arbre à miel  Tetradium      daniellii  Manquante   \n",
       "...                     ...        ...            ...        ...   \n",
       "200132                  NaN   Castanea       fargesii  Manquante   \n",
       "200133  Arbre aux mouchoirs    Davidia    involucrata  Manquante   \n",
       "200134             Peuplier    Populus        simonii  Manquante   \n",
       "200135                Chêne    Quercus         n. sp.  Manquante   \n",
       "200136            Raisinier    Hovenia         dulcis  Manquante   \n",
       "\n",
       "        circonference_cm  hauteur_m stade_developpement  remarquable  \\\n",
       "0                     20          5                 NaN            0   \n",
       "1                     65          8                   A            0   \n",
       "2                     90         10                   A            0   \n",
       "3                     60          8                   A            0   \n",
       "4                     38          0                 NaN            0   \n",
       "...                  ...        ...                 ...          ...   \n",
       "200132                 0          0                 NaN            0   \n",
       "200133                 0          0                 NaN            0   \n",
       "200134                 0          0                 NaN            0   \n",
       "200135                 0          0                 NaN            0   \n",
       "200136                 0          0                 NaN            0   \n",
       "\n",
       "        geo_point_2d_a  geo_point_2d_b  \n",
       "0            48.857620        2.320962  \n",
       "1            48.857656        2.321031  \n",
       "2            48.857705        2.321061  \n",
       "3            48.857722        2.321006  \n",
       "4            48.890435        2.315289  \n",
       "...                ...             ...  \n",
       "200132       48.821957        2.456264  \n",
       "200133       48.823254        2.457935  \n",
       "200134       48.822907        2.457970  \n",
       "200135       48.822522        2.455956  \n",
       "200136       48.820445        2.454856  \n",
       "\n",
       "[200136 rows x 15 columns]"
      ]
     },
     "execution_count": 24,
     "metadata": {},
     "output_type": "execute_result"
    }
   ],
   "source": [
    "df"
   ]
  },
  {
   "cell_type": "code",
   "execution_count": 127,
   "id": "55e20331",
   "metadata": {
    "ExecuteTime": {
     "end_time": "2024-02-14T13:35:19.581369Z",
     "start_time": "2024-02-14T13:35:19.574545Z"
    }
   },
   "outputs": [
    {
     "data": {
      "text/plain": [
       "genre\n",
       "Platanus          32\n",
       "Fagus             12\n",
       "Quercus           11\n",
       "Aesculus          10\n",
       "Cedrus             8\n",
       "Ginkgo             8\n",
       "Corylus            7\n",
       "Pterocarya         7\n",
       "Acer               6\n",
       "Diospyros          6\n",
       "Sequoiadendron     5\n",
       "Name: remarquable, dtype: int64"
      ]
     },
     "execution_count": 127,
     "metadata": {},
     "output_type": "execute_result"
    }
   ],
   "source": [
    "remarquable_per_genre_df"
   ]
  },
  {
   "cell_type": "code",
   "execution_count": 138,
   "id": "ebde2769",
   "metadata": {
    "ExecuteTime": {
     "end_time": "2024-02-14T13:51:35.000396Z",
     "start_time": "2024-02-14T13:51:34.946586Z"
    }
   },
   "outputs": [
    {
     "name": "stdout",
     "output_type": "stream",
     "text": [
      "Taux d'arbre remarquable pour les 10 genres d'arbres les plus plantés dans Paris\n"
     ]
    },
    {
     "data": {
      "text/html": [
       "<div>\n",
       "<style scoped>\n",
       "    .dataframe tbody tr th:only-of-type {\n",
       "        vertical-align: middle;\n",
       "    }\n",
       "\n",
       "    .dataframe tbody tr th {\n",
       "        vertical-align: top;\n",
       "    }\n",
       "\n",
       "    .dataframe thead th {\n",
       "        text-align: right;\n",
       "    }\n",
       "</style>\n",
       "<table border=\"1\" class=\"dataframe\">\n",
       "  <thead>\n",
       "    <tr style=\"text-align: right;\">\n",
       "      <th></th>\n",
       "      <th>%</th>\n",
       "      <th>nombre d'arbre remarquable par genre</th>\n",
       "    </tr>\n",
       "  </thead>\n",
       "  <tbody>\n",
       "    <tr>\n",
       "      <th>Platanus</th>\n",
       "      <td>0.075133</td>\n",
       "      <td>32</td>\n",
       "    </tr>\n",
       "    <tr>\n",
       "      <th>Aesculus</th>\n",
       "      <td>0.039462</td>\n",
       "      <td>10</td>\n",
       "    </tr>\n",
       "    <tr>\n",
       "      <th>Acer</th>\n",
       "      <td>0.032483</td>\n",
       "      <td>6</td>\n",
       "    </tr>\n",
       "    <tr>\n",
       "      <th>Quercus</th>\n",
       "      <td>0.282995</td>\n",
       "      <td>11</td>\n",
       "    </tr>\n",
       "    <tr>\n",
       "      <th>Corylus</th>\n",
       "      <td>0.202137</td>\n",
       "      <td>7</td>\n",
       "    </tr>\n",
       "    <tr>\n",
       "      <th>Fagus</th>\n",
       "      <td>0.622084</td>\n",
       "      <td>12</td>\n",
       "    </tr>\n",
       "    <tr>\n",
       "      <th>Pterocarya</th>\n",
       "      <td>0.700000</td>\n",
       "      <td>7</td>\n",
       "    </tr>\n",
       "    <tr>\n",
       "      <th>Ginkgo</th>\n",
       "      <td>0.851064</td>\n",
       "      <td>8</td>\n",
       "    </tr>\n",
       "    <tr>\n",
       "      <th>Cedrus</th>\n",
       "      <td>0.878156</td>\n",
       "      <td>8</td>\n",
       "    </tr>\n",
       "    <tr>\n",
       "      <th>Diospyros</th>\n",
       "      <td>4.000000</td>\n",
       "      <td>6</td>\n",
       "    </tr>\n",
       "  </tbody>\n",
       "</table>\n",
       "</div>"
      ],
      "text/plain": [
       "                   %  nombre d'arbre remarquable par genre\n",
       "Platanus    0.075133                                    32\n",
       "Aesculus    0.039462                                    10\n",
       "Acer        0.032483                                     6\n",
       "Quercus     0.282995                                    11\n",
       "Corylus     0.202137                                     7\n",
       "Fagus       0.622084                                    12\n",
       "Pterocarya  0.700000                                     7\n",
       "Ginkgo      0.851064                                     8\n",
       "Cedrus      0.878156                                     8\n",
       "Diospyros   4.000000                                     6"
      ]
     },
     "execution_count": 138,
     "metadata": {},
     "output_type": "execute_result"
    }
   ],
   "source": [
    "remarquable_per_genre_df = df.groupby(['genre'])['remarquable'].sum().sort_values(ascending=False)\n",
    "remarquable_per_genre_df = remarquable_per_genre_df[remarquable_per_genre_df>=5]\n",
    "temp_serie = df[df['genre'].isin(remarquable_per_genre_df[remarquable_per_genre_df > 0].index)]\\\n",
    ".genre.value_counts().sort_values()\n",
    "print('Taux d\\'arbre remarquable pour les 10 genres d\\'arbres les plus plantés dans Paris')\n",
    "\n",
    "percentage_remarquable_df = pd.DataFrame(remarquable_per_genre_df.div(temp_serie)*100, columns = ['%'],\\\n",
    "             index=temp_serie.sort_values(ascending=False).index).head(10)\n",
    "percentage_remarquable_df[\"nombre d'arbre remarquable par genre\"] = remarquable_per_genre_df\n",
    "percentage_remarquable_df\n",
    "# remarquable_per_g = \n",
    "\n",
    "# remarquable_percentage_df = pd.DataFrame({remarquable_per_genre_df : remarquable_per_genre_df/})\n",
    "\n",
    "\n"
   ]
  },
  {
   "cell_type": "markdown",
   "id": "525f1224",
   "metadata": {},
   "source": [
    "L'échantillon étant très faible, le maximum d'arbre remarquable par genre d'arbre étant 32 platanes), si on veut maximiser les chances de produires des arbres remarquable à Paris il peut être intéressant de planter l'un de ces genres d'abres qui ne sont pas des cas isolés (au moins 4 instances recensés).\n",
    "On ne peut pas se contenter de dire qu'il faut planter un maximum de Pterocarya pour maximiser ces chances, les Platanus, les Pinus, Quercus et Corylus"
   ]
  },
  {
   "cell_type": "code",
   "execution_count": 73,
   "id": "82ca090c",
   "metadata": {
    "ExecuteTime": {
     "end_time": "2024-02-14T12:14:16.980064Z",
     "start_time": "2024-02-14T12:14:16.973236Z"
    }
   },
   "outputs": [
    {
     "data": {
      "text/plain": [
       "7"
      ]
     },
     "execution_count": 73,
     "metadata": {},
     "output_type": "execute_result"
    }
   ],
   "source": [
    "temp_serie['Eucommia']"
   ]
  },
  {
   "cell_type": "code",
   "execution_count": 84,
   "id": "fec06f1c",
   "metadata": {
    "ExecuteTime": {
     "end_time": "2024-02-14T12:17:14.797461Z",
     "start_time": "2024-02-14T12:17:14.788549Z"
    },
    "scrolled": true
   },
   "outputs": [
    {
     "data": {
      "text/plain": [
       "Acer               0.032483\n",
       "Aesculus           0.039462\n",
       "Catalpa            0.676819\n",
       "Cedrus             0.878156\n",
       "Celtis             0.070159\n",
       "Corylus            0.202137\n",
       "Diospyros          4.000000\n",
       "Fagus              0.622084\n",
       "Ginkgo             0.851064\n",
       "Liriodendron       0.354296\n",
       "Magnolia           0.264784\n",
       "Melia              2.255639\n",
       "Pinus              0.082288\n",
       "Platanus           0.075133\n",
       "Pterocarya         0.700000\n",
       "Quercus            0.282995\n",
       "Sequoiadendron     8.064516\n",
       "Taxodium          11.538462\n",
       "Taxus              0.198216\n",
       "Ulmus              0.140647\n",
       "Zelkova            1.156069\n",
       "dtype: float64"
      ]
     },
     "execution_count": 84,
     "metadata": {},
     "output_type": "execute_result"
    }
   ],
   "source": []
  },
  {
   "cell_type": "code",
   "execution_count": 119,
   "id": "bff423c4",
   "metadata": {
    "ExecuteTime": {
     "end_time": "2024-02-14T13:07:04.247489Z",
     "start_time": "2024-02-14T13:07:04.186491Z"
    },
    "scrolled": true
   },
   "outputs": [
    {
     "ename": "TypeError",
     "evalue": "unhashable type: 'Series'",
     "output_type": "error",
     "traceback": [
      "\u001b[0;31m---------------------------------------------------------------------------\u001b[0m",
      "\u001b[0;31mTypeError\u001b[0m                                 Traceback (most recent call last)",
      "\u001b[0;32m/tmp/ipykernel_5482/2815035281.py\u001b[0m in \u001b[0;36m<module>\u001b[0;34m\u001b[0m\n\u001b[0;32m----> 1\u001b[0;31m \u001b[0mremarquable_percentage_df\u001b[0m \u001b[0;34m=\u001b[0m \u001b[0mpd\u001b[0m\u001b[0;34m.\u001b[0m\u001b[0mDataFrame\u001b[0m\u001b[0;34m(\u001b[0m\u001b[0;34m{\u001b[0m\u001b[0mremarquable_per_genre_df\u001b[0m \u001b[0;34m:\u001b[0m \u001b[0mremarquable_per_genre_df\u001b[0m\u001b[0;34m.\u001b[0m\u001b[0mdiv\u001b[0m\u001b[0;34m(\u001b[0m\u001b[0mtemp_serie\u001b[0m\u001b[0;34m)\u001b[0m\u001b[0;34m*\u001b[0m\u001b[0;36m100\u001b[0m\u001b[0;34m}\u001b[0m\u001b[0;34m)\u001b[0m\u001b[0;34m\u001b[0m\u001b[0;34m\u001b[0m\u001b[0m\n\u001b[0m",
      "\u001b[0;31mTypeError\u001b[0m: unhashable type: 'Series'"
     ]
    }
   ],
   "source": [
    "remarquable_percentage_df = pd.DataFrame({remarquable_per_genre_df : remarquable_per_genre_df.div(temp_serie)*100})"
   ]
  },
  {
   "cell_type": "markdown",
   "id": "058093c6",
   "metadata": {},
   "source": [
    "2. ***Pistes à suivre***"
   ]
  },
  {
   "cell_type": "code",
   "execution_count": 48,
   "id": "e1c5de12",
   "metadata": {},
   "outputs": [],
   "source": [
    "# df.id_emplacement.value_counts()\n",
    "# Creuser 'Manquante'\n"
   ]
  },
  {
   "cell_type": "code",
   "execution_count": null,
   "id": "bc7f3e65",
   "metadata": {},
   "outputs": [],
   "source": []
  },
  {
   "cell_type": "code",
   "execution_count": null,
   "id": "c523967e",
   "metadata": {},
   "outputs": [],
   "source": []
  },
  {
   "cell_type": "code",
   "execution_count": null,
   "id": "3043f478",
   "metadata": {},
   "outputs": [],
   "source": []
  },
  {
   "cell_type": "code",
   "execution_count": null,
   "id": "efefcce8",
   "metadata": {},
   "outputs": [],
   "source": []
  },
  {
   "cell_type": "code",
   "execution_count": null,
   "id": "28cbecaa",
   "metadata": {},
   "outputs": [],
   "source": []
  },
  {
   "cell_type": "code",
   "execution_count": null,
   "id": "ce50b4a5",
   "metadata": {},
   "outputs": [],
   "source": []
  },
  {
   "cell_type": "markdown",
   "id": "fbf238c5",
   "metadata": {},
   "source": [
    "4. ***DUMP***"
   ]
  },
  {
   "cell_type": "code",
   "execution_count": 80,
   "id": "c1352d61",
   "metadata": {},
   "outputs": [],
   "source": [
    "for g in df.genre.value_counts().index:\n",
    "    if df[['genre' , 'espece']][df['genre']== g]['espece'].nunique() == 1:\n",
    "        df.loc[df['genre'] == g, 'espece'] = df.loc[df['genre'] == g, 'espece'].iloc[0]\n",
    "#         df.espece = df.espece.apply(lambda x : df.genre[df.genre == g].value_counts()[0])\n",
    "\n",
    "\n",
    "# fonctionne mais ne retire qu'une espece"
   ]
  },
  {
   "cell_type": "code",
   "execution_count": null,
   "id": "a8080ca4",
   "metadata": {},
   "outputs": [],
   "source": []
  },
  {
   "cell_type": "code",
   "execution_count": null,
   "id": "f7b4f3a7",
   "metadata": {},
   "outputs": [],
   "source": []
  }
 ],
 "metadata": {
  "kernelspec": {
   "display_name": "Python 3 (ipykernel)",
   "language": "python",
   "name": "python3"
  },
  "language_info": {
   "codemirror_mode": {
    "name": "ipython",
    "version": 3
   },
   "file_extension": ".py",
   "mimetype": "text/x-python",
   "name": "python",
   "nbconvert_exporter": "python",
   "pygments_lexer": "ipython3",
   "version": "3.8.12"
  },
  "toc": {
   "base_numbering": 1,
   "nav_menu": {},
   "number_sections": true,
   "sideBar": true,
   "skip_h1_title": false,
   "title_cell": "Table of Contents",
   "title_sidebar": "Contents",
   "toc_cell": false,
   "toc_position": {},
   "toc_section_display": true,
   "toc_window_display": false
  }
 },
 "nbformat": 4,
 "nbformat_minor": 5
}
