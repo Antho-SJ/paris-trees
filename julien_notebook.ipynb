{
 "cells": [
  {
   "cell_type": "code",
   "execution_count": 1,
   "id": "6146145b",
   "metadata": {},
   "outputs": [],
   "source": [
    "# !pip install pandas\n",
    "# !pip freeze > requirements.txt"
   ]
  },
  {
   "cell_type": "code",
   "execution_count": 136,
   "id": "137c07a8",
   "metadata": {
    "ExecuteTime": {
     "end_time": "2024-02-13T14:29:22.307264Z",
     "start_time": "2024-02-13T14:29:20.894774Z"
    },
    "scrolled": true
   },
   "outputs": [
    {
     "name": "stdout",
     "output_type": "stream",
     "text": [
      "The autoreload extension is already loaded. To reload it, use:\n",
      "  %reload_ext autoreload\n"
     ]
    }
   ],
   "source": [
    "import numpy as np\n",
    "import pandas as pd\n",
    "\n",
    "import re\n",
    "from collections import Counter\n",
    "import matplotlib\n",
    "import matplotlib.pyplot as plt\n",
    "import seaborn as sns\n",
    "%load_ext autoreload\n",
    "%autoreload 2"
   ]
  },
  {
   "cell_type": "code",
   "execution_count": 145,
   "id": "56092582",
   "metadata": {},
   "outputs": [],
   "source": [
    "!pip freeze > requirements.txt"
   ]
  },
  {
   "cell_type": "code",
   "execution_count": 34,
   "id": "4db4d640",
   "metadata": {
    "ExecuteTime": {
     "end_time": "2024-02-13T14:45:03.651284Z",
     "start_time": "2024-02-13T14:45:03.323195Z"
    },
    "scrolled": false
   },
   "outputs": [],
   "source": [
    "df = pd.read_csv('p2-arbres-fr.csv', delimiter = ';')\n",
    "# df"
   ]
  },
  {
   "cell_type": "code",
   "execution_count": 35,
   "id": "bc95539b",
   "metadata": {
    "ExecuteTime": {
     "end_time": "2024-02-13T14:59:40.055984Z",
     "start_time": "2024-02-13T14:59:35.673167Z"
    }
   },
   "outputs": [],
   "source": [
    "if 'type_emplacement' in df.columns:\n",
    "    df.drop(columns=['type_emplacement', 'numero'], inplace=True)\n",
    "    # debatable\n",
    "    df = df.dropna(subset=['domanialite'])\n",
    "    df.drop(columns=['complement_addresse'], inplace=True)\n",
    "    df.remarquable = df.remarquable.apply(lambda x : 1 if x == 1 else 0)\n",
    "    df.variete = df.variete.fillna('Manquante')\n",
    "    df['variete'] = df['variete'].apply(lambda x: x[:-1] if x.endswith(\"'\") else x)\n",
    "\n",
    "    ### Filling values for each of genre, species and varietes when there is only one occurence of one of those in\n",
    "    ### one of those categories.\n",
    "\n",
    "\n",
    "    ## repeating the process three times in case one of\n",
    "\n",
    "\n",
    "\n",
    "\n",
    "    # genre > espece\n",
    "    for g in df.genre.value_counts().index:\n",
    "        if df[['genre' , 'espece']][df['genre']== g]['espece'].nunique() == 1:\n",
    "            df.loc[df['genre'] == g, 'espece'] = df.loc[df['genre'] == g, 'espece'].iloc[0]\n",
    "\n",
    "    # espece > variete\n",
    "    # espece > variete\n"
   ]
  },
  {
   "cell_type": "code",
   "execution_count": 38,
   "id": "0c276105",
   "metadata": {},
   "outputs": [
    {
     "data": {
      "text/plain": [
       "variete\n",
       "Manquante             163359\n",
       "Baumannii               4538\n",
       "Briotii                 2827\n",
       "Euchlora                2756\n",
       "Chanticleer             2595\n",
       "                       ...  \n",
       "Ferox                      1\n",
       "Schnee                     1\n",
       "Wageningeri                1\n",
       "Tristan                    1\n",
       "Grosse Pomme Noire         1\n",
       "Name: count, Length: 437, dtype: int64"
      ]
     },
     "execution_count": 38,
     "metadata": {},
     "output_type": "execute_result"
    }
   ],
   "source": [
    "df.variete.value_counts()\n",
    "\n",
    "# #keeps 5th percentile of values\n",
    "# filtered_df = df[df['genre'].map(df['genre'].value_counts()) > df['genre'].value_counts().quantile(0.8)]\n",
    "# # df.isna().sum()\n",
    "# filtered_df.genre.value_counts()"
   ]
  },
  {
   "cell_type": "code",
   "execution_count": 7,
   "id": "2b102b2e",
   "metadata": {
    "ExecuteTime": {
     "end_time": "2024-02-13T14:40:55.295968Z",
     "start_time": "2024-02-13T14:40:55.160858Z"
    },
    "scrolled": true
   },
   "outputs": [
    {
     "data": {
      "text/plain": [
       "id                     200136\n",
       "domanialite                 9\n",
       "arrondissement             25\n",
       "lieu                     6921\n",
       "id_emplacement          69040\n",
       "libelle_francais          192\n",
       "genre                     175\n",
       "espece                    539\n",
       "variete                   437\n",
       "circonference_cm          531\n",
       "hauteur_m                 143\n",
       "stade_developpement         4\n",
       "remarquable                 2\n",
       "geo_point_2d_a         200106\n",
       "geo_point_2d_b         200113\n",
       "dtype: int64"
      ]
     },
     "execution_count": 7,
     "metadata": {},
     "output_type": "execute_result"
    }
   ],
   "source": [
    "df.nunique()"
   ]
  },
  {
   "cell_type": "code",
   "execution_count": null,
   "id": "39357a7d",
   "metadata": {},
   "outputs": [],
   "source": []
  },
  {
   "cell_type": "code",
   "execution_count": null,
   "id": "62256070",
   "metadata": {},
   "outputs": [],
   "source": []
  },
  {
   "cell_type": "code",
   "execution_count": 8,
   "id": "48d022eb",
   "metadata": {},
   "outputs": [
    {
     "data": {
      "text/plain": [
       "domanialite\n",
       "Alignement      104949\n",
       "Jardin           46262\n",
       "CIMETIERE        31926\n",
       "DASCO             6422\n",
       "PERIPHERIQUE      5327\n",
       "DJS               3900\n",
       "DFPE              1325\n",
       "DAC                 21\n",
       "DASES                4\n",
       "Name: count, dtype: int64"
      ]
     },
     "execution_count": 8,
     "metadata": {},
     "output_type": "execute_result"
    }
   ],
   "source": [
    "df.domanialite.value_counts()"
   ]
  },
  {
   "cell_type": "code",
   "execution_count": 9,
   "id": "4a9ff1c9",
   "metadata": {
    "scrolled": true
   },
   "outputs": [
    {
     "data": {
      "text/plain": [
       "libelle_francais        1497\n",
       "genre                     16\n",
       "espece                  1751\n",
       "stade_developpement    67205\n",
       "dtype: int64"
      ]
     },
     "execution_count": 9,
     "metadata": {},
     "output_type": "execute_result"
    }
   ],
   "source": [
    "df.isna().sum()[df.isna().sum()!=0]"
   ]
  },
  {
   "cell_type": "code",
   "execution_count": 10,
   "id": "31c43abf",
   "metadata": {},
   "outputs": [
    {
     "data": {
      "text/plain": [
       "remarquable\n",
       "0    199952\n",
       "1       184\n",
       "Name: count, dtype: int64"
      ]
     },
     "execution_count": 10,
     "metadata": {},
     "output_type": "execute_result"
    }
   ],
   "source": [
    "df.remarquable.value_counts()"
   ]
  },
  {
   "cell_type": "code",
   "execution_count": 11,
   "id": "ec440f76",
   "metadata": {},
   "outputs": [
    {
     "data": {
      "text/plain": [
       "False"
      ]
     },
     "execution_count": 11,
     "metadata": {},
     "output_type": "execute_result"
    }
   ],
   "source": [
    "df.shape[0] == df.espece.value_counts().sum()\n"
   ]
  },
  {
   "cell_type": "code",
   "execution_count": 12,
   "id": "5ed5465a",
   "metadata": {},
   "outputs": [
    {
     "data": {
      "text/plain": [
       "Series([], Name: count, dtype: int64)"
      ]
     },
     "execution_count": 12,
     "metadata": {},
     "output_type": "execute_result"
    }
   ],
   "source": [
    "df['espece'][df.variete == \"Atropunicea'\"].value_counts()"
   ]
  },
  {
   "cell_type": "code",
   "execution_count": null,
   "id": "3e8d9f63",
   "metadata": {},
   "outputs": [],
   "source": []
  },
  {
   "cell_type": "code",
   "execution_count": 13,
   "id": "3ca28098",
   "metadata": {
    "ExecuteTime": {
     "end_time": "2024-02-13T15:31:28.161463Z",
     "start_time": "2024-02-13T15:31:28.137265Z"
    }
   },
   "outputs": [
    {
     "data": {
      "text/plain": [
       "stade_developpement\n",
       "A     9864\n",
       "JA    2888\n",
       "J     1709\n",
       "M     1367\n",
       "Name: count, dtype: int64"
      ]
     },
     "execution_count": 13,
     "metadata": {},
     "output_type": "execute_result"
    }
   ],
   "source": [
    "df[df.espece=='hippocastanum'].stade_developpement.value_counts()"
   ]
  },
  {
   "cell_type": "code",
   "execution_count": 14,
   "id": "3f891396",
   "metadata": {
    "ExecuteTime": {
     "end_time": "2024-02-13T15:36:11.853252Z",
     "start_time": "2024-02-13T15:36:11.781628Z"
    }
   },
   "outputs": [
    {
     "data": {
      "text/plain": [
       "id                         0\n",
       "domanialite                0\n",
       "arrondissement             0\n",
       "lieu                       0\n",
       "id_emplacement             0\n",
       "libelle_francais        1497\n",
       "genre                     16\n",
       "espece                  1751\n",
       "variete                    0\n",
       "circonference_cm           0\n",
       "hauteur_m                  0\n",
       "stade_developpement    67205\n",
       "remarquable                0\n",
       "geo_point_2d_a             0\n",
       "geo_point_2d_b             0\n",
       "dtype: int64"
      ]
     },
     "execution_count": 14,
     "metadata": {},
     "output_type": "execute_result"
    }
   ],
   "source": [
    "df.isna().sum()"
   ]
  },
  {
   "cell_type": "code",
   "execution_count": 15,
   "id": "6e6758a4",
   "metadata": {},
   "outputs": [
    {
     "data": {
      "text/html": [
       "<div>\n",
       "<style scoped>\n",
       "    .dataframe tbody tr th:only-of-type {\n",
       "        vertical-align: middle;\n",
       "    }\n",
       "\n",
       "    .dataframe tbody tr th {\n",
       "        vertical-align: top;\n",
       "    }\n",
       "\n",
       "    .dataframe thead th {\n",
       "        text-align: right;\n",
       "    }\n",
       "</style>\n",
       "<table border=\"1\" class=\"dataframe\">\n",
       "  <thead>\n",
       "    <tr style=\"text-align: right;\">\n",
       "      <th></th>\n",
       "      <th>id</th>\n",
       "      <th>domanialite</th>\n",
       "      <th>arrondissement</th>\n",
       "      <th>lieu</th>\n",
       "      <th>id_emplacement</th>\n",
       "      <th>libelle_francais</th>\n",
       "      <th>genre</th>\n",
       "      <th>espece</th>\n",
       "      <th>variete</th>\n",
       "      <th>circonference_cm</th>\n",
       "      <th>hauteur_m</th>\n",
       "      <th>stade_developpement</th>\n",
       "      <th>remarquable</th>\n",
       "      <th>geo_point_2d_a</th>\n",
       "      <th>geo_point_2d_b</th>\n",
       "    </tr>\n",
       "  </thead>\n",
       "  <tbody>\n",
       "    <tr>\n",
       "      <th>11</th>\n",
       "      <td>99885</td>\n",
       "      <td>Jardin</td>\n",
       "      <td>PARIS 16E ARRDT</td>\n",
       "      <td>JARDIN DU RANELAGH</td>\n",
       "      <td>20001</td>\n",
       "      <td>Hêtre</td>\n",
       "      <td>Fagus</td>\n",
       "      <td>sylvatica</td>\n",
       "      <td>Atropunicea</td>\n",
       "      <td>30</td>\n",
       "      <td>0</td>\n",
       "      <td>NaN</td>\n",
       "      <td>0</td>\n",
       "      <td>48.858222</td>\n",
       "      <td>2.269287</td>\n",
       "    </tr>\n",
       "    <tr>\n",
       "      <th>25</th>\n",
       "      <td>99900</td>\n",
       "      <td>Jardin</td>\n",
       "      <td>PARIS 16E ARRDT</td>\n",
       "      <td>JARDIN DU RANELAGH</td>\n",
       "      <td>20021</td>\n",
       "      <td>Hêtre</td>\n",
       "      <td>Fagus</td>\n",
       "      <td>sylvatica</td>\n",
       "      <td>Atropunicea</td>\n",
       "      <td>100</td>\n",
       "      <td>0</td>\n",
       "      <td>NaN</td>\n",
       "      <td>0</td>\n",
       "      <td>48.857849</td>\n",
       "      <td>2.267720</td>\n",
       "    </tr>\n",
       "    <tr>\n",
       "      <th>26</th>\n",
       "      <td>99901</td>\n",
       "      <td>Jardin</td>\n",
       "      <td>PARIS 16E ARRDT</td>\n",
       "      <td>JARDIN DU RANELAGH</td>\n",
       "      <td>20022</td>\n",
       "      <td>Hêtre</td>\n",
       "      <td>Fagus</td>\n",
       "      <td>sylvatica</td>\n",
       "      <td>Atropunicea</td>\n",
       "      <td>35</td>\n",
       "      <td>0</td>\n",
       "      <td>NaN</td>\n",
       "      <td>0</td>\n",
       "      <td>48.857803</td>\n",
       "      <td>2.267476</td>\n",
       "    </tr>\n",
       "    <tr>\n",
       "      <th>27</th>\n",
       "      <td>99902</td>\n",
       "      <td>Jardin</td>\n",
       "      <td>PARIS 16E ARRDT</td>\n",
       "      <td>JARDIN DU RANELAGH</td>\n",
       "      <td>20023</td>\n",
       "      <td>Hêtre</td>\n",
       "      <td>Fagus</td>\n",
       "      <td>sylvatica</td>\n",
       "      <td>Atropunicea</td>\n",
       "      <td>185</td>\n",
       "      <td>0</td>\n",
       "      <td>NaN</td>\n",
       "      <td>0</td>\n",
       "      <td>48.857809</td>\n",
       "      <td>2.267599</td>\n",
       "    </tr>\n",
       "    <tr>\n",
       "      <th>28</th>\n",
       "      <td>99903</td>\n",
       "      <td>Jardin</td>\n",
       "      <td>PARIS 16E ARRDT</td>\n",
       "      <td>JARDIN DU RANELAGH</td>\n",
       "      <td>20024</td>\n",
       "      <td>Hêtre</td>\n",
       "      <td>Fagus</td>\n",
       "      <td>sylvatica</td>\n",
       "      <td>Atropunicea</td>\n",
       "      <td>130</td>\n",
       "      <td>0</td>\n",
       "      <td>NaN</td>\n",
       "      <td>0</td>\n",
       "      <td>48.857790</td>\n",
       "      <td>2.267713</td>\n",
       "    </tr>\n",
       "    <tr>\n",
       "      <th>...</th>\n",
       "      <td>...</td>\n",
       "      <td>...</td>\n",
       "      <td>...</td>\n",
       "      <td>...</td>\n",
       "      <td>...</td>\n",
       "      <td>...</td>\n",
       "      <td>...</td>\n",
       "      <td>...</td>\n",
       "      <td>...</td>\n",
       "      <td>...</td>\n",
       "      <td>...</td>\n",
       "      <td>...</td>\n",
       "      <td>...</td>\n",
       "      <td>...</td>\n",
       "      <td>...</td>\n",
       "    </tr>\n",
       "    <tr>\n",
       "      <th>198835</th>\n",
       "      <td>2023213</td>\n",
       "      <td>DJS</td>\n",
       "      <td>PARIS 19E ARRDT</td>\n",
       "      <td>CENTRE SPORTIF JULES LADOUMEGUE / 35 ROUTE DES...</td>\n",
       "      <td>109002</td>\n",
       "      <td>Saule</td>\n",
       "      <td>Salix</td>\n",
       "      <td>babylonica</td>\n",
       "      <td>Tortuosa</td>\n",
       "      <td>20</td>\n",
       "      <td>5</td>\n",
       "      <td>NaN</td>\n",
       "      <td>0</td>\n",
       "      <td>48.890661</td>\n",
       "      <td>2.397392</td>\n",
       "    </tr>\n",
       "    <tr>\n",
       "      <th>198866</th>\n",
       "      <td>2023360</td>\n",
       "      <td>Alignement</td>\n",
       "      <td>PARIS 1ER ARRDT</td>\n",
       "      <td>RUE DE TURBIGO</td>\n",
       "      <td>402001</td>\n",
       "      <td>Fevier</td>\n",
       "      <td>Gleditsia</td>\n",
       "      <td>triacanthos</td>\n",
       "      <td>Skyline</td>\n",
       "      <td>20</td>\n",
       "      <td>5</td>\n",
       "      <td>NaN</td>\n",
       "      <td>0</td>\n",
       "      <td>48.863689</td>\n",
       "      <td>2.348325</td>\n",
       "    </tr>\n",
       "    <tr>\n",
       "      <th>198867</th>\n",
       "      <td>2023361</td>\n",
       "      <td>Alignement</td>\n",
       "      <td>PARIS 1ER ARRDT</td>\n",
       "      <td>RUE DE TURBIGO</td>\n",
       "      <td>402002</td>\n",
       "      <td>Fevier</td>\n",
       "      <td>Gleditsia</td>\n",
       "      <td>triacanthos</td>\n",
       "      <td>Skyline</td>\n",
       "      <td>20</td>\n",
       "      <td>5</td>\n",
       "      <td>NaN</td>\n",
       "      <td>0</td>\n",
       "      <td>48.863716</td>\n",
       "      <td>2.348449</td>\n",
       "    </tr>\n",
       "    <tr>\n",
       "      <th>198868</th>\n",
       "      <td>2023362</td>\n",
       "      <td>Alignement</td>\n",
       "      <td>PARIS 1ER ARRDT</td>\n",
       "      <td>RUE DE TURBIGO</td>\n",
       "      <td>402003</td>\n",
       "      <td>Fevier</td>\n",
       "      <td>Gleditsia</td>\n",
       "      <td>triacanthos</td>\n",
       "      <td>Skyline</td>\n",
       "      <td>20</td>\n",
       "      <td>5</td>\n",
       "      <td>NaN</td>\n",
       "      <td>0</td>\n",
       "      <td>48.863744</td>\n",
       "      <td>2.348573</td>\n",
       "    </tr>\n",
       "    <tr>\n",
       "      <th>198869</th>\n",
       "      <td>2023363</td>\n",
       "      <td>Alignement</td>\n",
       "      <td>PARIS 1ER ARRDT</td>\n",
       "      <td>RUE DE TURBIGO</td>\n",
       "      <td>402004</td>\n",
       "      <td>Fevier</td>\n",
       "      <td>Gleditsia</td>\n",
       "      <td>triacanthos</td>\n",
       "      <td>Skyline</td>\n",
       "      <td>20</td>\n",
       "      <td>5</td>\n",
       "      <td>NaN</td>\n",
       "      <td>0</td>\n",
       "      <td>48.863772</td>\n",
       "      <td>2.348698</td>\n",
       "    </tr>\n",
       "  </tbody>\n",
       "</table>\n",
       "<p>36777 rows × 15 columns</p>\n",
       "</div>"
      ],
      "text/plain": [
       "             id domanialite   arrondissement  \\\n",
       "11        99885      Jardin  PARIS 16E ARRDT   \n",
       "25        99900      Jardin  PARIS 16E ARRDT   \n",
       "26        99901      Jardin  PARIS 16E ARRDT   \n",
       "27        99902      Jardin  PARIS 16E ARRDT   \n",
       "28        99903      Jardin  PARIS 16E ARRDT   \n",
       "...         ...         ...              ...   \n",
       "198835  2023213         DJS  PARIS 19E ARRDT   \n",
       "198866  2023360  Alignement  PARIS 1ER ARRDT   \n",
       "198867  2023361  Alignement  PARIS 1ER ARRDT   \n",
       "198868  2023362  Alignement  PARIS 1ER ARRDT   \n",
       "198869  2023363  Alignement  PARIS 1ER ARRDT   \n",
       "\n",
       "                                                     lieu id_emplacement  \\\n",
       "11                                     JARDIN DU RANELAGH          20001   \n",
       "25                                     JARDIN DU RANELAGH          20021   \n",
       "26                                     JARDIN DU RANELAGH          20022   \n",
       "27                                     JARDIN DU RANELAGH          20023   \n",
       "28                                     JARDIN DU RANELAGH          20024   \n",
       "...                                                   ...            ...   \n",
       "198835  CENTRE SPORTIF JULES LADOUMEGUE / 35 ROUTE DES...         109002   \n",
       "198866                                     RUE DE TURBIGO         402001   \n",
       "198867                                     RUE DE TURBIGO         402002   \n",
       "198868                                     RUE DE TURBIGO         402003   \n",
       "198869                                     RUE DE TURBIGO         402004   \n",
       "\n",
       "       libelle_francais      genre       espece      variete  \\\n",
       "11                Hêtre      Fagus    sylvatica  Atropunicea   \n",
       "25                Hêtre      Fagus    sylvatica  Atropunicea   \n",
       "26                Hêtre      Fagus    sylvatica  Atropunicea   \n",
       "27                Hêtre      Fagus    sylvatica  Atropunicea   \n",
       "28                Hêtre      Fagus    sylvatica  Atropunicea   \n",
       "...                 ...        ...          ...          ...   \n",
       "198835            Saule      Salix   babylonica     Tortuosa   \n",
       "198866           Fevier  Gleditsia  triacanthos      Skyline   \n",
       "198867           Fevier  Gleditsia  triacanthos      Skyline   \n",
       "198868           Fevier  Gleditsia  triacanthos      Skyline   \n",
       "198869           Fevier  Gleditsia  triacanthos      Skyline   \n",
       "\n",
       "        circonference_cm  hauteur_m stade_developpement  remarquable  \\\n",
       "11                    30          0                 NaN            0   \n",
       "25                   100          0                 NaN            0   \n",
       "26                    35          0                 NaN            0   \n",
       "27                   185          0                 NaN            0   \n",
       "28                   130          0                 NaN            0   \n",
       "...                  ...        ...                 ...          ...   \n",
       "198835                20          5                 NaN            0   \n",
       "198866                20          5                 NaN            0   \n",
       "198867                20          5                 NaN            0   \n",
       "198868                20          5                 NaN            0   \n",
       "198869                20          5                 NaN            0   \n",
       "\n",
       "        geo_point_2d_a  geo_point_2d_b  \n",
       "11           48.858222        2.269287  \n",
       "25           48.857849        2.267720  \n",
       "26           48.857803        2.267476  \n",
       "27           48.857809        2.267599  \n",
       "28           48.857790        2.267713  \n",
       "...                ...             ...  \n",
       "198835       48.890661        2.397392  \n",
       "198866       48.863689        2.348325  \n",
       "198867       48.863716        2.348449  \n",
       "198868       48.863744        2.348573  \n",
       "198869       48.863772        2.348698  \n",
       "\n",
       "[36777 rows x 15 columns]"
      ]
     },
     "execution_count": 15,
     "metadata": {},
     "output_type": "execute_result"
    }
   ],
   "source": [
    "df[df.variete != \"Manquante\"]"
   ]
  },
  {
   "cell_type": "code",
   "execution_count": 16,
   "id": "b4d3b7ac",
   "metadata": {},
   "outputs": [
    {
     "data": {
      "text/plain": [
       "20012.0"
      ]
     },
     "execution_count": 16,
     "metadata": {},
     "output_type": "execute_result"
    }
   ],
   "source": [
    "np.round(df.genre.value_counts().sum())/10"
   ]
  },
  {
   "cell_type": "code",
   "execution_count": 17,
   "id": "f8634f87",
   "metadata": {},
   "outputs": [
    {
     "data": {
      "text/plain": [
       "1143.5428571428572"
      ]
     },
     "execution_count": 17,
     "metadata": {},
     "output_type": "execute_result"
    }
   ],
   "source": [
    "df.genre.value_counts().mean()"
   ]
  },
  {
   "cell_type": "code",
   "execution_count": null,
   "id": "3a4e6c05",
   "metadata": {
    "scrolled": true
   },
   "outputs": [],
   "source": []
  },
  {
   "cell_type": "code",
   "execution_count": 18,
   "id": "414231c3",
   "metadata": {},
   "outputs": [],
   "source": [
    "# <ods-dataset-context context=\"lesarbresplantes\" lesarbresplantes-dataset=\"les-arbres-plantes\" lesarbresplantes-parameters=\"{'geofilter.polygon':'(48.88639177703194,2.228851318359375),(48.812289858662574,2.230224609375),(48.7874140472094,2.349700927734375),(48.82268881260476,2.4863433837890625),(48.94054322456003,2.4217987060546875),(48.88639177703194,2.228851318359375)'}\">\n",
    "#     <ods-map no-refit=\"true\" scroll-wheel-zoom=\"false\" display-control=\"true\" search-box=\"true\" toolbar-fullscreen=\"true\" toolbar-geolocation=\"true\" basemap=\"jawg.streets\" location=\"13,48.89886,2.34249\">\n",
    "#         <ods-map-layer-group>\n",
    "#             <ods-map-layer context=\"lesarbresplantes\" color=\"#C32D1C\" picto=\"ods-circle\" show-marker=\"true\" display=\"auto\" shape-opacity=\"0.5\" point-opacity=\"1\" border-color=\"#FFFFFF\" border-opacity=\"1\" border-size=\"1\" border-pattern=\"solid\" caption=\"true\" title=\"Les arbres plantés\" description=\"Jeu de données géographique\n",
    "#     présentant les arbres plantés (hors peuplement forestiers)\" size=\"4\" size-min=\"3\" size-max=\"5\" size-function=\"linear\"></ods-map-layer>\n",
    "#         </ods-map-layer-group>\n",
    "#     </ods-map>\n",
    "\n",
    "# </ods-dataset-context>"
   ]
  },
  {
   "cell_type": "code",
   "execution_count": null,
   "id": "4004c2a0",
   "metadata": {},
   "outputs": [],
   "source": []
  },
  {
   "cell_type": "code",
   "execution_count": null,
   "id": "22c5e311",
   "metadata": {},
   "outputs": [],
   "source": []
  },
  {
   "cell_type": "code",
   "execution_count": 19,
   "id": "47e3212d",
   "metadata": {},
   "outputs": [
    {
     "data": {
      "text/plain": [
       "variete\n",
       "False    200136\n",
       "Name: count, dtype: int64"
      ]
     },
     "execution_count": 19,
     "metadata": {},
     "output_type": "execute_result"
    }
   ],
   "source": [
    "df['variete'].dropna().apply(lambda x: isinstance(x, float)).value_counts()\n"
   ]
  },
  {
   "cell_type": "code",
   "execution_count": 20,
   "id": "596b52ef",
   "metadata": {},
   "outputs": [
    {
     "data": {
      "text/plain": [
       "40"
      ]
     },
     "execution_count": 20,
     "metadata": {},
     "output_type": "execute_result"
    }
   ],
   "source": [
    "df.genre.value_counts()[df.genre.value_counts()<3].count()"
   ]
  },
  {
   "cell_type": "code",
   "execution_count": 21,
   "id": "a7dab4ba",
   "metadata": {},
   "outputs": [
    {
     "data": {
      "text/plain": [
       "genre  espece          \n",
       "Taxus  baccata             1991\n",
       "       n. sp.                 7\n",
       "       alba                   4\n",
       "       x media                2\n",
       "       baccata f. Aurea       1\n",
       "Name: count, dtype: int64"
      ]
     },
     "execution_count": 21,
     "metadata": {},
     "output_type": "execute_result"
    }
   ],
   "source": [
    "df[['genre' , 'espece']][df['genre']=='Taxus'].value_counts()"
   ]
  },
  {
   "cell_type": "code",
   "execution_count": 22,
   "id": "0be86ed5",
   "metadata": {
    "scrolled": true
   },
   "outputs": [
    {
     "data": {
      "text/plain": [
       "espece\n",
       "x hispanica                  36409\n",
       "hippocastanum                20039\n",
       "japonica                     11822\n",
       "n. sp.                        9063\n",
       "tomentosa                     8962\n",
       "                             ...  \n",
       "polycarpa                        1\n",
       "x gondouinii                     1\n",
       "lusitanica subsp.azorica         1\n",
       "oliveri                          1\n",
       "delavayi subsp. potaninii        1\n",
       "Name: count, Length: 539, dtype: int64"
      ]
     },
     "execution_count": 22,
     "metadata": {},
     "output_type": "execute_result"
    }
   ],
   "source": [
    "df.espece.value_counts()"
   ]
  },
  {
   "cell_type": "code",
   "execution_count": 23,
   "id": "745fcd22",
   "metadata": {},
   "outputs": [
    {
     "data": {
      "text/plain": [
       "espece\n",
       "baccata             1991\n",
       "n. sp.                 7\n",
       "alba                   4\n",
       "x media                2\n",
       "baccata f. Aurea       1\n",
       "Name: count, dtype: int64"
      ]
     },
     "execution_count": 23,
     "metadata": {},
     "output_type": "execute_result"
    }
   ],
   "source": [
    "df[['genre' , 'espece']][df['genre']=='Taxus']['espece'].value_counts()"
   ]
  },
  {
   "cell_type": "code",
   "execution_count": 24,
   "id": "3297966d",
   "metadata": {},
   "outputs": [
    {
     "data": {
      "text/plain": [
       "Index(['x hispanica', 'hippocastanum', 'japonica', 'n. sp.', 'tomentosa',\n",
       "       'pseudoplatanus', 'platanoides', 'nigra', 'x europaea', 'x carnea',\n",
       "       ...\n",
       "       'x chinensis', 'minor var. vulgaris', 'x macrantha', 'acerifolius',\n",
       "       'horizontalis', 'polycarpa', 'x gondouinii', 'lusitanica subsp.azorica',\n",
       "       'oliveri', 'delavayi subsp. potaninii'],\n",
       "      dtype='object', name='espece', length=539)"
      ]
     },
     "execution_count": 24,
     "metadata": {},
     "output_type": "execute_result"
    }
   ],
   "source": [
    "df.espece.value_counts().index"
   ]
  },
  {
   "cell_type": "code",
   "execution_count": 25,
   "id": "7e56fd57",
   "metadata": {},
   "outputs": [
    {
     "data": {
      "text/plain": [
       "genre\n",
       "Liriodendron    1129\n",
       "Name: count, dtype: int64"
      ]
     },
     "execution_count": 25,
     "metadata": {},
     "output_type": "execute_result"
    }
   ],
   "source": [
    "df[df.genre == 'Liriodendron'].genre.value_counts()"
   ]
  },
  {
   "cell_type": "code",
   "execution_count": 26,
   "id": "9be80445",
   "metadata": {},
   "outputs": [
    {
     "data": {
      "text/plain": [
       "'Washingtonia'"
      ]
     },
     "execution_count": 26,
     "metadata": {},
     "output_type": "execute_result"
    }
   ],
   "source": [
    "g"
   ]
  },
  {
   "cell_type": "code",
   "execution_count": 28,
   "id": "a4eb9cf3",
   "metadata": {},
   "outputs": [],
   "source": [
    "# df.espece = df.espece.apply(lambda x : df.genre[df.genre == g].value_counts().index[0])"
   ]
  },
  {
   "cell_type": "code",
   "execution_count": 29,
   "id": "c99d1ec3",
   "metadata": {},
   "outputs": [
    {
     "data": {
      "text/html": [
       "<div>\n",
       "<style scoped>\n",
       "    .dataframe tbody tr th:only-of-type {\n",
       "        vertical-align: middle;\n",
       "    }\n",
       "\n",
       "    .dataframe tbody tr th {\n",
       "        vertical-align: top;\n",
       "    }\n",
       "\n",
       "    .dataframe thead th {\n",
       "        text-align: right;\n",
       "    }\n",
       "</style>\n",
       "<table border=\"1\" class=\"dataframe\">\n",
       "  <thead>\n",
       "    <tr style=\"text-align: right;\">\n",
       "      <th></th>\n",
       "      <th>id</th>\n",
       "      <th>domanialite</th>\n",
       "      <th>arrondissement</th>\n",
       "      <th>lieu</th>\n",
       "      <th>id_emplacement</th>\n",
       "      <th>libelle_francais</th>\n",
       "      <th>genre</th>\n",
       "      <th>espece</th>\n",
       "      <th>variete</th>\n",
       "      <th>circonference_cm</th>\n",
       "      <th>hauteur_m</th>\n",
       "      <th>stade_developpement</th>\n",
       "      <th>remarquable</th>\n",
       "      <th>geo_point_2d_a</th>\n",
       "      <th>geo_point_2d_b</th>\n",
       "    </tr>\n",
       "  </thead>\n",
       "  <tbody>\n",
       "    <tr>\n",
       "      <th>0</th>\n",
       "      <td>99874</td>\n",
       "      <td>Jardin</td>\n",
       "      <td>PARIS 7E ARRDT</td>\n",
       "      <td>MAIRIE DU 7E 116 RUE DE GRENELLE PARIS 7E</td>\n",
       "      <td>19</td>\n",
       "      <td>Marronnier</td>\n",
       "      <td>Aesculus</td>\n",
       "      <td>hippocastanum</td>\n",
       "      <td>Manquante</td>\n",
       "      <td>20</td>\n",
       "      <td>5</td>\n",
       "      <td>NaN</td>\n",
       "      <td>0</td>\n",
       "      <td>48.857620</td>\n",
       "      <td>2.320962</td>\n",
       "    </tr>\n",
       "    <tr>\n",
       "      <th>1</th>\n",
       "      <td>99875</td>\n",
       "      <td>Jardin</td>\n",
       "      <td>PARIS 7E ARRDT</td>\n",
       "      <td>MAIRIE DU 7E 116 RUE DE GRENELLE PARIS 7E</td>\n",
       "      <td>20</td>\n",
       "      <td>If</td>\n",
       "      <td>Taxus</td>\n",
       "      <td>baccata</td>\n",
       "      <td>Manquante</td>\n",
       "      <td>65</td>\n",
       "      <td>8</td>\n",
       "      <td>A</td>\n",
       "      <td>0</td>\n",
       "      <td>48.857656</td>\n",
       "      <td>2.321031</td>\n",
       "    </tr>\n",
       "    <tr>\n",
       "      <th>2</th>\n",
       "      <td>99876</td>\n",
       "      <td>Jardin</td>\n",
       "      <td>PARIS 7E ARRDT</td>\n",
       "      <td>MAIRIE DU 7E 116 RUE DE GRENELLE PARIS 7E</td>\n",
       "      <td>21</td>\n",
       "      <td>If</td>\n",
       "      <td>Taxus</td>\n",
       "      <td>baccata</td>\n",
       "      <td>Manquante</td>\n",
       "      <td>90</td>\n",
       "      <td>10</td>\n",
       "      <td>A</td>\n",
       "      <td>0</td>\n",
       "      <td>48.857705</td>\n",
       "      <td>2.321061</td>\n",
       "    </tr>\n",
       "    <tr>\n",
       "      <th>3</th>\n",
       "      <td>99877</td>\n",
       "      <td>Jardin</td>\n",
       "      <td>PARIS 7E ARRDT</td>\n",
       "      <td>MAIRIE DU 7E 116 RUE DE GRENELLE PARIS 7E</td>\n",
       "      <td>22</td>\n",
       "      <td>Erable</td>\n",
       "      <td>Acer</td>\n",
       "      <td>negundo</td>\n",
       "      <td>Manquante</td>\n",
       "      <td>60</td>\n",
       "      <td>8</td>\n",
       "      <td>A</td>\n",
       "      <td>0</td>\n",
       "      <td>48.857722</td>\n",
       "      <td>2.321006</td>\n",
       "    </tr>\n",
       "    <tr>\n",
       "      <th>4</th>\n",
       "      <td>99878</td>\n",
       "      <td>Jardin</td>\n",
       "      <td>PARIS 17E ARRDT</td>\n",
       "      <td>PARC CLICHY-BATIGNOLLES-MARTIN LUTHER KING</td>\n",
       "      <td>000G0037</td>\n",
       "      <td>Arbre à miel</td>\n",
       "      <td>Tetradium</td>\n",
       "      <td>daniellii</td>\n",
       "      <td>Manquante</td>\n",
       "      <td>38</td>\n",
       "      <td>0</td>\n",
       "      <td>NaN</td>\n",
       "      <td>0</td>\n",
       "      <td>48.890435</td>\n",
       "      <td>2.315289</td>\n",
       "    </tr>\n",
       "    <tr>\n",
       "      <th>...</th>\n",
       "      <td>...</td>\n",
       "      <td>...</td>\n",
       "      <td>...</td>\n",
       "      <td>...</td>\n",
       "      <td>...</td>\n",
       "      <td>...</td>\n",
       "      <td>...</td>\n",
       "      <td>...</td>\n",
       "      <td>...</td>\n",
       "      <td>...</td>\n",
       "      <td>...</td>\n",
       "      <td>...</td>\n",
       "      <td>...</td>\n",
       "      <td>...</td>\n",
       "      <td>...</td>\n",
       "    </tr>\n",
       "    <tr>\n",
       "      <th>200132</th>\n",
       "      <td>2024741</td>\n",
       "      <td>Jardin</td>\n",
       "      <td>BOIS DE VINCENNES</td>\n",
       "      <td>ARBORETUM DE L ECOLE DU BREUIL - ROUTE DE LA F...</td>\n",
       "      <td>720170151</td>\n",
       "      <td>NaN</td>\n",
       "      <td>Castanea</td>\n",
       "      <td>fargesii</td>\n",
       "      <td>Manquante</td>\n",
       "      <td>0</td>\n",
       "      <td>0</td>\n",
       "      <td>NaN</td>\n",
       "      <td>0</td>\n",
       "      <td>48.821957</td>\n",
       "      <td>2.456264</td>\n",
       "    </tr>\n",
       "    <tr>\n",
       "      <th>200133</th>\n",
       "      <td>2024742</td>\n",
       "      <td>Jardin</td>\n",
       "      <td>BOIS DE VINCENNES</td>\n",
       "      <td>ARBORETUM DE L ECOLE DU BREUIL - ROUTE DE LA F...</td>\n",
       "      <td>720170152</td>\n",
       "      <td>Arbre aux mouchoirs</td>\n",
       "      <td>Davidia</td>\n",
       "      <td>involucrata</td>\n",
       "      <td>Manquante</td>\n",
       "      <td>0</td>\n",
       "      <td>0</td>\n",
       "      <td>NaN</td>\n",
       "      <td>0</td>\n",
       "      <td>48.823254</td>\n",
       "      <td>2.457935</td>\n",
       "    </tr>\n",
       "    <tr>\n",
       "      <th>200134</th>\n",
       "      <td>2024743</td>\n",
       "      <td>Jardin</td>\n",
       "      <td>BOIS DE VINCENNES</td>\n",
       "      <td>ARBORETUM DE L ECOLE DU BREUIL - ROUTE DE LA F...</td>\n",
       "      <td>720170153</td>\n",
       "      <td>Peuplier</td>\n",
       "      <td>Populus</td>\n",
       "      <td>simonii</td>\n",
       "      <td>Manquante</td>\n",
       "      <td>0</td>\n",
       "      <td>0</td>\n",
       "      <td>NaN</td>\n",
       "      <td>0</td>\n",
       "      <td>48.822907</td>\n",
       "      <td>2.457970</td>\n",
       "    </tr>\n",
       "    <tr>\n",
       "      <th>200135</th>\n",
       "      <td>2024744</td>\n",
       "      <td>Jardin</td>\n",
       "      <td>BOIS DE VINCENNES</td>\n",
       "      <td>ARBORETUM DE L ECOLE DU BREUIL - ROUTE DE LA F...</td>\n",
       "      <td>720170154</td>\n",
       "      <td>Chêne</td>\n",
       "      <td>Quercus</td>\n",
       "      <td>n. sp.</td>\n",
       "      <td>Manquante</td>\n",
       "      <td>0</td>\n",
       "      <td>0</td>\n",
       "      <td>NaN</td>\n",
       "      <td>0</td>\n",
       "      <td>48.822522</td>\n",
       "      <td>2.455956</td>\n",
       "    </tr>\n",
       "    <tr>\n",
       "      <th>200136</th>\n",
       "      <td>2024745</td>\n",
       "      <td>Jardin</td>\n",
       "      <td>BOIS DE VINCENNES</td>\n",
       "      <td>ARBORETUM DE L ECOLE DU BREUIL - ROUTE DE LA F...</td>\n",
       "      <td>720170155</td>\n",
       "      <td>Raisinier</td>\n",
       "      <td>Hovenia</td>\n",
       "      <td>dulcis</td>\n",
       "      <td>Manquante</td>\n",
       "      <td>0</td>\n",
       "      <td>0</td>\n",
       "      <td>NaN</td>\n",
       "      <td>0</td>\n",
       "      <td>48.820445</td>\n",
       "      <td>2.454856</td>\n",
       "    </tr>\n",
       "  </tbody>\n",
       "</table>\n",
       "<p>200136 rows × 15 columns</p>\n",
       "</div>"
      ],
      "text/plain": [
       "             id domanialite     arrondissement  \\\n",
       "0         99874      Jardin     PARIS 7E ARRDT   \n",
       "1         99875      Jardin     PARIS 7E ARRDT   \n",
       "2         99876      Jardin     PARIS 7E ARRDT   \n",
       "3         99877      Jardin     PARIS 7E ARRDT   \n",
       "4         99878      Jardin    PARIS 17E ARRDT   \n",
       "...         ...         ...                ...   \n",
       "200132  2024741      Jardin  BOIS DE VINCENNES   \n",
       "200133  2024742      Jardin  BOIS DE VINCENNES   \n",
       "200134  2024743      Jardin  BOIS DE VINCENNES   \n",
       "200135  2024744      Jardin  BOIS DE VINCENNES   \n",
       "200136  2024745      Jardin  BOIS DE VINCENNES   \n",
       "\n",
       "                                                     lieu id_emplacement  \\\n",
       "0               MAIRIE DU 7E 116 RUE DE GRENELLE PARIS 7E             19   \n",
       "1               MAIRIE DU 7E 116 RUE DE GRENELLE PARIS 7E             20   \n",
       "2               MAIRIE DU 7E 116 RUE DE GRENELLE PARIS 7E             21   \n",
       "3               MAIRIE DU 7E 116 RUE DE GRENELLE PARIS 7E             22   \n",
       "4              PARC CLICHY-BATIGNOLLES-MARTIN LUTHER KING       000G0037   \n",
       "...                                                   ...            ...   \n",
       "200132  ARBORETUM DE L ECOLE DU BREUIL - ROUTE DE LA F...      720170151   \n",
       "200133  ARBORETUM DE L ECOLE DU BREUIL - ROUTE DE LA F...      720170152   \n",
       "200134  ARBORETUM DE L ECOLE DU BREUIL - ROUTE DE LA F...      720170153   \n",
       "200135  ARBORETUM DE L ECOLE DU BREUIL - ROUTE DE LA F...      720170154   \n",
       "200136  ARBORETUM DE L ECOLE DU BREUIL - ROUTE DE LA F...      720170155   \n",
       "\n",
       "           libelle_francais      genre         espece    variete  \\\n",
       "0                Marronnier   Aesculus  hippocastanum  Manquante   \n",
       "1                        If      Taxus        baccata  Manquante   \n",
       "2                        If      Taxus        baccata  Manquante   \n",
       "3                    Erable       Acer        negundo  Manquante   \n",
       "4              Arbre à miel  Tetradium      daniellii  Manquante   \n",
       "...                     ...        ...            ...        ...   \n",
       "200132                  NaN   Castanea       fargesii  Manquante   \n",
       "200133  Arbre aux mouchoirs    Davidia    involucrata  Manquante   \n",
       "200134             Peuplier    Populus        simonii  Manquante   \n",
       "200135                Chêne    Quercus         n. sp.  Manquante   \n",
       "200136            Raisinier    Hovenia         dulcis  Manquante   \n",
       "\n",
       "        circonference_cm  hauteur_m stade_developpement  remarquable  \\\n",
       "0                     20          5                 NaN            0   \n",
       "1                     65          8                   A            0   \n",
       "2                     90         10                   A            0   \n",
       "3                     60          8                   A            0   \n",
       "4                     38          0                 NaN            0   \n",
       "...                  ...        ...                 ...          ...   \n",
       "200132                 0          0                 NaN            0   \n",
       "200133                 0          0                 NaN            0   \n",
       "200134                 0          0                 NaN            0   \n",
       "200135                 0          0                 NaN            0   \n",
       "200136                 0          0                 NaN            0   \n",
       "\n",
       "        geo_point_2d_a  geo_point_2d_b  \n",
       "0            48.857620        2.320962  \n",
       "1            48.857656        2.321031  \n",
       "2            48.857705        2.321061  \n",
       "3            48.857722        2.321006  \n",
       "4            48.890435        2.315289  \n",
       "...                ...             ...  \n",
       "200132       48.821957        2.456264  \n",
       "200133       48.823254        2.457935  \n",
       "200134       48.822907        2.457970  \n",
       "200135       48.822522        2.455956  \n",
       "200136       48.820445        2.454856  \n",
       "\n",
       "[200136 rows x 15 columns]"
      ]
     },
     "execution_count": 29,
     "metadata": {},
     "output_type": "execute_result"
    }
   ],
   "source": [
    "df"
   ]
  },
  {
   "cell_type": "code",
   "execution_count": 143,
   "id": "4792fd99",
   "metadata": {},
   "outputs": [
    {
     "data": {
      "text/html": [
       "<div>\n",
       "<style scoped>\n",
       "    .dataframe tbody tr th:only-of-type {\n",
       "        vertical-align: middle;\n",
       "    }\n",
       "\n",
       "    .dataframe tbody tr th {\n",
       "        vertical-align: top;\n",
       "    }\n",
       "\n",
       "    .dataframe thead th {\n",
       "        text-align: right;\n",
       "    }\n",
       "</style>\n",
       "<table border=\"1\" class=\"dataframe\">\n",
       "  <thead>\n",
       "    <tr style=\"text-align: right;\">\n",
       "      <th></th>\n",
       "      <th>type_de_lieu</th>\n",
       "      <th>compteur</th>\n",
       "    </tr>\n",
       "  </thead>\n",
       "  <tbody>\n",
       "    <tr>\n",
       "      <th>0</th>\n",
       "      <td>CIMETIERE</td>\n",
       "      <td>31861</td>\n",
       "    </tr>\n",
       "    <tr>\n",
       "      <th>1</th>\n",
       "      <td>AVENUE</td>\n",
       "      <td>30814</td>\n",
       "    </tr>\n",
       "    <tr>\n",
       "      <th>2</th>\n",
       "      <td>RUE</td>\n",
       "      <td>28826</td>\n",
       "    </tr>\n",
       "    <tr>\n",
       "      <th>3</th>\n",
       "      <td>BOULEVARD</td>\n",
       "      <td>23736</td>\n",
       "    </tr>\n",
       "    <tr>\n",
       "      <th>4</th>\n",
       "      <td>PARC</td>\n",
       "      <td>14749</td>\n",
       "    </tr>\n",
       "    <tr>\n",
       "      <th>5</th>\n",
       "      <td>SQUARE</td>\n",
       "      <td>13040</td>\n",
       "    </tr>\n",
       "    <tr>\n",
       "      <th>6</th>\n",
       "      <td>JARDIN</td>\n",
       "      <td>9153</td>\n",
       "    </tr>\n",
       "    <tr>\n",
       "      <th>7</th>\n",
       "      <td>PLACE</td>\n",
       "      <td>7606</td>\n",
       "    </tr>\n",
       "    <tr>\n",
       "      <th>8</th>\n",
       "      <td>TALUS</td>\n",
       "      <td>5384</td>\n",
       "    </tr>\n",
       "    <tr>\n",
       "      <th>9</th>\n",
       "      <td>ROUTE</td>\n",
       "      <td>4544</td>\n",
       "    </tr>\n",
       "    <tr>\n",
       "      <th>10</th>\n",
       "      <td>QUAI</td>\n",
       "      <td>4452</td>\n",
       "    </tr>\n",
       "    <tr>\n",
       "      <th>11</th>\n",
       "      <td>ALLEE</td>\n",
       "      <td>3290</td>\n",
       "    </tr>\n",
       "    <tr>\n",
       "      <th>12</th>\n",
       "      <td>ECOLE</td>\n",
       "      <td>2816</td>\n",
       "    </tr>\n",
       "    <tr>\n",
       "      <th>13</th>\n",
       "      <td>CENTRE</td>\n",
       "      <td>1741</td>\n",
       "    </tr>\n",
       "    <tr>\n",
       "      <th>14</th>\n",
       "      <td>COURS</td>\n",
       "      <td>1547</td>\n",
       "    </tr>\n",
       "    <tr>\n",
       "      <th>15</th>\n",
       "      <td>PROMENADE</td>\n",
       "      <td>1330</td>\n",
       "    </tr>\n",
       "  </tbody>\n",
       "</table>\n",
       "</div>"
      ],
      "text/plain": [
       "   type_de_lieu  compteur\n",
       "0     CIMETIERE     31861\n",
       "1        AVENUE     30814\n",
       "2           RUE     28826\n",
       "3     BOULEVARD     23736\n",
       "4          PARC     14749\n",
       "5        SQUARE     13040\n",
       "6        JARDIN      9153\n",
       "7         PLACE      7606\n",
       "8         TALUS      5384\n",
       "9         ROUTE      4544\n",
       "10         QUAI      4452\n",
       "11        ALLEE      3290\n",
       "12        ECOLE      2816\n",
       "13       CENTRE      1741\n",
       "14        COURS      1547\n",
       "15    PROMENADE      1330"
      ]
     },
     "execution_count": 143,
     "metadata": {},
     "output_type": "execute_result"
    }
   ],
   "source": [
    "def extract_location_ml(location):\n",
    "    stopwords = set(['DU', 'DE', 'DES', 'LE', 'LA', 'LES', 'UN', 'UNE', 'ET', 'CS', 'D', 'L', 'ST', 'PTE'])\n",
    "\n",
    "    filtered_words = [word.upper() for word in re.findall(r'\\b[A-Za-z]+\\b', location) if word.upper() not in stopwords]\n",
    "    word_counts = Counter(filtered_words)\n",
    "    most_common_word = word_counts.most_common(1)\n",
    "    if most_common_word:\n",
    "        return most_common_word[0][0]\n",
    "df['type_de_lieu'] = df['lieu'].apply(extract_location_ml)\n",
    "\n",
    "lieux_fréquents_df = df.type_de_lieu.value_counts().reset_index().rename(columns={'count': 'compteur'})\n",
    "lieux_fréquents_df.head(16)"
   ]
  },
  {
   "cell_type": "markdown",
   "id": "8f4c66b3",
   "metadata": {},
   "source": [
    "On vérifie que chaque colonne du DaTaframe à bien été intégré à la démarche"
   ]
  },
  {
   "cell_type": "code",
   "execution_count": 146,
   "id": "d1a7cbf3",
   "metadata": {},
   "outputs": [
    {
     "data": {
      "text/plain": [
       "True"
      ]
     },
     "execution_count": 146,
     "metadata": {},
     "output_type": "execute_result"
    }
   ],
   "source": [
    "lieux_fréquents_df.compteur.sum() == df.shape[0]"
   ]
  },
  {
   "cell_type": "markdown",
   "id": "3f53a210",
   "metadata": {},
   "source": [
    "Testé avec plusieurs exemples et vérifications des 100 valeurs les plus communes"
   ]
  },
  {
   "cell_type": "code",
   "execution_count": 147,
   "id": "32bc5d54",
   "metadata": {},
   "outputs": [
    {
     "data": {
      "text/plain": [
       "False"
      ]
     },
     "execution_count": 147,
     "metadata": {},
     "output_type": "execute_result"
    }
   ],
   "source": [
    "'RUES' in lieux_fréquents_df.type_de_lieu.to_list()"
   ]
  },
  {
   "cell_type": "markdown",
   "id": "5774279f",
   "metadata": {},
   "source": [
    "On a bien vérifier que Counter ignore naturellement les mots au pluriel, on ne retrouve pas dans les valeurs à la fois RUE et RUES par exemple."
   ]
  },
  {
   "cell_type": "code",
   "execution_count": 149,
   "id": "43923e88",
   "metadata": {},
   "outputs": [
    {
     "data": {
      "image/png": "[encoded data removed]",
      "text/plain": [
       "<Figure size 1000x600 with 1 Axes>"
      ]
     },
     "metadata": {},
     "output_type": "display_data"
    }
   ],
   "source": [
    "plt.figure(figsize=(10, 6))\n",
    "sns.barplot(x='compteur', y='type_de_lieu', data=lieux_fréquents_df.head(16), palette='viridis', hue='type_de_lieu')\n",
    "plt.xlabel('Compteur')\n",
    "plt.ylabel('Type de lieu')\n",
    "plt.title('Compteurs de types de lieux')\n",
    "plt.show()"
   ]
  },
  {
   "cell_type": "markdown",
   "id": "69ef9225",
   "metadata": {},
   "source": [
    "Chaque genre d'arbre va avoir un espace vert de prédilection, on met à disposition des équipes un dictionnaire indiquant la domanialite dans laquelle elle est le plus présente.\n",
    "\n"
   ]
  },
  {
   "cell_type": "code",
   "execution_count": 150,
   "id": "2867bb92",
   "metadata": {},
   "outputs": [
    {
     "name": "stderr",
     "output_type": "stream",
     "text": [
      "/tmp/ipykernel_3833/2647854254.py:3: FutureWarning: \n",
      "\n",
      "Passing `palette` without assigning `hue` is deprecated and will be removed in v0.14.0. Assign the `x` variable to `hue` and set `legend=False` for the same effect.\n",
      "\n",
      "  sns.barplot(x=top_dom_per_genre.index, y=top_dom_per_genre.values, palette='icefire')\n"
     ]
    },
    {
     "data": {
      "image/png": "[encoded data removed]",
      "text/plain": [
       "<Figure size 640x480 with 1 Axes>"
      ]
     },
     "metadata": {},
     "output_type": "display_data"
    }
   ],
   "source": [
    "max_values_dict = {genre: max_value for genre, max_value in df.groupby('genre')['domanialite'].max().items()}\n",
    "top_dom_per_genre = pd.DataFrame(max_values_dict.items(), columns = ['genre', 'domanialite']).domanialite.value_counts()\n",
    "sns.barplot(x=top_dom_per_genre.index, y=top_dom_per_genre.values, palette='icefire')\n",
    "plt.title(\"Domanialite majoritaire par genre d'arbre\")\n",
    "plt.ylabel(\"nombre de genre d'arbre\")\n",
    "plt.show()"
   ]
  },
  {
   "cell_type": "markdown",
   "id": "058093c6",
   "metadata": {},
   "source": [
    "2. ***Pistes à suivre***"
   ]
  },
  {
   "cell_type": "code",
   "execution_count": null,
   "id": "e1c5de12",
   "metadata": {},
   "outputs": [],
   "source": [
    "# df.id_emplacement.value_counts()\n",
    "# Creuser 'Manquante'\n"
   ]
  },
  {
   "cell_type": "code",
   "execution_count": null,
   "id": "bc7f3e65",
   "metadata": {},
   "outputs": [],
   "source": []
  },
  {
   "cell_type": "code",
   "execution_count": null,
   "id": "c523967e",
   "metadata": {},
   "outputs": [],
   "source": []
  },
  {
   "cell_type": "code",
   "execution_count": null,
   "id": "3043f478",
   "metadata": {},
   "outputs": [],
   "source": []
  },
  {
   "cell_type": "code",
   "execution_count": null,
   "id": "efefcce8",
   "metadata": {},
   "outputs": [],
   "source": []
  },
  {
   "cell_type": "code",
   "execution_count": null,
   "id": "28cbecaa",
   "metadata": {},
   "outputs": [],
   "source": []
  },
  {
   "cell_type": "code",
   "execution_count": null,
   "id": "ce50b4a5",
   "metadata": {},
   "outputs": [],
   "source": []
  },
  {
   "cell_type": "markdown",
   "id": "fbf238c5",
   "metadata": {},
   "source": [
    "4. ***DUMP***"
   ]
  },
  {
   "cell_type": "code",
   "execution_count": null,
   "id": "c1352d61",
   "metadata": {},
   "outputs": [],
   "source": [
    "for g in df.genre.value_counts().index:\n",
    "    if df[['genre' , 'espece']][df['genre']== g]['espece'].nunique() == 1:\n",
    "        df.loc[df['genre'] == g, 'espece'] = df.loc[df['genre'] == g, 'espece'].iloc[0]\n",
    "#         df.espece = df.espece.apply(lambda x : df.genre[df.genre == g].value_counts()[0])\n",
    "\n",
    "\n",
    "# fonctionne mais ne retire qu'une espece"
   ]
  },
  {
   "cell_type": "code",
   "execution_count": 151,
   "id": "a8080ca4",
   "metadata": {},
   "outputs": [
    {
     "data": {
      "text/html": [
       "<div>\n",
       "<style scoped>\n",
       "    .dataframe tbody tr th:only-of-type {\n",
       "        vertical-align: middle;\n",
       "    }\n",
       "\n",
       "    .dataframe tbody tr th {\n",
       "        vertical-align: top;\n",
       "    }\n",
       "\n",
       "    .dataframe thead th {\n",
       "        text-align: right;\n",
       "    }\n",
       "</style>\n",
       "<table border=\"1\" class=\"dataframe\">\n",
       "  <thead>\n",
       "    <tr style=\"text-align: right;\">\n",
       "      <th></th>\n",
       "      <th>nombre_d'arbres</th>\n",
       "      <th>count</th>\n",
       "    </tr>\n",
       "  </thead>\n",
       "  <tbody>\n",
       "    <tr>\n",
       "      <th>0</th>\n",
       "      <td>CIMETIERE</td>\n",
       "      <td>31861</td>\n",
       "    </tr>\n",
       "    <tr>\n",
       "      <th>1</th>\n",
       "      <td>AVENUE</td>\n",
       "      <td>30814</td>\n",
       "    </tr>\n",
       "    <tr>\n",
       "      <th>2</th>\n",
       "      <td>RUE</td>\n",
       "      <td>28826</td>\n",
       "    </tr>\n",
       "    <tr>\n",
       "      <th>3</th>\n",
       "      <td>BOULEVARD</td>\n",
       "      <td>23736</td>\n",
       "    </tr>\n",
       "    <tr>\n",
       "      <th>4</th>\n",
       "      <td>PARC</td>\n",
       "      <td>14749</td>\n",
       "    </tr>\n",
       "    <tr>\n",
       "      <th>5</th>\n",
       "      <td>SQUARE</td>\n",
       "      <td>13040</td>\n",
       "    </tr>\n",
       "    <tr>\n",
       "      <th>6</th>\n",
       "      <td>JARDIN</td>\n",
       "      <td>9153</td>\n",
       "    </tr>\n",
       "    <tr>\n",
       "      <th>7</th>\n",
       "      <td>PLACE</td>\n",
       "      <td>7606</td>\n",
       "    </tr>\n",
       "    <tr>\n",
       "      <th>8</th>\n",
       "      <td>TALUS</td>\n",
       "      <td>5384</td>\n",
       "    </tr>\n",
       "    <tr>\n",
       "      <th>9</th>\n",
       "      <td>ROUTE</td>\n",
       "      <td>4544</td>\n",
       "    </tr>\n",
       "    <tr>\n",
       "      <th>10</th>\n",
       "      <td>QUAI</td>\n",
       "      <td>4452</td>\n",
       "    </tr>\n",
       "    <tr>\n",
       "      <th>11</th>\n",
       "      <td>ALLEE</td>\n",
       "      <td>3290</td>\n",
       "    </tr>\n",
       "    <tr>\n",
       "      <th>12</th>\n",
       "      <td>ECOLE</td>\n",
       "      <td>2816</td>\n",
       "    </tr>\n",
       "    <tr>\n",
       "      <th>13</th>\n",
       "      <td>CENTRE</td>\n",
       "      <td>1741</td>\n",
       "    </tr>\n",
       "    <tr>\n",
       "      <th>14</th>\n",
       "      <td>COURS</td>\n",
       "      <td>1547</td>\n",
       "    </tr>\n",
       "    <tr>\n",
       "      <th>15</th>\n",
       "      <td>PROMENADE</td>\n",
       "      <td>1330</td>\n",
       "    </tr>\n",
       "  </tbody>\n",
       "</table>\n",
       "</div>"
      ],
      "text/plain": [
       "   nombre_d'arbres  count\n",
       "0        CIMETIERE  31861\n",
       "1           AVENUE  30814\n",
       "2              RUE  28826\n",
       "3        BOULEVARD  23736\n",
       "4             PARC  14749\n",
       "5           SQUARE  13040\n",
       "6           JARDIN   9153\n",
       "7            PLACE   7606\n",
       "8            TALUS   5384\n",
       "9            ROUTE   4544\n",
       "10            QUAI   4452\n",
       "11           ALLEE   3290\n",
       "12           ECOLE   2816\n",
       "13          CENTRE   1741\n",
       "14           COURS   1547\n",
       "15       PROMENADE   1330"
      ]
     },
     "execution_count": 151,
     "metadata": {},
     "output_type": "execute_result"
    }
   ],
   "source": [
    "def extract_location_ml(location):\n",
    "    stopwords = set(['DU', 'DE', 'DES', 'LE', 'LA', 'LES', 'UN', 'UNE', 'ET', 'CS', 'D', 'L', 'ST', 'PTE'])\n",
    "\n",
    "    filtered_words = [word.upper() for word in re.findall(r'\\b[A-Za-z]+\\b', location) if word.upper() not in stopwords]\n",
    "    word_counts = Counter(filtered_words)\n",
    "    most_common_word = word_counts.most_common(1)\n",
    "    if most_common_word:\n",
    "        return most_common_word[0][0]\n",
    "df['type_de_lieu'] = df['lieu'].apply(extract_location_ml)\n",
    "\n",
    "lieux_fréquents_df = df.type_de_lieu.value_counts().reset_index().rename(\\\n",
    "                            columns={'index': 'type_de_lieu', 'type_de_lieu':\"nombre_d'arbres\"})\n",
    "lieux_fréquents_df.head(16)"
   ]
  },
  {
   "cell_type": "code",
   "execution_count": null,
   "id": "f7b4f3a7",
   "metadata": {},
   "outputs": [],
   "source": []
  }
 ],
 "metadata": {
  "kernelspec": {
   "display_name": "Python 3 (ipykernel)",
   "language": "python",
   "name": "python3"
  },
  "language_info": {
   "codemirror_mode": {
    "name": "ipython",
    "version": 3
   },
   "file_extension": ".py",
   "mimetype": "text/x-python",
   "name": "python",
   "nbconvert_exporter": "python",
   "pygments_lexer": "ipython3",
   "version": "3.8.12"
  },
  "toc": {
   "base_numbering": 1,
   "nav_menu": {},
   "number_sections": true,
   "sideBar": true,
   "skip_h1_title": false,
   "title_cell": "Table of Contents",
   "title_sidebar": "Contents",
   "toc_cell": false,
   "toc_position": {},
   "toc_section_display": true,
   "toc_window_display": false
  }
 },
 "nbformat": 4,
 "nbformat_minor": 5
}
