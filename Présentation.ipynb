{
 "cells": [
  {
   "cell_type": "code",
   "execution_count": 8,
   "id": "a7f68719",
   "metadata": {
    "ExecuteTime": {
     "end_time": "2024-02-14T12:35:24.353175Z",
     "start_time": "2024-02-14T12:35:24.343770Z"
    }
   },
   "outputs": [
    {
     "name": "stdout",
     "output_type": "stream",
     "text": [
      "The autoreload extension is already loaded. To reload it, use:\n",
      "  %reload_ext autoreload\n"
     ]
    }
   ],
   "source": [
    "import numpy as np\n",
    "import pandas as pd\n",
    "# import matplotlib\n",
    "# import matplotlib.pyplot as plt\n",
    "# import seaborn as sns\n",
    "%load_ext autoreload\n",
    "#%autoreload 2"
   ]
  },
  {
   "cell_type": "code",
   "execution_count": 9,
   "id": "079385fe",
   "metadata": {
    "ExecuteTime": {
     "end_time": "2024-02-14T12:35:25.306067Z",
     "start_time": "2024-02-14T12:35:24.627884Z"
    },
    "scrolled": true
   },
   "outputs": [],
   "source": [
    "df = pd.read_csv('p2-arbres-fr.csv', delimiter = ';')"
   ]
  },
  {
   "cell_type": "code",
   "execution_count": 11,
   "id": "f134860f",
   "metadata": {
    "ExecuteTime": {
     "end_time": "2024-02-14T12:36:14.089025Z",
     "start_time": "2024-02-14T12:36:14.071860Z"
    }
   },
   "outputs": [],
   "source": [
    "if 'type_emplacement' in df.columns:\n",
    "    df.drop(columns=['type_emplacement', 'numero'], inplace=True)\n",
    "    # debatable\n",
    "    df = df.dropna(subset=['domanialite'])\n",
    "    df.drop(columns=['complement_addresse'], inplace=True)\n",
    "    df.remarquable = df.remarquable.apply(lambda x : 1 if x == 1 else 0)\n",
    "    df.variete = df.variete.fillna('Manquante')\n",
    "    df['variete'] = df['variete'].apply(lambda x: x[:-1] if x.endswith(\"'\") else x)\n",
    "    \n",
    "    \n",
    "    hauteur_reccord = 31\n",
    "    circonference_reccord = 700\n",
    "\n",
    "    df_sans_outlier_hauteur = df.loc[df.hauteur_m <= hauteur_reccord, :]\n",
    "    df_sans_outlier = df_sans_outlier_hauteur.loc[df_sans_outlier_hauteur.circonference_cm <= circonference_reccord, :]\n",
    "    df_sans_outlier.head()"
   ]
  },
  {
   "cell_type": "code",
   "execution_count": null,
   "id": "9af101d9",
   "metadata": {},
   "outputs": [],
   "source": []
  }
 ],
 "metadata": {
  "kernelspec": {
   "display_name": "Python 3 (ipykernel)",
   "language": "python",
   "name": "python3"
  },
  "language_info": {
   "codemirror_mode": {
    "name": "ipython",
    "version": 3
   },
   "file_extension": ".py",
   "mimetype": "text/x-python",
   "name": "python",
   "nbconvert_exporter": "python",
   "pygments_lexer": "ipython3",
   "version": "3.8.12"
  },
  "toc": {
   "base_numbering": 1,
   "nav_menu": {},
   "number_sections": true,
   "sideBar": true,
   "skip_h1_title": false,
   "title_cell": "Table of Contents",
   "title_sidebar": "Contents",
   "toc_cell": false,
   "toc_position": {},
   "toc_section_display": true,
   "toc_window_display": false
  }
 },
 "nbformat": 4,
 "nbformat_minor": 5
}
