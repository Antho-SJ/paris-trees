{
 "cells": [
  {
   "cell_type": "markdown",
   "id": "687d7a35",
   "metadata": {},
   "source": [
    "# Projet : Paris smart-city"
   ]
  },
  {
   "cell_type": "code",
   "execution_count": 2,
   "id": "a7f68719",
   "metadata": {
    "ExecuteTime": {
     "end_time": "2024-02-15T15:48:47.253733Z",
     "start_time": "2024-02-15T15:48:47.239484Z"
    }
   },
   "outputs": [],
   "source": [
    "import numpy as np\n",
    "import pandas as pd\n",
    "import matplotlib.pyplot as plt\n",
    "import seaborn as sns\n",
    "%load_ext autoreload\n",
    "#%autoreload 2\n",
    "\n",
    "import re\n",
    "from collections import Counter"
   ]
  },
  {
   "cell_type": "code",
   "execution_count": 3,
   "id": "079385fe",
   "metadata": {
    "ExecuteTime": {
     "end_time": "2024-02-15T15:47:08.195786Z",
     "start_time": "2024-02-15T15:47:07.645589Z"
    },
    "scrolled": true
   },
   "outputs": [],
   "source": [
    "df = pd.read_csv('p2-arbres-fr.csv', delimiter = ';')"
   ]
  },
  {
   "cell_type": "markdown",
   "id": "3848d46a",
   "metadata": {},
   "source": [
    "#### 1. Présentation et nettoyage des données"
   ]
  },
  {
   "cell_type": "code",
   "execution_count": 4,
   "id": "f134860f",
   "metadata": {
    "ExecuteTime": {
     "end_time": "2024-02-15T15:47:08.444192Z",
     "start_time": "2024-02-15T15:47:08.198109Z"
    }
   },
   "outputs": [],
   "source": [
    "if 'type_emplacement' in df.columns:\n",
    "    df.drop(columns=['type_emplacement', 'numero', 'id_emplacement', 'complement_addresse'], inplace=True)\n",
    "    df.variete = df.variete.fillna('Manquante')\n",
    "    df['variete'] = df['variete'].apply(lambda x: x[:-1] if x.endswith(\"'\") else x)\n",
    "    df_brut = df.copy()\n",
    "    # debatable\n",
    "    df = df.dropna(subset=['domanialite'])\n",
    "    df.remarquable = df.remarquable.apply(lambda x : 1 if x == 1 else 0)\n",
    "\n",
    "\n",
    "\n",
    "    hauteur_reccord = 31\n",
    "    circonference_reccord = 700\n",
    "\n",
    "    df_sans_outlier_hauteur = df.loc[df.hauteur_m <= hauteur_reccord, :]\n",
    "    df_sans_outlier = df_sans_outlier_hauteur.loc[df_sans_outlier_hauteur.circonference_cm <= circonference_reccord, :]\n",
    "    df_sans_outlier.head()"
   ]
  },
  {
   "cell_type": "code",
   "execution_count": null,
   "id": "70eafe2d",
   "metadata": {},
   "outputs": [],
   "source": []
  },
  {
   "cell_type": "markdown",
   "id": "736d00fe",
   "metadata": {},
   "source": [
    "#### 2. Analyse"
   ]
  },
  {
   "cell_type": "markdown",
   "id": "42dca20a",
   "metadata": {},
   "source": [
    "* Taux d\\'arbre remarquable pour les 10 genres d\\'arbres les plus plantés dans Paris"
   ]
  },
  {
   "cell_type": "code",
   "execution_count": 5,
   "id": "9af101d9",
   "metadata": {
    "ExecuteTime": {
     "end_time": "2024-02-15T15:47:08.521413Z",
     "start_time": "2024-02-15T15:47:08.447057Z"
    }
   },
   "outputs": [
    {
     "name": "stdout",
     "output_type": "stream",
     "text": [
      "Taux d'arbre remarquable pour les 10 genres d'arbres les plus plantés dans Paris\n"
     ]
    },
    {
     "data": {
      "text/html": [
       "<div>\n",
       "<style scoped>\n",
       "    .dataframe tbody tr th:only-of-type {\n",
       "        vertical-align: middle;\n",
       "    }\n",
       "\n",
       "    .dataframe tbody tr th {\n",
       "        vertical-align: top;\n",
       "    }\n",
       "\n",
       "    .dataframe thead th {\n",
       "        text-align: right;\n",
       "    }\n",
       "</style>\n",
       "<table border=\"1\" class=\"dataframe\">\n",
       "  <thead>\n",
       "    <tr style=\"text-align: right;\">\n",
       "      <th></th>\n",
       "      <th>%</th>\n",
       "      <th>nombre d'arbre par genre</th>\n",
       "      <th>nombre d'arbre remarquable par genre</th>\n",
       "    </tr>\n",
       "    <tr>\n",
       "      <th>genre</th>\n",
       "      <th></th>\n",
       "      <th></th>\n",
       "      <th></th>\n",
       "    </tr>\n",
       "  </thead>\n",
       "  <tbody>\n",
       "    <tr>\n",
       "      <th>Platanus</th>\n",
       "      <td>0.075133</td>\n",
       "      <td>42591</td>\n",
       "      <td>32</td>\n",
       "    </tr>\n",
       "    <tr>\n",
       "      <th>Aesculus</th>\n",
       "      <td>0.039462</td>\n",
       "      <td>25341</td>\n",
       "      <td>10</td>\n",
       "    </tr>\n",
       "    <tr>\n",
       "      <th>Acer</th>\n",
       "      <td>0.032483</td>\n",
       "      <td>18471</td>\n",
       "      <td>6</td>\n",
       "    </tr>\n",
       "    <tr>\n",
       "      <th>Quercus</th>\n",
       "      <td>0.282995</td>\n",
       "      <td>3887</td>\n",
       "      <td>11</td>\n",
       "    </tr>\n",
       "    <tr>\n",
       "      <th>Corylus</th>\n",
       "      <td>0.202137</td>\n",
       "      <td>3463</td>\n",
       "      <td>7</td>\n",
       "    </tr>\n",
       "    <tr>\n",
       "      <th>Fagus</th>\n",
       "      <td>0.622084</td>\n",
       "      <td>1929</td>\n",
       "      <td>12</td>\n",
       "    </tr>\n",
       "    <tr>\n",
       "      <th>Pterocarya</th>\n",
       "      <td>0.700000</td>\n",
       "      <td>1000</td>\n",
       "      <td>7</td>\n",
       "    </tr>\n",
       "    <tr>\n",
       "      <th>Ginkgo</th>\n",
       "      <td>0.851064</td>\n",
       "      <td>940</td>\n",
       "      <td>8</td>\n",
       "    </tr>\n",
       "    <tr>\n",
       "      <th>Cedrus</th>\n",
       "      <td>0.878156</td>\n",
       "      <td>911</td>\n",
       "      <td>8</td>\n",
       "    </tr>\n",
       "    <tr>\n",
       "      <th>Diospyros</th>\n",
       "      <td>4.000000</td>\n",
       "      <td>150</td>\n",
       "      <td>6</td>\n",
       "    </tr>\n",
       "  </tbody>\n",
       "</table>\n",
       "</div>"
      ],
      "text/plain": [
       "                   %  nombre d'arbre par genre  \\\n",
       "genre                                            \n",
       "Platanus    0.075133                     42591   \n",
       "Aesculus    0.039462                     25341   \n",
       "Acer        0.032483                     18471   \n",
       "Quercus     0.282995                      3887   \n",
       "Corylus     0.202137                      3463   \n",
       "Fagus       0.622084                      1929   \n",
       "Pterocarya  0.700000                      1000   \n",
       "Ginkgo      0.851064                       940   \n",
       "Cedrus      0.878156                       911   \n",
       "Diospyros   4.000000                       150   \n",
       "\n",
       "            nombre d'arbre remarquable par genre  \n",
       "genre                                             \n",
       "Platanus                                      32  \n",
       "Aesculus                                      10  \n",
       "Acer                                           6  \n",
       "Quercus                                       11  \n",
       "Corylus                                        7  \n",
       "Fagus                                         12  \n",
       "Pterocarya                                     7  \n",
       "Ginkgo                                         8  \n",
       "Cedrus                                         8  \n",
       "Diospyros                                      6  "
      ]
     },
     "execution_count": 5,
     "metadata": {},
     "output_type": "execute_result"
    }
   ],
   "source": [
    "remarquable_per_genre_df = df.groupby(['genre'])['remarquable'].sum().sort_values(ascending=False)\n",
    "remarquable_per_genre_df = remarquable_per_genre_df[remarquable_per_genre_df>=5]\n",
    "temp_serie = df[df['genre'].isin(remarquable_per_genre_df[remarquable_per_genre_df > 0].index)]\\\n",
    ".genre.value_counts().sort_values(ascending=False)\n",
    "print('Taux d\\'arbre remarquable pour les 10 genres d\\'arbres les plus plantés dans Paris')\n",
    "\n",
    "percentage_remarquable_df = pd.DataFrame(remarquable_per_genre_df.div(temp_serie)*100, columns = ['%'],\\\n",
    "             index=temp_serie.sort_values(ascending=False).index).head(10)\n",
    "percentage_remarquable_df[\"nombre d'arbre par genre\"] = temp_serie\n",
    "percentage_remarquable_df[\"nombre d'arbre remarquable par genre\"] = remarquable_per_genre_df\n",
    "\n",
    "percentage_remarquable_df\n"
   ]
  },
  {
   "cell_type": "markdown",
   "id": "accd798d",
   "metadata": {},
   "source": [
    "L'échantillon étant très faible, le maximum d'arbre remarquable par genre d'arbre étant 32 platanes, si on veut maximiser les chances de produires des arbres remarquable à Paris il peut être intéressant de planter l'un de ces genres d'abres qui ne sont pas des cas isolés (au moins 5 instances d'arbre remarquable recensés).\n",
    "\n",
    "\n",
    "On ne peut pas se contenter de dire qu'il faut planter un maximum de Diospyros pour maximiser ces chances, les Platanus, les Quercus et les Fagus semblent semblent être préférable car l'échantillon d'arbre de ces genres présent à Paris est important et ils sont qualifiés de remarquables à une fréquence intéressante."
   ]
  },
  {
   "cell_type": "markdown",
   "id": "045742e3",
   "metadata": {},
   "source": [
    "* Domanialite / genre"
   ]
  },
  {
   "cell_type": "markdown",
   "id": "b153287f",
   "metadata": {},
   "source": [
    "Chaque genre d'arbre va avoir un espace vert de prédilection, on met à disposition des équipes un dictionnaire indiquant la domanialite dans laquelle elle est le plus présente."
   ]
  },
  {
   "cell_type": "code",
   "execution_count": 6,
   "id": "7b102509",
   "metadata": {
    "ExecuteTime": {
     "end_time": "2024-02-15T20:57:02.758934Z",
     "start_time": "2024-02-15T20:57:02.716436Z"
    }
   },
   "outputs": [
    {
     "name": "stdout",
     "output_type": "stream",
     "text": [
      "{'Abelia': 'Jardin', 'Abies': 'Jardin', 'Acacia': 'Jardin', 'Acca': 'CIMETIERE', 'Acer': 'PERIPHERIQUE'}\n"
     ]
    }
   ],
   "source": [
    "max_values_dict = {genre: max_value for genre, max_value in df.groupby('genre')['domanialite'].max().items()}\n",
    "print({i: max_values_dict[i] for i in list(max_values_dict.keys())[:5]})"
   ]
  },
  {
   "cell_type": "markdown",
   "id": "0a5284e9",
   "metadata": {},
   "source": [
    "* hauteur/circonference et stade de developpement"
   ]
  },
  {
   "cell_type": "code",
   "execution_count": 7,
   "id": "f378a146",
   "metadata": {
    "ExecuteTime": {
     "end_time": "2024-02-15T15:47:09.330821Z",
     "start_time": "2024-02-15T15:47:08.783516Z"
    },
    "scrolled": false
   },
   "outputs": [
    {
     "data": {
      "image/png": "[encoded data removed]",
      "text/plain": [
       "<Figure size 640x480 with 1 Axes>"
      ]
     },
     "metadata": {},
     "output_type": "display_data"
    }
   ],
   "source": [
    "circonference = df['circonference_cm']\n",
    "hauteur = df['hauteur_m']\n",
    "plt.boxplot([circonference, hauteur], showfliers=True)\n",
    "plt.xticks([1, 2], ['circonference (en cm)', 'hauteur (en m)'])\n",
    "plt.yscale('log')\n",
    "plt.title(\"Boîte à moustaches avec outliers\")\n",
    "plt.grid(True)\n",
    "plt.show()"
   ]
  },
  {
   "cell_type": "markdown",
   "id": "22179d0d",
   "metadata": {},
   "source": [
    "On définit le reccord de l'arbre le plus grand en taille et circonférence et on retire les valeurs au dessus"
   ]
  },
  {
   "cell_type": "code",
   "execution_count": 8,
   "id": "0390f0ea",
   "metadata": {
    "ExecuteTime": {
     "end_time": "2024-02-15T15:47:09.381774Z",
     "start_time": "2024-02-15T15:47:09.333570Z"
    }
   },
   "outputs": [],
   "source": [
    "hauteur_reccord = 31\n",
    "circonference_reccord = 700\n",
    "\n",
    "df_sans_outlier_hauteur = df.loc[df.hauteur_m <= hauteur_reccord, :]\n",
    "df_sans_outlier = df_sans_outlier_hauteur.loc[df_sans_outlier_hauteur.circonference_cm <= circonference_reccord, :]"
   ]
  },
  {
   "cell_type": "code",
   "execution_count": 9,
   "id": "32df60cf",
   "metadata": {
    "ExecuteTime": {
     "end_time": "2024-02-15T15:47:09.666889Z",
     "start_time": "2024-02-15T15:47:09.383904Z"
    },
    "scrolled": false
   },
   "outputs": [
    {
     "data": {
      "image/png": "[encoded data removed]",
      "text/plain": [
       "<Figure size 640x480 with 1 Axes>"
      ]
     },
     "metadata": {},
     "output_type": "display_data"
    }
   ],
   "source": [
    "circonference = df_sans_outlier['circonference_cm']\n",
    "hauteur = df_sans_outlier['hauteur_m']\n",
    "plt.boxplot([circonference, hauteur], showfliers=True)\n",
    "plt.xticks([1, 2], ['circonference (en cm)', 'hauteur (en m)'])\n",
    "plt.yscale('log')\n",
    "plt.title(\"Boîte à moustaches sans valeurs abérantes\")\n",
    "plt.grid(True)\n",
    "plt.show()"
   ]
  },
  {
   "cell_type": "markdown",
   "id": "a21d20d4",
   "metadata": {},
   "source": [
    "On va pouvoir maintenant se servir des données hauteur et circonférence pour établir certains processus de renouvellement des arbres."
   ]
  },
  {
   "cell_type": "code",
   "execution_count": 10,
   "id": "0072748c",
   "metadata": {
    "ExecuteTime": {
     "end_time": "2024-02-15T15:47:09.685266Z",
     "start_time": "2024-02-15T15:47:09.669335Z"
    }
   },
   "outputs": [
    {
     "name": "stdout",
     "output_type": "stream",
     "text": [
      "33.6 % de valeurs manquantes dans \"stade_developpement\"\n"
     ]
    }
   ],
   "source": [
    "print(round((1-df['stade_developpement'].dropna().shape[0]/df['stade_developpement'].shape[0])*100,1)\n",
    "      ,'% de valeurs manquantes dans \"stade_developpement\"')"
   ]
  },
  {
   "cell_type": "markdown",
   "id": "9bc7bd75",
   "metadata": {},
   "source": [
    "Il y a beaucoup de valeurs manquantes dans cette colonne, elle va être difficilement exploitable. Il faut soit établir une stratégie d'imputation pour compléter les valeurs manquantes, soit abandonner cette colonne."
   ]
  },
  {
   "cell_type": "code",
   "execution_count": 11,
   "id": "cc891248",
   "metadata": {
    "ExecuteTime": {
     "end_time": "2024-02-15T15:47:09.755177Z",
     "start_time": "2024-02-15T15:47:09.692290Z"
    }
   },
   "outputs": [
    {
     "name": "stdout",
     "output_type": "stream",
     "text": [
      "Part d'arbres remarquables parmi les différents genres.\n"
     ]
    },
    {
     "data": {
      "text/html": [
       "<div>\n",
       "<style scoped>\n",
       "    .dataframe tbody tr th:only-of-type {\n",
       "        vertical-align: middle;\n",
       "    }\n",
       "\n",
       "    .dataframe tbody tr th {\n",
       "        vertical-align: top;\n",
       "    }\n",
       "\n",
       "    .dataframe thead th {\n",
       "        text-align: right;\n",
       "    }\n",
       "</style>\n",
       "<table border=\"1\" class=\"dataframe\">\n",
       "  <thead>\n",
       "    <tr style=\"text-align: right;\">\n",
       "      <th></th>\n",
       "      <th>%</th>\n",
       "    </tr>\n",
       "    <tr>\n",
       "      <th>genre</th>\n",
       "      <th></th>\n",
       "    </tr>\n",
       "  </thead>\n",
       "  <tbody>\n",
       "    <tr>\n",
       "      <th>Platanus</th>\n",
       "      <td>0.061282</td>\n",
       "    </tr>\n",
       "    <tr>\n",
       "      <th>Aesculus</th>\n",
       "      <td>0.039537</td>\n",
       "    </tr>\n",
       "    <tr>\n",
       "      <th>Acer</th>\n",
       "      <td>0.032531</td>\n",
       "    </tr>\n",
       "    <tr>\n",
       "      <th>Sophora</th>\n",
       "      <td>0.016933</td>\n",
       "    </tr>\n",
       "    <tr>\n",
       "      <th>Pinus</th>\n",
       "      <td>0.082406</td>\n",
       "    </tr>\n",
       "    <tr>\n",
       "      <th>Celtis</th>\n",
       "      <td>0.048792</td>\n",
       "    </tr>\n",
       "    <tr>\n",
       "      <th>Quercus</th>\n",
       "      <td>0.257865</td>\n",
       "    </tr>\n",
       "    <tr>\n",
       "      <th>Corylus</th>\n",
       "      <td>0.202488</td>\n",
       "    </tr>\n",
       "    <tr>\n",
       "      <th>Ulmus</th>\n",
       "      <td>0.140713</td>\n",
       "    </tr>\n",
       "    <tr>\n",
       "      <th>Taxus</th>\n",
       "      <td>0.198413</td>\n",
       "    </tr>\n",
       "    <tr>\n",
       "      <th>Fagus</th>\n",
       "      <td>0.623701</td>\n",
       "    </tr>\n",
       "    <tr>\n",
       "      <th>Magnolia</th>\n",
       "      <td>0.264784</td>\n",
       "    </tr>\n",
       "    <tr>\n",
       "      <th>Liriodendron</th>\n",
       "      <td>0.354925</td>\n",
       "    </tr>\n",
       "    <tr>\n",
       "      <th>Pterocarya</th>\n",
       "      <td>0.700701</td>\n",
       "    </tr>\n",
       "    <tr>\n",
       "      <th>Ginkgo</th>\n",
       "      <td>0.852878</td>\n",
       "    </tr>\n",
       "    <tr>\n",
       "      <th>Cedrus</th>\n",
       "      <td>0.880088</td>\n",
       "    </tr>\n",
       "    <tr>\n",
       "      <th>Morus</th>\n",
       "      <td>0.295421</td>\n",
       "    </tr>\n",
       "    <tr>\n",
       "      <th>Catalpa</th>\n",
       "      <td>0.677966</td>\n",
       "    </tr>\n",
       "    <tr>\n",
       "      <th>Salix</th>\n",
       "      <td>0.501253</td>\n",
       "    </tr>\n",
       "    <tr>\n",
       "      <th>Zelkova</th>\n",
       "      <td>1.159420</td>\n",
       "    </tr>\n",
       "    <tr>\n",
       "      <th>Gymnocladus</th>\n",
       "      <td>0.966184</td>\n",
       "    </tr>\n",
       "    <tr>\n",
       "      <th>Diospyros</th>\n",
       "      <td>4.000000</td>\n",
       "    </tr>\n",
       "    <tr>\n",
       "      <th>Melia</th>\n",
       "      <td>2.255639</td>\n",
       "    </tr>\n",
       "    <tr>\n",
       "      <th>Ficus</th>\n",
       "      <td>3.076923</td>\n",
       "    </tr>\n",
       "    <tr>\n",
       "      <th>Calocedrus</th>\n",
       "      <td>3.125000</td>\n",
       "    </tr>\n",
       "    <tr>\n",
       "      <th>Sequoiadendron</th>\n",
       "      <td>6.666667</td>\n",
       "    </tr>\n",
       "    <tr>\n",
       "      <th>Sequoia</th>\n",
       "      <td>4.255319</td>\n",
       "    </tr>\n",
       "    <tr>\n",
       "      <th>Taxodium</th>\n",
       "      <td>8.000000</td>\n",
       "    </tr>\n",
       "    <tr>\n",
       "      <th>Eucommia</th>\n",
       "      <td>28.571429</td>\n",
       "    </tr>\n",
       "  </tbody>\n",
       "</table>\n",
       "</div>"
      ],
      "text/plain": [
       "                        %\n",
       "genre                    \n",
       "Platanus         0.061282\n",
       "Aesculus         0.039537\n",
       "Acer             0.032531\n",
       "Sophora          0.016933\n",
       "Pinus            0.082406\n",
       "Celtis           0.048792\n",
       "Quercus          0.257865\n",
       "Corylus          0.202488\n",
       "Ulmus            0.140713\n",
       "Taxus            0.198413\n",
       "Fagus            0.623701\n",
       "Magnolia         0.264784\n",
       "Liriodendron     0.354925\n",
       "Pterocarya       0.700701\n",
       "Ginkgo           0.852878\n",
       "Cedrus           0.880088\n",
       "Morus            0.295421\n",
       "Catalpa          0.677966\n",
       "Salix            0.501253\n",
       "Zelkova          1.159420\n",
       "Gymnocladus      0.966184\n",
       "Diospyros        4.000000\n",
       "Melia            2.255639\n",
       "Ficus            3.076923\n",
       "Calocedrus       3.125000\n",
       "Sequoiadendron   6.666667\n",
       "Sequoia          4.255319\n",
       "Taxodium         8.000000\n",
       "Eucommia        28.571429"
      ]
     },
     "execution_count": 11,
     "metadata": {},
     "output_type": "execute_result"
    }
   ],
   "source": [
    "remarquable_per_genre_df = df_sans_outlier.groupby(['genre'])['remarquable'].sum().sort_values(ascending=False)\n",
    "remarquable_per_genre_df = remarquable_per_genre_df[remarquable_per_genre_df>1]\n",
    "temp_serie = df_sans_outlier[df_sans_outlier['genre'].isin(remarquable_per_genre_df[remarquable_per_genre_df > 0].index)]\\\n",
    ".genre.value_counts().sort_values()\n",
    "print(\"Part d'arbres remarquables parmi les différents genres.\")\n",
    "\n",
    "pd.DataFrame(remarquable_per_genre_df.div(temp_serie)*100, columns = ['%'],\\\n",
    "             index=temp_serie.sort_values(ascending=False).index)"
   ]
  },
  {
   "cell_type": "markdown",
   "id": "50c9d098",
   "metadata": {},
   "source": [
    "On va appliquer une méthode d'imputation pour les cinq premiers arbres de la liste ci-dessus. En effet les arbres remarquables faussent les stats, il est donc préférable d'étudier un échantillon avec un faible taux d'arbres remarquables."
   ]
  },
  {
   "cell_type": "code",
   "execution_count": 12,
   "id": "4bcfd7b8",
   "metadata": {
    "ExecuteTime": {
     "end_time": "2024-02-15T15:47:09.766222Z",
     "start_time": "2024-02-15T15:47:09.758162Z"
    }
   },
   "outputs": [],
   "source": [
    "def attribuer_stade_arbre(espece, taille, circonference):\n",
    "    if espece == 'Platanus':\n",
    "        if taille <= 10:\n",
    "            return 'J'\n",
    "        elif 10 < taille <= 20:\n",
    "            return 'JA'\n",
    "        elif 20 < taille <= 25:\n",
    "            return 'A'\n",
    "        else:\n",
    "            return 'M'\n",
    "    elif espece == 'Aesculus':\n",
    "        if taille <= 10 and circonference <= 100:\n",
    "            return 'J'\n",
    "        elif 10 < taille <= 20 and 60 < circonference <= 200:\n",
    "            return 'JA'\n",
    "        elif 15 < taille <= 35 and 100 < circonference <= 400:\n",
    "            return 'A'\n",
    "        else:\n",
    "            return 'M'\n",
    "    elif espece == 'Acer' or espece == 'Sophora':\n",
    "        if taille <= 8 and circonference <= 30:\n",
    "            return 'J'\n",
    "        elif 8 < taille <= 15 and 30 < circonference <= 100:\n",
    "            return 'JA'\n",
    "        elif 15 < taille <= 25 and 100 < circonference <= 200:\n",
    "            return 'A'\n",
    "        else:\n",
    "            return 'M'\n",
    "    elif espece == 'Pinus':\n",
    "        if taille <= 5 and circonference <= 15:\n",
    "            return 'J'\n",
    "        elif 5 < taille <= 15 and 15 < circonference <= 30:\n",
    "            return 'JA'\n",
    "        elif 15 < taille <= 45 and 30 < circonference <= 100:\n",
    "            return 'A'\n",
    "        else:\n",
    "            return 'M'\n"
   ]
  },
  {
   "cell_type": "code",
   "execution_count": 13,
   "id": "152962e8",
   "metadata": {
    "ExecuteTime": {
     "end_time": "2024-02-15T15:47:12.476948Z",
     "start_time": "2024-02-15T15:47:09.768704Z"
    }
   },
   "outputs": [],
   "source": [
    "df2 = df.copy()\n",
    "df2['stade_developpement'] = df2.apply(lambda row: attribuer_stade_arbre(row['genre'], row['hauteur_m'], row['circonference_cm']), axis=1)"
   ]
  },
  {
   "cell_type": "markdown",
   "id": "54d274f9",
   "metadata": {},
   "source": [
    "* Analyse de la colonne lieu"
   ]
  },
  {
   "cell_type": "code",
   "execution_count": 14,
   "id": "3dbdd982",
   "metadata": {
    "ExecuteTime": {
     "end_time": "2024-02-15T20:15:31.792592Z",
     "start_time": "2024-02-15T20:15:30.780876Z"
    }
   },
   "outputs": [
    {
     "data": {
      "text/html": [
       "<div>\n",
       "<style scoped>\n",
       "    .dataframe tbody tr th:only-of-type {\n",
       "        vertical-align: middle;\n",
       "    }\n",
       "\n",
       "    .dataframe tbody tr th {\n",
       "        vertical-align: top;\n",
       "    }\n",
       "\n",
       "    .dataframe thead th {\n",
       "        text-align: right;\n",
       "    }\n",
       "</style>\n",
       "<table border=\"1\" class=\"dataframe\">\n",
       "  <thead>\n",
       "    <tr style=\"text-align: right;\">\n",
       "      <th></th>\n",
       "      <th>type_de_lieu</th>\n",
       "      <th>nombre_d'arbres</th>\n",
       "    </tr>\n",
       "  </thead>\n",
       "  <tbody>\n",
       "    <tr>\n",
       "      <th>0</th>\n",
       "      <td>CIMETIERE</td>\n",
       "      <td>31861</td>\n",
       "    </tr>\n",
       "    <tr>\n",
       "      <th>1</th>\n",
       "      <td>AVENUE</td>\n",
       "      <td>30814</td>\n",
       "    </tr>\n",
       "    <tr>\n",
       "      <th>2</th>\n",
       "      <td>RUE</td>\n",
       "      <td>28826</td>\n",
       "    </tr>\n",
       "    <tr>\n",
       "      <th>3</th>\n",
       "      <td>BOULEVARD</td>\n",
       "      <td>23736</td>\n",
       "    </tr>\n",
       "    <tr>\n",
       "      <th>4</th>\n",
       "      <td>PARC</td>\n",
       "      <td>14749</td>\n",
       "    </tr>\n",
       "    <tr>\n",
       "      <th>5</th>\n",
       "      <td>SQUARE</td>\n",
       "      <td>13040</td>\n",
       "    </tr>\n",
       "    <tr>\n",
       "      <th>6</th>\n",
       "      <td>JARDIN</td>\n",
       "      <td>9153</td>\n",
       "    </tr>\n",
       "    <tr>\n",
       "      <th>7</th>\n",
       "      <td>PLACE</td>\n",
       "      <td>7606</td>\n",
       "    </tr>\n",
       "    <tr>\n",
       "      <th>8</th>\n",
       "      <td>TALUS</td>\n",
       "      <td>5384</td>\n",
       "    </tr>\n",
       "    <tr>\n",
       "      <th>9</th>\n",
       "      <td>ROUTE</td>\n",
       "      <td>4544</td>\n",
       "    </tr>\n",
       "    <tr>\n",
       "      <th>10</th>\n",
       "      <td>QUAI</td>\n",
       "      <td>4452</td>\n",
       "    </tr>\n",
       "    <tr>\n",
       "      <th>11</th>\n",
       "      <td>ALLEE</td>\n",
       "      <td>3290</td>\n",
       "    </tr>\n",
       "    <tr>\n",
       "      <th>12</th>\n",
       "      <td>ECOLE</td>\n",
       "      <td>2816</td>\n",
       "    </tr>\n",
       "    <tr>\n",
       "      <th>13</th>\n",
       "      <td>CENTRE</td>\n",
       "      <td>1741</td>\n",
       "    </tr>\n",
       "    <tr>\n",
       "      <th>14</th>\n",
       "      <td>COURS</td>\n",
       "      <td>1547</td>\n",
       "    </tr>\n",
       "    <tr>\n",
       "      <th>15</th>\n",
       "      <td>PROMENADE</td>\n",
       "      <td>1330</td>\n",
       "    </tr>\n",
       "  </tbody>\n",
       "</table>\n",
       "</div>"
      ],
      "text/plain": [
       "   type_de_lieu  nombre_d'arbres\n",
       "0     CIMETIERE            31861\n",
       "1        AVENUE            30814\n",
       "2           RUE            28826\n",
       "3     BOULEVARD            23736\n",
       "4          PARC            14749\n",
       "5        SQUARE            13040\n",
       "6        JARDIN             9153\n",
       "7         PLACE             7606\n",
       "8         TALUS             5384\n",
       "9         ROUTE             4544\n",
       "10         QUAI             4452\n",
       "11        ALLEE             3290\n",
       "12        ECOLE             2816\n",
       "13       CENTRE             1741\n",
       "14        COURS             1547\n",
       "15    PROMENADE             1330"
      ]
     },
     "execution_count": 14,
     "metadata": {},
     "output_type": "execute_result"
    }
   ],
   "source": [
    "def extract_location_ml(location):\n",
    "    stopwords = set(['DU', 'DE', 'DES', 'LE', 'LA', 'LES', 'UN', 'UNE', 'ET', 'CS', 'D', 'L', 'ST', 'PTE'])\n",
    "\n",
    "    filtered_words = [word.upper() for word in re.findall(r'\\b[A-Za-z]+\\b', location) if word.upper() not in stopwords]\n",
    "    word_counts = Counter(filtered_words)\n",
    "    most_common_word = word_counts.most_common(1)\n",
    "    if most_common_word:\n",
    "        return most_common_word[0][0]\n",
    "df['type_de_lieu'] = df['lieu'].apply(extract_location_ml)\n",
    "\n",
    "lieux_fréquents_df = df.type_de_lieu.value_counts().reset_index().rename(\\\n",
    "                            columns={'count':\"nombre_d'arbres\"})\n",
    "lieux_fréquents_df.head(16)"
   ]
  },
  {
   "cell_type": "markdown",
   "id": "e0fe8917",
   "metadata": {},
   "source": [
    "On vérifie que chaque arbre du DaTaframe à bien été intégré à la démarche"
   ]
  },
  {
   "cell_type": "code",
   "execution_count": 15,
   "id": "f3a47fac",
   "metadata": {
    "ExecuteTime": {
     "end_time": "2024-02-15T20:15:31.802339Z",
     "start_time": "2024-02-15T20:15:31.795245Z"
    },
    "scrolled": true
   },
   "outputs": [
    {
     "data": {
      "text/plain": [
       "True"
      ]
     },
     "execution_count": 15,
     "metadata": {},
     "output_type": "execute_result"
    }
   ],
   "source": [
    "lieux_fréquents_df[\"nombre_d'arbres\"].sum() == df.shape[0]"
   ]
  },
  {
   "cell_type": "markdown",
   "id": "1e5ac54e",
   "metadata": {},
   "source": [
    "Testé avec plusieurs exemples et vérification des 100 valeurs les plus communes"
   ]
  },
  {
   "cell_type": "code",
   "execution_count": 16,
   "id": "e6999094",
   "metadata": {
    "ExecuteTime": {
     "end_time": "2024-02-15T20:42:34.327584Z",
     "start_time": "2024-02-15T20:42:34.321443Z"
    }
   },
   "outputs": [
    {
     "data": {
      "text/plain": [
       "False"
      ]
     },
     "execution_count": 16,
     "metadata": {},
     "output_type": "execute_result"
    }
   ],
   "source": [
    "'RUES' in lieux_fréquents_df.type_de_lieu.to_list()"
   ]
  },
  {
   "cell_type": "markdown",
   "id": "816f4c61",
   "metadata": {},
   "source": [
    "On a bien vérifier que Counter ignore naturellement les mots au pluriel, on ne retrouve pas dans les valeurs à la fois RUE et RUES par exemple."
   ]
  },
  {
   "cell_type": "code",
   "execution_count": 17,
   "id": "ade00778",
   "metadata": {
    "ExecuteTime": {
     "end_time": "2024-02-15T20:54:12.044326Z",
     "start_time": "2024-02-15T20:54:11.872069Z"
    }
   },
   "outputs": [
    {
     "data": {
      "image/png": "[encoded data removed]",
      "text/plain": [
       "<Figure size 1000x600 with 1 Axes>"
      ]
     },
     "metadata": {},
     "output_type": "display_data"
    }
   ],
   "source": [
    "plt.figure(figsize=(10, 6))\n",
    "sns.barplot(x=\"nombre_d'arbres\", y='type_de_lieu', data=lieux_fréquents_df.head(16), hue='type_de_lieu', palette='viridis')\n",
    "plt.xlabel(\"Nombre d'arbres\")\n",
    "plt.ylabel('Type de lieu')\n",
    "plt.title(\"Nombre d'arbres par type de lieu\")\n",
    "plt.show()"
   ]
  }
 ],
 "metadata": {
  "kernelspec": {
   "display_name": "Python 3 (ipykernel)",
   "language": "python",
   "name": "python3"
  },
  "language_info": {
   "codemirror_mode": {
    "name": "ipython",
    "version": 3
   },
   "file_extension": ".py",
   "mimetype": "text/x-python",
   "name": "python",
   "nbconvert_exporter": "python",
   "pygments_lexer": "ipython3",
   "version": "3.8.12"
  },
  "toc": {
   "base_numbering": 1,
   "nav_menu": {},
   "number_sections": true,
   "sideBar": true,
   "skip_h1_title": false,
   "title_cell": "Table of Contents",
   "title_sidebar": "Contents",
   "toc_cell": false,
   "toc_position": {},
   "toc_section_display": true,
   "toc_window_display": false
  }
 },
 "nbformat": 4,
 "nbformat_minor": 5
}
